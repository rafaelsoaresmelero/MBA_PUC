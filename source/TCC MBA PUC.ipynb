{
 "cells": [
  {
   "cell_type": "markdown",
   "id": "b35635af-e6c0-4f54-83e6-78c346cf9d15",
   "metadata": {},
   "source": [
    "# Análise de Índices Macroeconômicos para Sugestionamento de Pilar de Investimento"
   ]
  },
  {
   "cell_type": "markdown",
   "id": "7fed9917-389f-431e-98e6-cde5b652d403",
   "metadata": {},
   "source": [
    "## Instalação/Referência de bibliotecas utilizadas"
   ]
  },
  {
   "cell_type": "code",
   "execution_count": 1,
   "id": "00cd3907-5d11-49ca-b378-526627f602fd",
   "metadata": {
    "jupyter": {
     "source_hidden": true
    }
   },
   "outputs": [
    {
     "name": "stdout",
     "output_type": "stream",
     "text": [
      "Requirement already satisfied: pandas in c:\\users\\rafael.melero\\miniconda3\\lib\\site-packages (1.3.3)\n",
      "Requirement already satisfied: numpy>=1.17.3 in c:\\users\\rafael.melero\\miniconda3\\lib\\site-packages (from pandas) (1.21.2)\n",
      "Requirement already satisfied: pytz>=2017.3 in c:\\users\\rafael.melero\\miniconda3\\lib\\site-packages (from pandas) (2021.1)\n",
      "Requirement already satisfied: python-dateutil>=2.7.3 in c:\\users\\rafael.melero\\miniconda3\\lib\\site-packages (from pandas) (2.8.2)\n",
      "Requirement already satisfied: six>=1.5 in c:\\users\\rafael.melero\\miniconda3\\lib\\site-packages (from python-dateutil>=2.7.3->pandas) (1.15.0)\n"
     ]
    }
   ],
   "source": [
    "!pip install pandas"
   ]
  },
  {
   "cell_type": "code",
   "execution_count": 2,
   "id": "4959f35d-e310-4d73-b38f-a10f0aa0426e",
   "metadata": {
    "jupyter": {
     "source_hidden": true
    }
   },
   "outputs": [],
   "source": [
    "import pandas as pd\n",
    "import datetime"
   ]
  },
  {
   "cell_type": "markdown",
   "id": "8a43c611-9c0f-419c-bcbf-6a6fce7d67d4",
   "metadata": {},
   "source": [
    "## Importação e tratativa inicial dos dados"
   ]
  },
  {
   "cell_type": "markdown",
   "id": "79ea3ed9-1e87-4810-b7e5-2200549db91f",
   "metadata": {},
   "source": [
    "### Taxas"
   ]
  },
  {
   "cell_type": "markdown",
   "id": "5f0a1366-f1a4-467d-852f-733fde18d473",
   "metadata": {},
   "source": [
    "#### Taxa Selic"
   ]
  },
  {
   "cell_type": "code",
   "execution_count": 3,
   "id": "431b1a0a-91e7-49fe-87f1-a874ccd3a624",
   "metadata": {
    "jupyter": {
     "source_hidden": true
    },
    "tags": []
   },
   "outputs": [],
   "source": [
    "selic = pd.read_csv('dados/Selic.csv',sep=';')"
   ]
  },
  {
   "cell_type": "code",
   "execution_count": 4,
   "id": "0aa7bae4-58cb-4f67-b6c1-f68b62371e18",
   "metadata": {
    "jupyter": {
     "source_hidden": true
    },
    "tags": []
   },
   "outputs": [
    {
     "data": {
      "text/plain": [
       "Data     object\n",
       "Valor    object\n",
       "dtype: object"
      ]
     },
     "execution_count": 4,
     "metadata": {},
     "output_type": "execute_result"
    }
   ],
   "source": [
    "selic.dtypes"
   ]
  },
  {
   "cell_type": "code",
   "execution_count": 5,
   "id": "b6c61976-bbed-43cd-98d1-de8c806b2b59",
   "metadata": {
    "jupyter": {
     "source_hidden": true
    },
    "tags": []
   },
   "outputs": [
    {
     "data": {
      "text/html": [
       "<div>\n",
       "<style scoped>\n",
       "    .dataframe tbody tr th:only-of-type {\n",
       "        vertical-align: middle;\n",
       "    }\n",
       "\n",
       "    .dataframe tbody tr th {\n",
       "        vertical-align: top;\n",
       "    }\n",
       "\n",
       "    .dataframe thead th {\n",
       "        text-align: right;\n",
       "    }\n",
       "</style>\n",
       "<table border=\"1\" class=\"dataframe\">\n",
       "  <thead>\n",
       "    <tr style=\"text-align: right;\">\n",
       "      <th></th>\n",
       "      <th>Data</th>\n",
       "      <th>Valor</th>\n",
       "    </tr>\n",
       "  </thead>\n",
       "  <tbody>\n",
       "    <tr>\n",
       "      <th>0</th>\n",
       "      <td>01/01/2010</td>\n",
       "      <td>8,75</td>\n",
       "    </tr>\n",
       "  </tbody>\n",
       "</table>\n",
       "</div>"
      ],
      "text/plain": [
       "         Data Valor\n",
       "0  01/01/2010  8,75"
      ]
     },
     "execution_count": 5,
     "metadata": {},
     "output_type": "execute_result"
    }
   ],
   "source": [
    "selic.head(1)"
   ]
  },
  {
   "cell_type": "code",
   "execution_count": 6,
   "id": "7533542a-3015-4aa4-bff9-5d05057c34c3",
   "metadata": {
    "tags": []
   },
   "outputs": [],
   "source": [
    "#Padronizando a nomenclatura das colunas\n",
    "selic.rename(columns={'Data' : 'DATA_PREGAO', 'Valor' : 'SELIC'}, inplace = True)\n",
    "\n",
    "#Padronizando a coluna DATA_PREGAO\n",
    "selic['DATA_PREGAO'] = pd.to_datetime(selic['DATA_PREGAO'], format=\"%d/%m/%Y\")\n",
    "\n",
    "#Padronizando a coluna de valor\n",
    "selic['SELIC'] = selic['SELIC'].apply(lambda x: x.replace(',', '.'))\n",
    "selic['SELIC'] = pd.to_numeric(selic['SELIC'], downcast='float')\n",
    "\n",
    "#Criando índice\n",
    "selic.set_index('DATA_PREGAO', inplace=True)"
   ]
  },
  {
   "cell_type": "code",
   "execution_count": 7,
   "id": "3b4183d2-9daf-4da1-914e-b915669ed2aa",
   "metadata": {
    "tags": []
   },
   "outputs": [
    {
     "data": {
      "text/plain": [
       "SELIC    float32\n",
       "dtype: object"
      ]
     },
     "execution_count": 7,
     "metadata": {},
     "output_type": "execute_result"
    }
   ],
   "source": [
    "selic.dtypes"
   ]
  },
  {
   "cell_type": "code",
   "execution_count": 8,
   "id": "f698ede7-18a2-4b06-bab9-62d1e8f3ef32",
   "metadata": {
    "tags": []
   },
   "outputs": [
    {
     "data": {
      "text/html": [
       "<div>\n",
       "<style scoped>\n",
       "    .dataframe tbody tr th:only-of-type {\n",
       "        vertical-align: middle;\n",
       "    }\n",
       "\n",
       "    .dataframe tbody tr th {\n",
       "        vertical-align: top;\n",
       "    }\n",
       "\n",
       "    .dataframe thead th {\n",
       "        text-align: right;\n",
       "    }\n",
       "</style>\n",
       "<table border=\"1\" class=\"dataframe\">\n",
       "  <thead>\n",
       "    <tr style=\"text-align: right;\">\n",
       "      <th></th>\n",
       "      <th>SELIC</th>\n",
       "    </tr>\n",
       "    <tr>\n",
       "      <th>DATA_PREGAO</th>\n",
       "      <th></th>\n",
       "    </tr>\n",
       "  </thead>\n",
       "  <tbody>\n",
       "    <tr>\n",
       "      <th>2010-01-01</th>\n",
       "      <td>8.75</td>\n",
       "    </tr>\n",
       "  </tbody>\n",
       "</table>\n",
       "</div>"
      ],
      "text/plain": [
       "             SELIC\n",
       "DATA_PREGAO       \n",
       "2010-01-01    8.75"
      ]
     },
     "execution_count": 8,
     "metadata": {},
     "output_type": "execute_result"
    }
   ],
   "source": [
    "selic.head(1)"
   ]
  },
  {
   "cell_type": "markdown",
   "id": "6e478c2a-b816-4127-aa28-c0798c222202",
   "metadata": {},
   "source": [
    "#### Taxa Câmbio: Dólar"
   ]
  },
  {
   "cell_type": "code",
   "execution_count": 9,
   "id": "204342dd-6df1-4c7b-82d6-a554c6591572",
   "metadata": {
    "jupyter": {
     "source_hidden": true
    },
    "tags": []
   },
   "outputs": [],
   "source": [
    "dolar = pd.read_csv('dados/Dolar.csv', sep=';',dtype='str')"
   ]
  },
  {
   "cell_type": "code",
   "execution_count": 10,
   "id": "2b39a123-57cd-481a-bf4a-9a654da56467",
   "metadata": {
    "jupyter": {
     "source_hidden": true
    }
   },
   "outputs": [
    {
     "data": {
      "text/plain": [
       "DATA       object\n",
       "COLUNA1    object\n",
       "COLUNA2    object\n",
       "TIPO       object\n",
       "COMPRA     object\n",
       "VENDA      object\n",
       "COLUNA3    object\n",
       "COLUNA4    object\n",
       "COLUNA5    object\n",
       "dtype: object"
      ]
     },
     "execution_count": 10,
     "metadata": {},
     "output_type": "execute_result"
    }
   ],
   "source": [
    "dolar.dtypes"
   ]
  },
  {
   "cell_type": "code",
   "execution_count": 11,
   "id": "8dbe7632-0773-4a28-8041-0041d4606dc2",
   "metadata": {
    "jupyter": {
     "source_hidden": true
    },
    "tags": []
   },
   "outputs": [
    {
     "data": {
      "text/html": [
       "<div>\n",
       "<style scoped>\n",
       "    .dataframe tbody tr th:only-of-type {\n",
       "        vertical-align: middle;\n",
       "    }\n",
       "\n",
       "    .dataframe tbody tr th {\n",
       "        vertical-align: top;\n",
       "    }\n",
       "\n",
       "    .dataframe thead th {\n",
       "        text-align: right;\n",
       "    }\n",
       "</style>\n",
       "<table border=\"1\" class=\"dataframe\">\n",
       "  <thead>\n",
       "    <tr style=\"text-align: right;\">\n",
       "      <th></th>\n",
       "      <th>DATA</th>\n",
       "      <th>COLUNA1</th>\n",
       "      <th>COLUNA2</th>\n",
       "      <th>TIPO</th>\n",
       "      <th>COMPRA</th>\n",
       "      <th>VENDA</th>\n",
       "      <th>COLUNA3</th>\n",
       "      <th>COLUNA4</th>\n",
       "      <th>COLUNA5</th>\n",
       "    </tr>\n",
       "  </thead>\n",
       "  <tbody>\n",
       "    <tr>\n",
       "      <th>0</th>\n",
       "      <td>04012010</td>\n",
       "      <td>220</td>\n",
       "      <td>A</td>\n",
       "      <td>USD</td>\n",
       "      <td>1,7232</td>\n",
       "      <td>1,7240</td>\n",
       "      <td>1,0000</td>\n",
       "      <td>1,0000</td>\n",
       "      <td>NaN</td>\n",
       "    </tr>\n",
       "  </tbody>\n",
       "</table>\n",
       "</div>"
      ],
      "text/plain": [
       "       DATA COLUNA1 COLUNA2 TIPO  COMPRA   VENDA COLUNA3 COLUNA4 COLUNA5\n",
       "0  04012010     220       A  USD  1,7232  1,7240  1,0000  1,0000     NaN"
      ]
     },
     "execution_count": 11,
     "metadata": {},
     "output_type": "execute_result"
    }
   ],
   "source": [
    "dolar.head(1)"
   ]
  },
  {
   "cell_type": "code",
   "execution_count": 12,
   "id": "bdec6dae-bb1e-4bba-924d-c75816049c0a",
   "metadata": {
    "tags": []
   },
   "outputs": [],
   "source": [
    "#Padronizando a nomenclatura das colunas\n",
    "dolar.rename(columns={'DATA' : 'DATA_PREGAO', 'COMPRA' : 'DOLAR'}, inplace = True)\n",
    "\n",
    "#Removendo colunas desnecessárias\n",
    "dolar.drop(['COLUNA1', 'COLUNA2', 'TIPO', 'VENDA', 'COLUNA3', 'COLUNA4', 'COLUNA5'], inplace=True, axis=1)\n",
    "\n",
    "#Padronizando a coluna DATA_PREGAO\n",
    "dolar['DATA_PREGAO'] = dolar['DATA_PREGAO'].apply(lambda x: x[0:2] + '/' + x[2:4] + '/' + x[4:])\n",
    "dolar['DATA_PREGAO'] = pd.to_datetime(dolar['DATA_PREGAO'], format=\"%d/%m/%Y\")\n",
    "\n",
    "#Padronizando a coluna de valor\n",
    "dolar['DOLAR'] = dolar['DOLAR'].apply(lambda x: x.replace(',', '.'))\n",
    "dolar['DOLAR'] = pd.to_numeric(dolar['DOLAR'], downcast='float')\n",
    "\n",
    "#Criando índice\n",
    "dolar.set_index('DATA_PREGAO', inplace=True)"
   ]
  },
  {
   "cell_type": "code",
   "execution_count": 13,
   "id": "5461a9b4-f291-4976-9a1d-7cb49451333d",
   "metadata": {
    "tags": []
   },
   "outputs": [
    {
     "data": {
      "text/plain": [
       "DOLAR    float32\n",
       "dtype: object"
      ]
     },
     "execution_count": 13,
     "metadata": {},
     "output_type": "execute_result"
    }
   ],
   "source": [
    "dolar.dtypes"
   ]
  },
  {
   "cell_type": "code",
   "execution_count": 14,
   "id": "e9c3f010-72f6-4dd3-8226-1c123886301c",
   "metadata": {
    "jupyter": {
     "source_hidden": true
    },
    "tags": []
   },
   "outputs": [
    {
     "data": {
      "text/html": [
       "<div>\n",
       "<style scoped>\n",
       "    .dataframe tbody tr th:only-of-type {\n",
       "        vertical-align: middle;\n",
       "    }\n",
       "\n",
       "    .dataframe tbody tr th {\n",
       "        vertical-align: top;\n",
       "    }\n",
       "\n",
       "    .dataframe thead th {\n",
       "        text-align: right;\n",
       "    }\n",
       "</style>\n",
       "<table border=\"1\" class=\"dataframe\">\n",
       "  <thead>\n",
       "    <tr style=\"text-align: right;\">\n",
       "      <th></th>\n",
       "      <th>DOLAR</th>\n",
       "    </tr>\n",
       "    <tr>\n",
       "      <th>DATA_PREGAO</th>\n",
       "      <th></th>\n",
       "    </tr>\n",
       "  </thead>\n",
       "  <tbody>\n",
       "    <tr>\n",
       "      <th>2010-01-04</th>\n",
       "      <td>1.7232</td>\n",
       "    </tr>\n",
       "  </tbody>\n",
       "</table>\n",
       "</div>"
      ],
      "text/plain": [
       "              DOLAR\n",
       "DATA_PREGAO        \n",
       "2010-01-04   1.7232"
      ]
     },
     "execution_count": 14,
     "metadata": {},
     "output_type": "execute_result"
    }
   ],
   "source": [
    "dolar.head(1)"
   ]
  },
  {
   "cell_type": "markdown",
   "id": "017c92e6-2288-4b5c-8a5e-4848a2a319f4",
   "metadata": {
    "tags": []
   },
   "source": [
    "### Commodities"
   ]
  },
  {
   "cell_type": "markdown",
   "id": "74642fa2-1cd3-4d06-9e1f-aea46bce074f",
   "metadata": {
    "tags": []
   },
   "source": [
    "#### Minério de Ferro Refinado"
   ]
  },
  {
   "cell_type": "code",
   "execution_count": 15,
   "id": "fe4c90e6-4124-4e0e-84d8-3ef5a32a4eb0",
   "metadata": {
    "jupyter": {
     "source_hidden": true
    },
    "tags": []
   },
   "outputs": [],
   "source": [
    "ferro = pd.read_csv('dados/Minerio_Ferro.csv', sep=',')"
   ]
  },
  {
   "cell_type": "code",
   "execution_count": 16,
   "id": "89f78bcf-106c-4311-8abd-fb6852bd2d5a",
   "metadata": {
    "jupyter": {
     "source_hidden": true
    }
   },
   "outputs": [
    {
     "data": {
      "text/plain": [
       "Data        object\n",
       "Último      object\n",
       "Abertura    object\n",
       "Máxima      object\n",
       "Mínima      object\n",
       "Vol.        object\n",
       "Var%        object\n",
       "dtype: object"
      ]
     },
     "execution_count": 16,
     "metadata": {},
     "output_type": "execute_result"
    }
   ],
   "source": [
    "ferro.dtypes"
   ]
  },
  {
   "cell_type": "code",
   "execution_count": 17,
   "id": "b8efd1a5-6df4-4756-a15e-246f99109622",
   "metadata": {
    "jupyter": {
     "source_hidden": true
    }
   },
   "outputs": [
    {
     "data": {
      "text/html": [
       "<div>\n",
       "<style scoped>\n",
       "    .dataframe tbody tr th:only-of-type {\n",
       "        vertical-align: middle;\n",
       "    }\n",
       "\n",
       "    .dataframe tbody tr th {\n",
       "        vertical-align: top;\n",
       "    }\n",
       "\n",
       "    .dataframe thead th {\n",
       "        text-align: right;\n",
       "    }\n",
       "</style>\n",
       "<table border=\"1\" class=\"dataframe\">\n",
       "  <thead>\n",
       "    <tr style=\"text-align: right;\">\n",
       "      <th></th>\n",
       "      <th>Data</th>\n",
       "      <th>Último</th>\n",
       "      <th>Abertura</th>\n",
       "      <th>Máxima</th>\n",
       "      <th>Mínima</th>\n",
       "      <th>Vol.</th>\n",
       "      <th>Var%</th>\n",
       "    </tr>\n",
       "  </thead>\n",
       "  <tbody>\n",
       "    <tr>\n",
       "      <th>0</th>\n",
       "      <td>31.12.2020</td>\n",
       "      <td>155,84</td>\n",
       "      <td>155,84</td>\n",
       "      <td>155,84</td>\n",
       "      <td>155,84</td>\n",
       "      <td>-</td>\n",
       "      <td>0,09%</td>\n",
       "    </tr>\n",
       "  </tbody>\n",
       "</table>\n",
       "</div>"
      ],
      "text/plain": [
       "         Data  Último Abertura  Máxima  Mínima Vol.   Var%\n",
       "0  31.12.2020  155,84   155,84  155,84  155,84    -  0,09%"
      ]
     },
     "execution_count": 17,
     "metadata": {},
     "output_type": "execute_result"
    }
   ],
   "source": [
    "ferro.head(1)"
   ]
  },
  {
   "cell_type": "code",
   "execution_count": 18,
   "id": "ece01174-fe1f-494c-91c4-4e1f642247d2",
   "metadata": {
    "tags": []
   },
   "outputs": [],
   "source": [
    "#Padronizando a nomenclatura das colunas\n",
    "ferro.rename(columns={'Data' : 'DATA_PREGAO', 'Último' : 'FERRO'}, inplace = True)\n",
    "\n",
    "#Removendo colunas desnecessárias\n",
    "ferro.drop(['Abertura', 'Máxima', 'Mínima', 'Vol.', 'Var%'], inplace=True, axis=1)\n",
    "\n",
    "#Padronizando a coluna DATA_PREGAO\n",
    "ferro['DATA_PREGAO'] = ferro['DATA_PREGAO'].apply(lambda x: x.replace('.', '/'))\n",
    "ferro['DATA_PREGAO'] = pd.to_datetime(ferro['DATA_PREGAO'], format=\"%d/%m/%Y\")\n",
    "\n",
    "#Padronizando a coluna de valor\n",
    "ferro['FERRO'] = ferro['FERRO'].apply(lambda x: x.replace(',', '.'))\n",
    "ferro['FERRO'] = pd.to_numeric(ferro['FERRO'], downcast='float')\n",
    "\n",
    "#Criando índice\n",
    "ferro.set_index('DATA_PREGAO', inplace=True)"
   ]
  },
  {
   "cell_type": "code",
   "execution_count": 19,
   "id": "f6694f87-c457-4b53-bf52-3eb501c10e27",
   "metadata": {
    "jupyter": {
     "source_hidden": true
    }
   },
   "outputs": [
    {
     "data": {
      "text/plain": [
       "FERRO    float32\n",
       "dtype: object"
      ]
     },
     "execution_count": 19,
     "metadata": {},
     "output_type": "execute_result"
    }
   ],
   "source": [
    "ferro.dtypes"
   ]
  },
  {
   "cell_type": "code",
   "execution_count": 20,
   "id": "c620bac3-fbca-4e1f-8c0d-5066b8bcb1da",
   "metadata": {
    "jupyter": {
     "source_hidden": true
    }
   },
   "outputs": [
    {
     "data": {
      "text/html": [
       "<div>\n",
       "<style scoped>\n",
       "    .dataframe tbody tr th:only-of-type {\n",
       "        vertical-align: middle;\n",
       "    }\n",
       "\n",
       "    .dataframe tbody tr th {\n",
       "        vertical-align: top;\n",
       "    }\n",
       "\n",
       "    .dataframe thead th {\n",
       "        text-align: right;\n",
       "    }\n",
       "</style>\n",
       "<table border=\"1\" class=\"dataframe\">\n",
       "  <thead>\n",
       "    <tr style=\"text-align: right;\">\n",
       "      <th></th>\n",
       "      <th>FERRO</th>\n",
       "    </tr>\n",
       "    <tr>\n",
       "      <th>DATA_PREGAO</th>\n",
       "      <th></th>\n",
       "    </tr>\n",
       "  </thead>\n",
       "  <tbody>\n",
       "    <tr>\n",
       "      <th>2020-12-31</th>\n",
       "      <td>155.839996</td>\n",
       "    </tr>\n",
       "  </tbody>\n",
       "</table>\n",
       "</div>"
      ],
      "text/plain": [
       "                  FERRO\n",
       "DATA_PREGAO            \n",
       "2020-12-31   155.839996"
      ]
     },
     "execution_count": 20,
     "metadata": {},
     "output_type": "execute_result"
    }
   ],
   "source": [
    "ferro.head(1)"
   ]
  },
  {
   "cell_type": "markdown",
   "id": "00ca283c-3c78-46b2-bcd8-f9dd0d1776ce",
   "metadata": {},
   "source": [
    "#### Petróleo Brent Futuros"
   ]
  },
  {
   "cell_type": "code",
   "execution_count": 21,
   "id": "bb7dc36f-bcf5-46c5-9fb1-138bf0fbf34f",
   "metadata": {
    "jupyter": {
     "source_hidden": true
    }
   },
   "outputs": [],
   "source": [
    "petroleo = pd.read_csv('dados/Petroleo_Brent.csv', sep=',')"
   ]
  },
  {
   "cell_type": "code",
   "execution_count": 22,
   "id": "60f894a0-448a-4421-a5f6-5040b8663063",
   "metadata": {
    "jupyter": {
     "source_hidden": true
    }
   },
   "outputs": [
    {
     "data": {
      "text/plain": [
       "Data        object\n",
       "Último      object\n",
       "Abertura    object\n",
       "Máxima      object\n",
       "Mínima      object\n",
       "Vol.        object\n",
       "Var%        object\n",
       "dtype: object"
      ]
     },
     "execution_count": 22,
     "metadata": {},
     "output_type": "execute_result"
    }
   ],
   "source": [
    "petroleo.dtypes"
   ]
  },
  {
   "cell_type": "code",
   "execution_count": 23,
   "id": "5a027bc6-4aee-4727-b0ed-7d73338957af",
   "metadata": {
    "jupyter": {
     "source_hidden": true
    }
   },
   "outputs": [
    {
     "data": {
      "text/html": [
       "<div>\n",
       "<style scoped>\n",
       "    .dataframe tbody tr th:only-of-type {\n",
       "        vertical-align: middle;\n",
       "    }\n",
       "\n",
       "    .dataframe tbody tr th {\n",
       "        vertical-align: top;\n",
       "    }\n",
       "\n",
       "    .dataframe thead th {\n",
       "        text-align: right;\n",
       "    }\n",
       "</style>\n",
       "<table border=\"1\" class=\"dataframe\">\n",
       "  <thead>\n",
       "    <tr style=\"text-align: right;\">\n",
       "      <th></th>\n",
       "      <th>Data</th>\n",
       "      <th>Último</th>\n",
       "      <th>Abertura</th>\n",
       "      <th>Máxima</th>\n",
       "      <th>Mínima</th>\n",
       "      <th>Vol.</th>\n",
       "      <th>Var%</th>\n",
       "    </tr>\n",
       "  </thead>\n",
       "  <tbody>\n",
       "    <tr>\n",
       "      <th>0</th>\n",
       "      <td>31.12.2020</td>\n",
       "      <td>51,80</td>\n",
       "      <td>51,49</td>\n",
       "      <td>51,84</td>\n",
       "      <td>50,90</td>\n",
       "      <td>133,22K</td>\n",
       "      <td>0,90%</td>\n",
       "    </tr>\n",
       "  </tbody>\n",
       "</table>\n",
       "</div>"
      ],
      "text/plain": [
       "         Data Último Abertura Máxima Mínima     Vol.   Var%\n",
       "0  31.12.2020  51,80    51,49  51,84  50,90  133,22K  0,90%"
      ]
     },
     "execution_count": 23,
     "metadata": {},
     "output_type": "execute_result"
    }
   ],
   "source": [
    "petroleo.head(1)"
   ]
  },
  {
   "cell_type": "code",
   "execution_count": 24,
   "id": "3b463505-0b2c-4608-99d9-c5b68a055e4a",
   "metadata": {
    "tags": []
   },
   "outputs": [],
   "source": [
    "#Padronizando a nomenclatura das colunas\n",
    "petroleo.rename(columns={'Data' : 'DATA_PREGAO', 'Último' : 'PETROLEO', 'Vol.' : 'PETROLEO_VOLUME'}, inplace = True)\n",
    "\n",
    "#Removendo colunas desnecessárias\n",
    "petroleo.drop(['Abertura', 'Máxima', 'Mínima', 'Var%'], inplace=True, axis=1)\n",
    "\n",
    "#Padronizando a coluna DATA_PREGAO\n",
    "petroleo['DATA_PREGAO'] = petroleo['DATA_PREGAO'].apply(lambda x: x.replace('.', '/'))\n",
    "petroleo['DATA_PREGAO'] = pd.to_datetime(petroleo['DATA_PREGAO'], format=\"%d/%m/%Y\")\n",
    "\n",
    "#Padronizando a coluna de valor\n",
    "petroleo['PETROLEO'] = petroleo['PETROLEO'].apply(lambda x: x.replace(',', '.'))\n",
    "petroleo['PETROLEO'] = pd.to_numeric(petroleo['PETROLEO'], downcast='float')\n",
    "\n",
    "#Tratando o Volume\n",
    "#    Verificando a contagem de registros que não tem o K\n",
    "petroleo[~petroleo['PETROLEO_VOLUME'].str.contains(\"K\")].count()\n",
    "#    Substituindo o Valor - por 0 e o K multiplicado por 1.000\n",
    "petroleo['PETROLEO_VOLUME'] = petroleo['PETROLEO_VOLUME'].apply(lambda x: float(x.replace('-', '0').replace(',', '.').replace('K', ''))*1000)  \n",
    "\n",
    "#Criando índice\n",
    "petroleo.set_index('DATA_PREGAO', inplace=True)"
   ]
  },
  {
   "cell_type": "code",
   "execution_count": 25,
   "id": "3bfed9d5-7b58-419d-be82-8043e155b44f",
   "metadata": {
    "jupyter": {
     "source_hidden": true
    }
   },
   "outputs": [
    {
     "data": {
      "text/plain": [
       "PETROLEO           float32\n",
       "PETROLEO_VOLUME    float64\n",
       "dtype: object"
      ]
     },
     "execution_count": 25,
     "metadata": {},
     "output_type": "execute_result"
    }
   ],
   "source": [
    "petroleo.dtypes"
   ]
  },
  {
   "cell_type": "code",
   "execution_count": 26,
   "id": "8c15d128-65c7-4850-91d6-041cab192d64",
   "metadata": {
    "jupyter": {
     "source_hidden": true
    }
   },
   "outputs": [
    {
     "data": {
      "text/html": [
       "<div>\n",
       "<style scoped>\n",
       "    .dataframe tbody tr th:only-of-type {\n",
       "        vertical-align: middle;\n",
       "    }\n",
       "\n",
       "    .dataframe tbody tr th {\n",
       "        vertical-align: top;\n",
       "    }\n",
       "\n",
       "    .dataframe thead th {\n",
       "        text-align: right;\n",
       "    }\n",
       "</style>\n",
       "<table border=\"1\" class=\"dataframe\">\n",
       "  <thead>\n",
       "    <tr style=\"text-align: right;\">\n",
       "      <th></th>\n",
       "      <th>PETROLEO</th>\n",
       "      <th>PETROLEO_VOLUME</th>\n",
       "    </tr>\n",
       "    <tr>\n",
       "      <th>DATA_PREGAO</th>\n",
       "      <th></th>\n",
       "      <th></th>\n",
       "    </tr>\n",
       "  </thead>\n",
       "  <tbody>\n",
       "    <tr>\n",
       "      <th>2020-12-31</th>\n",
       "      <td>51.799999</td>\n",
       "      <td>133220.0</td>\n",
       "    </tr>\n",
       "  </tbody>\n",
       "</table>\n",
       "</div>"
      ],
      "text/plain": [
       "              PETROLEO  PETROLEO_VOLUME\n",
       "DATA_PREGAO                            \n",
       "2020-12-31   51.799999         133220.0"
      ]
     },
     "execution_count": 26,
     "metadata": {},
     "output_type": "execute_result"
    }
   ],
   "source": [
    "petroleo.head(1)"
   ]
  },
  {
   "cell_type": "markdown",
   "id": "e60dc726-77be-4d3d-b414-7bd69d582f98",
   "metadata": {},
   "source": [
    "#### Ouro"
   ]
  },
  {
   "cell_type": "code",
   "execution_count": 27,
   "id": "28b6f88b-1e05-417f-9fdc-0b670304d9f9",
   "metadata": {
    "jupyter": {
     "source_hidden": true
    }
   },
   "outputs": [],
   "source": [
    "ouro = pd.read_csv('dados/Ouro.csv', sep=',')"
   ]
  },
  {
   "cell_type": "code",
   "execution_count": 28,
   "id": "7bc354b7-d359-4337-87a9-4f3b36010942",
   "metadata": {
    "jupyter": {
     "source_hidden": true
    }
   },
   "outputs": [
    {
     "data": {
      "text/plain": [
       "Data        object\n",
       "Último      object\n",
       "Abertura    object\n",
       "Máxima      object\n",
       "Mínima      object\n",
       "Vol.        object\n",
       "Var%        object\n",
       "dtype: object"
      ]
     },
     "execution_count": 28,
     "metadata": {},
     "output_type": "execute_result"
    }
   ],
   "source": [
    "ouro.dtypes"
   ]
  },
  {
   "cell_type": "code",
   "execution_count": 29,
   "id": "3a6242e3-36d7-4dbb-b74b-52b0c07af47a",
   "metadata": {
    "jupyter": {
     "source_hidden": true
    }
   },
   "outputs": [
    {
     "data": {
      "text/html": [
       "<div>\n",
       "<style scoped>\n",
       "    .dataframe tbody tr th:only-of-type {\n",
       "        vertical-align: middle;\n",
       "    }\n",
       "\n",
       "    .dataframe tbody tr th {\n",
       "        vertical-align: top;\n",
       "    }\n",
       "\n",
       "    .dataframe thead th {\n",
       "        text-align: right;\n",
       "    }\n",
       "</style>\n",
       "<table border=\"1\" class=\"dataframe\">\n",
       "  <thead>\n",
       "    <tr style=\"text-align: right;\">\n",
       "      <th></th>\n",
       "      <th>Data</th>\n",
       "      <th>Último</th>\n",
       "      <th>Abertura</th>\n",
       "      <th>Máxima</th>\n",
       "      <th>Mínima</th>\n",
       "      <th>Vol.</th>\n",
       "      <th>Var%</th>\n",
       "    </tr>\n",
       "  </thead>\n",
       "  <tbody>\n",
       "    <tr>\n",
       "      <th>0</th>\n",
       "      <td>31.12.2020</td>\n",
       "      <td>1.905,80</td>\n",
       "      <td>1.910,00</td>\n",
       "      <td>1.915,20</td>\n",
       "      <td>1.902,90</td>\n",
       "      <td>0,73K</td>\n",
       "      <td>0,09%</td>\n",
       "    </tr>\n",
       "  </tbody>\n",
       "</table>\n",
       "</div>"
      ],
      "text/plain": [
       "         Data    Último  Abertura    Máxima    Mínima   Vol.   Var%\n",
       "0  31.12.2020  1.905,80  1.910,00  1.915,20  1.902,90  0,73K  0,09%"
      ]
     },
     "execution_count": 29,
     "metadata": {},
     "output_type": "execute_result"
    }
   ],
   "source": [
    "ouro.head(1)"
   ]
  },
  {
   "cell_type": "code",
   "execution_count": 30,
   "id": "1ecadf34-9c71-4959-b7ca-50f7e7fded9c",
   "metadata": {
    "tags": []
   },
   "outputs": [],
   "source": [
    "#Padronizando a nomenclatura das colunas\n",
    "ouro.rename(columns={'Data' : 'DATA_PREGAO', 'Último' : 'OURO', 'Vol.' : 'OURO_VOLUME'}, inplace = True)\n",
    "\n",
    "#Removendo colunas desnecessárias\n",
    "ouro.drop(['Abertura', 'Máxima', 'Mínima', 'Var%'], inplace=True, axis=1)\n",
    "\n",
    "#Padronizando a coluna DATA_PREGAO\n",
    "ouro['DATA_PREGAO'] = ouro['DATA_PREGAO'].apply(lambda x: x.replace('.', '/'))\n",
    "ouro['DATA_PREGAO'] = pd.to_datetime(ouro['DATA_PREGAO'], format=\"%d/%m/%Y\")\n",
    "\n",
    "#Padronizando a coluna de valor\n",
    "ouro['OURO'] = ouro['OURO'].apply(lambda x: x.replace('.', '').replace(',', '.'))\n",
    "ouro['OURO'] = pd.to_numeric(ouro['OURO'], downcast='float')\n",
    "\n",
    "#Tratando o Volume\n",
    "ouro['OURO_VOLUME'] = ouro['OURO_VOLUME'].apply(lambda x: x.replace('-', '0'))\n",
    "#    Verificando a contagem de registros que não tem o K ou 0\n",
    "ouro[(~ouro['OURO_VOLUME'].str.contains('0')) & (~ouro['OURO_VOLUME'].str.contains('K'))].count()\n",
    "#    Substituindo o Valor K multiplicado por 1.000\n",
    "ouro['OURO_VOLUME'] = ouro['OURO_VOLUME'].apply(lambda x: float(x.replace(',', '.').replace('K', ''))*1000)  \n",
    "\n",
    "#Criando índice\n",
    "ouro.set_index('DATA_PREGAO', inplace=True)"
   ]
  },
  {
   "cell_type": "code",
   "execution_count": 31,
   "id": "ea4543ed-ede1-4402-8585-818a2a502dae",
   "metadata": {
    "jupyter": {
     "source_hidden": true
    }
   },
   "outputs": [
    {
     "data": {
      "text/plain": [
       "OURO           float32\n",
       "OURO_VOLUME    float64\n",
       "dtype: object"
      ]
     },
     "execution_count": 31,
     "metadata": {},
     "output_type": "execute_result"
    }
   ],
   "source": [
    "ouro.dtypes"
   ]
  },
  {
   "cell_type": "code",
   "execution_count": 32,
   "id": "47ba8031-fd52-4991-8665-ad1852ee91cf",
   "metadata": {
    "jupyter": {
     "source_hidden": true
    }
   },
   "outputs": [
    {
     "data": {
      "text/html": [
       "<div>\n",
       "<style scoped>\n",
       "    .dataframe tbody tr th:only-of-type {\n",
       "        vertical-align: middle;\n",
       "    }\n",
       "\n",
       "    .dataframe tbody tr th {\n",
       "        vertical-align: top;\n",
       "    }\n",
       "\n",
       "    .dataframe thead th {\n",
       "        text-align: right;\n",
       "    }\n",
       "</style>\n",
       "<table border=\"1\" class=\"dataframe\">\n",
       "  <thead>\n",
       "    <tr style=\"text-align: right;\">\n",
       "      <th></th>\n",
       "      <th>OURO</th>\n",
       "      <th>OURO_VOLUME</th>\n",
       "    </tr>\n",
       "    <tr>\n",
       "      <th>DATA_PREGAO</th>\n",
       "      <th></th>\n",
       "      <th></th>\n",
       "    </tr>\n",
       "  </thead>\n",
       "  <tbody>\n",
       "    <tr>\n",
       "      <th>2020-12-31</th>\n",
       "      <td>1905.800049</td>\n",
       "      <td>730.0</td>\n",
       "    </tr>\n",
       "  </tbody>\n",
       "</table>\n",
       "</div>"
      ],
      "text/plain": [
       "                    OURO  OURO_VOLUME\n",
       "DATA_PREGAO                          \n",
       "2020-12-31   1905.800049        730.0"
      ]
     },
     "execution_count": 32,
     "metadata": {},
     "output_type": "execute_result"
    }
   ],
   "source": [
    "ouro.head(1)"
   ]
  },
  {
   "cell_type": "markdown",
   "id": "47dd3787-9128-4b6e-81a8-b78504462331",
   "metadata": {},
   "source": [
    "### Índices"
   ]
  },
  {
   "cell_type": "markdown",
   "id": "aea131ce-2e36-4cdd-bd28-d5892225e8ff",
   "metadata": {},
   "source": [
    "#### Índice Bovespa"
   ]
  },
  {
   "cell_type": "code",
   "execution_count": 33,
   "id": "a04d30f4-1739-438d-a7ec-491e89476275",
   "metadata": {
    "jupyter": {
     "source_hidden": true
    }
   },
   "outputs": [],
   "source": [
    "bovespa = pd.read_csv('dados/Indice_Bovespa.csv')"
   ]
  },
  {
   "cell_type": "code",
   "execution_count": 34,
   "id": "4e77f47d-4bf7-4f58-b1fd-67c4295b8db6",
   "metadata": {
    "jupyter": {
     "source_hidden": true
    }
   },
   "outputs": [
    {
     "data": {
      "text/plain": [
       "Date          object\n",
       "Open         float64\n",
       "High         float64\n",
       "Low          float64\n",
       "Close        float64\n",
       "Adj Close    float64\n",
       "Volume       float64\n",
       "dtype: object"
      ]
     },
     "execution_count": 34,
     "metadata": {},
     "output_type": "execute_result"
    }
   ],
   "source": [
    "bovespa.dtypes"
   ]
  },
  {
   "cell_type": "code",
   "execution_count": 35,
   "id": "3ba3b1f0-e16c-478b-9520-b5a991087639",
   "metadata": {
    "jupyter": {
     "source_hidden": true
    }
   },
   "outputs": [
    {
     "data": {
      "text/html": [
       "<div>\n",
       "<style scoped>\n",
       "    .dataframe tbody tr th:only-of-type {\n",
       "        vertical-align: middle;\n",
       "    }\n",
       "\n",
       "    .dataframe tbody tr th {\n",
       "        vertical-align: top;\n",
       "    }\n",
       "\n",
       "    .dataframe thead th {\n",
       "        text-align: right;\n",
       "    }\n",
       "</style>\n",
       "<table border=\"1\" class=\"dataframe\">\n",
       "  <thead>\n",
       "    <tr style=\"text-align: right;\">\n",
       "      <th></th>\n",
       "      <th>Date</th>\n",
       "      <th>Open</th>\n",
       "      <th>High</th>\n",
       "      <th>Low</th>\n",
       "      <th>Close</th>\n",
       "      <th>Adj Close</th>\n",
       "      <th>Volume</th>\n",
       "    </tr>\n",
       "  </thead>\n",
       "  <tbody>\n",
       "    <tr>\n",
       "      <th>0</th>\n",
       "      <td>2010-01-04</td>\n",
       "      <td>68587.0</td>\n",
       "      <td>70081.0</td>\n",
       "      <td>68587.0</td>\n",
       "      <td>70045.0</td>\n",
       "      <td>70045.0</td>\n",
       "      <td>1655400.0</td>\n",
       "    </tr>\n",
       "  </tbody>\n",
       "</table>\n",
       "</div>"
      ],
      "text/plain": [
       "         Date     Open     High      Low    Close  Adj Close     Volume\n",
       "0  2010-01-04  68587.0  70081.0  68587.0  70045.0    70045.0  1655400.0"
      ]
     },
     "execution_count": 35,
     "metadata": {},
     "output_type": "execute_result"
    }
   ],
   "source": [
    "bovespa.head(1)"
   ]
  },
  {
   "cell_type": "code",
   "execution_count": 36,
   "id": "ce77ccb4-9e85-4a53-8c47-add8e39533d5",
   "metadata": {
    "tags": []
   },
   "outputs": [],
   "source": [
    "#Padronizando a nomenclatura das colunas\n",
    "bovespa.rename(columns={'Date' : 'DATA_PREGAO', 'Close' : 'BOVESPA', 'Volume' : 'BOVESPA_VOLUME'}, inplace = True)\n",
    "\n",
    "#Removendo colunas desnecessárias\n",
    "bovespa.drop(['Open', 'High', 'Low', 'Adj Close'], inplace=True, axis=1)\n",
    "\n",
    "#Padronizando a coluna DATA_PREGAO\n",
    "bovespa['DATA_PREGAO'] = pd.to_datetime(bovespa['DATA_PREGAO'])\n",
    "\n",
    "#Padronizando a coluna de VALOR\n",
    "bovespa['BOVESPA'] = bovespa['BOVESPA'].apply(lambda x: float(x))  \n",
    "\n",
    "#Padronizando a coluna de VOLUME\n",
    "bovespa['BOVESPA_VOLUME'] = bovespa['BOVESPA_VOLUME'].apply(lambda x: float(x))  \n",
    "\n",
    "#Criando índice\n",
    "bovespa.set_index('DATA_PREGAO', inplace=True)"
   ]
  },
  {
   "cell_type": "code",
   "execution_count": 37,
   "id": "c838edf9-691a-4ed4-b512-fcf6f061e07c",
   "metadata": {
    "jupyter": {
     "source_hidden": true
    }
   },
   "outputs": [
    {
     "data": {
      "text/plain": [
       "BOVESPA           float64\n",
       "BOVESPA_VOLUME    float64\n",
       "dtype: object"
      ]
     },
     "execution_count": 37,
     "metadata": {},
     "output_type": "execute_result"
    }
   ],
   "source": [
    "bovespa.dtypes"
   ]
  },
  {
   "cell_type": "code",
   "execution_count": 38,
   "id": "333be03d-fc69-41ff-b42d-9912c8ff294d",
   "metadata": {
    "jupyter": {
     "source_hidden": true
    }
   },
   "outputs": [
    {
     "data": {
      "text/html": [
       "<div>\n",
       "<style scoped>\n",
       "    .dataframe tbody tr th:only-of-type {\n",
       "        vertical-align: middle;\n",
       "    }\n",
       "\n",
       "    .dataframe tbody tr th {\n",
       "        vertical-align: top;\n",
       "    }\n",
       "\n",
       "    .dataframe thead th {\n",
       "        text-align: right;\n",
       "    }\n",
       "</style>\n",
       "<table border=\"1\" class=\"dataframe\">\n",
       "  <thead>\n",
       "    <tr style=\"text-align: right;\">\n",
       "      <th></th>\n",
       "      <th>BOVESPA</th>\n",
       "      <th>BOVESPA_VOLUME</th>\n",
       "    </tr>\n",
       "    <tr>\n",
       "      <th>DATA_PREGAO</th>\n",
       "      <th></th>\n",
       "      <th></th>\n",
       "    </tr>\n",
       "  </thead>\n",
       "  <tbody>\n",
       "    <tr>\n",
       "      <th>2010-01-04</th>\n",
       "      <td>70045.0</td>\n",
       "      <td>1655400.0</td>\n",
       "    </tr>\n",
       "  </tbody>\n",
       "</table>\n",
       "</div>"
      ],
      "text/plain": [
       "             BOVESPA  BOVESPA_VOLUME\n",
       "DATA_PREGAO                         \n",
       "2010-01-04   70045.0       1655400.0"
      ]
     },
     "execution_count": 38,
     "metadata": {},
     "output_type": "execute_result"
    }
   ],
   "source": [
    "bovespa.head(1)"
   ]
  },
  {
   "cell_type": "markdown",
   "id": "15c7ed5e-e3c2-43b3-bd05-dcca3a6bd67f",
   "metadata": {},
   "source": [
    "#### Índice S&P 500"
   ]
  },
  {
   "cell_type": "code",
   "execution_count": 39,
   "id": "44e4b120-dece-4eef-9f3a-f8aaa187493c",
   "metadata": {
    "jupyter": {
     "source_hidden": true
    }
   },
   "outputs": [],
   "source": [
    "sp500 = pd.read_csv('dados/Indice_S&P500.csv')"
   ]
  },
  {
   "cell_type": "code",
   "execution_count": 40,
   "id": "596bdea2-3320-4671-929e-7bdab7af1403",
   "metadata": {
    "jupyter": {
     "source_hidden": true
    }
   },
   "outputs": [
    {
     "data": {
      "text/plain": [
       "Data        object\n",
       "Último      object\n",
       "Abertura    object\n",
       "Máxima      object\n",
       "Mínima      object\n",
       "Vol.        object\n",
       "Var%        object\n",
       "dtype: object"
      ]
     },
     "execution_count": 40,
     "metadata": {},
     "output_type": "execute_result"
    }
   ],
   "source": [
    "sp500.dtypes"
   ]
  },
  {
   "cell_type": "code",
   "execution_count": 41,
   "id": "caf68c10-fcf0-4b63-8116-a2d01874d23d",
   "metadata": {
    "jupyter": {
     "source_hidden": true
    }
   },
   "outputs": [
    {
     "data": {
      "text/html": [
       "<div>\n",
       "<style scoped>\n",
       "    .dataframe tbody tr th:only-of-type {\n",
       "        vertical-align: middle;\n",
       "    }\n",
       "\n",
       "    .dataframe tbody tr th {\n",
       "        vertical-align: top;\n",
       "    }\n",
       "\n",
       "    .dataframe thead th {\n",
       "        text-align: right;\n",
       "    }\n",
       "</style>\n",
       "<table border=\"1\" class=\"dataframe\">\n",
       "  <thead>\n",
       "    <tr style=\"text-align: right;\">\n",
       "      <th></th>\n",
       "      <th>Data</th>\n",
       "      <th>Último</th>\n",
       "      <th>Abertura</th>\n",
       "      <th>Máxima</th>\n",
       "      <th>Mínima</th>\n",
       "      <th>Vol.</th>\n",
       "      <th>Var%</th>\n",
       "    </tr>\n",
       "  </thead>\n",
       "  <tbody>\n",
       "    <tr>\n",
       "      <th>0</th>\n",
       "      <td>31.12.2020</td>\n",
       "      <td>3.756,07</td>\n",
       "      <td>3.733,27</td>\n",
       "      <td>3.760,20</td>\n",
       "      <td>3.726,88</td>\n",
       "      <td>-</td>\n",
       "      <td>0,64%</td>\n",
       "    </tr>\n",
       "  </tbody>\n",
       "</table>\n",
       "</div>"
      ],
      "text/plain": [
       "         Data    Último  Abertura    Máxima    Mínima Vol.   Var%\n",
       "0  31.12.2020  3.756,07  3.733,27  3.760,20  3.726,88    -  0,64%"
      ]
     },
     "execution_count": 41,
     "metadata": {},
     "output_type": "execute_result"
    }
   ],
   "source": [
    "sp500.head(1)"
   ]
  },
  {
   "cell_type": "code",
   "execution_count": 42,
   "id": "565cec2c-79bb-4927-a5a7-3d84b44dd62e",
   "metadata": {
    "tags": []
   },
   "outputs": [],
   "source": [
    "#Padronizando a nomenclatura das colunas\n",
    "sp500.rename(columns={'Data' : 'DATA_PREGAO', 'Último' : 'SP500'}, inplace = True)\n",
    "\n",
    "#Removendo colunas desnecessárias\n",
    "sp500.drop(['Abertura', 'Máxima', 'Mínima', 'Var%', 'Vol.'], inplace=True, axis=1)\n",
    "\n",
    "#Padronizando a coluna DATA_PREGAO\n",
    "sp500['DATA_PREGAO'] = sp500['DATA_PREGAO'].apply(lambda x: x.replace('.', '/'))\n",
    "sp500['DATA_PREGAO'] = pd.to_datetime(sp500['DATA_PREGAO'], format=\"%d/%m/%Y\")\n",
    "\n",
    "#Padronizando a coluna de VALOR\n",
    "sp500['SP500'] = sp500['SP500'].apply(lambda x: float(x.replace('.', '').replace(',', '.')))  \n",
    "\n",
    "#Criando índice\n",
    "sp500.set_index('DATA_PREGAO', inplace=True)"
   ]
  },
  {
   "cell_type": "code",
   "execution_count": 43,
   "id": "02c3d806-dd97-4800-8a71-96009c2d5428",
   "metadata": {
    "jupyter": {
     "source_hidden": true
    }
   },
   "outputs": [
    {
     "data": {
      "text/plain": [
       "SP500    float64\n",
       "dtype: object"
      ]
     },
     "execution_count": 43,
     "metadata": {},
     "output_type": "execute_result"
    }
   ],
   "source": [
    "sp500.dtypes"
   ]
  },
  {
   "cell_type": "code",
   "execution_count": 44,
   "id": "5c8777ad-6e4e-45ac-bd17-dcac342c9b50",
   "metadata": {
    "jupyter": {
     "source_hidden": true
    }
   },
   "outputs": [
    {
     "data": {
      "text/html": [
       "<div>\n",
       "<style scoped>\n",
       "    .dataframe tbody tr th:only-of-type {\n",
       "        vertical-align: middle;\n",
       "    }\n",
       "\n",
       "    .dataframe tbody tr th {\n",
       "        vertical-align: top;\n",
       "    }\n",
       "\n",
       "    .dataframe thead th {\n",
       "        text-align: right;\n",
       "    }\n",
       "</style>\n",
       "<table border=\"1\" class=\"dataframe\">\n",
       "  <thead>\n",
       "    <tr style=\"text-align: right;\">\n",
       "      <th></th>\n",
       "      <th>SP500</th>\n",
       "    </tr>\n",
       "    <tr>\n",
       "      <th>DATA_PREGAO</th>\n",
       "      <th></th>\n",
       "    </tr>\n",
       "  </thead>\n",
       "  <tbody>\n",
       "    <tr>\n",
       "      <th>2020-12-31</th>\n",
       "      <td>3756.07</td>\n",
       "    </tr>\n",
       "  </tbody>\n",
       "</table>\n",
       "</div>"
      ],
      "text/plain": [
       "               SP500\n",
       "DATA_PREGAO         \n",
       "2020-12-31   3756.07"
      ]
     },
     "execution_count": 44,
     "metadata": {},
     "output_type": "execute_result"
    }
   ],
   "source": [
    "sp500.head(1)"
   ]
  },
  {
   "cell_type": "markdown",
   "id": "ca5b590d-91a5-4899-b2e5-5a032809d501",
   "metadata": {},
   "source": [
    "## Unindo os Datasets"
   ]
  },
  {
   "cell_type": "code",
   "execution_count": null,
   "id": "bc04ea74-e65f-47fa-9e57-d452151def27",
   "metadata": {
    "collapsed": true,
    "jupyter": {
     "outputs_hidden": true
    },
    "tags": []
   },
   "outputs": [],
   "source": []
  }
 ],
 "metadata": {
  "kernelspec": {
   "display_name": "Python 3",
   "language": "python",
   "name": "python3"
  },
  "language_info": {
   "codemirror_mode": {
    "name": "ipython",
    "version": 3
   },
   "file_extension": ".py",
   "mimetype": "text/x-python",
   "name": "python",
   "nbconvert_exporter": "python",
   "pygments_lexer": "ipython3",
   "version": "3.9.4"
  }
 },
 "nbformat": 4,
 "nbformat_minor": 5
}
