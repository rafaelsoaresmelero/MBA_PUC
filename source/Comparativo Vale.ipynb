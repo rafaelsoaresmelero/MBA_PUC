{
 "cells": [
  {
   "cell_type": "code",
   "execution_count": 1,
   "id": "373881f0-018d-4f4f-81d0-a9cfadf548c6",
   "metadata": {},
   "outputs": [],
   "source": [
    "import pandas as pd"
   ]
  },
  {
   "cell_type": "code",
   "execution_count": 12,
   "id": "d8c55d7b-721a-4037-922c-500d555fb780",
   "metadata": {},
   "outputs": [],
   "source": [
    "vale = pd.read_csv('dados/vale3.csv')"
   ]
  },
  {
   "cell_type": "code",
   "execution_count": 13,
   "id": "0c21b98d-ec4f-4d89-bafb-b5620fffcc6f",
   "metadata": {},
   "outputs": [],
   "source": [
    "#Padronizando a nomenclatura das colunas\n",
    "vale.rename(columns={'Data' : 'DATA_PREGAO', 'Último' : 'VALE'}, inplace = True)\n",
    "\n",
    "#Removendo colunas desnecessárias\n",
    "vale.drop(['Abertura', 'Máxima', 'Mínima', 'Vol.', 'Var%'], inplace=True, axis=1)\n",
    "\n",
    "#Padronizando a coluna DATA_PREGAO\n",
    "vale['DATA_PREGAO'] = vale['DATA_PREGAO'].apply(lambda x: x.replace('.', '/'))\n",
    "vale['DATA_PREGAO'] = pd.to_datetime(vale['DATA_PREGAO'], format=\"%d/%m/%Y\")\n",
    "\n",
    "#Padronizando a coluna de valor\n",
    "vale['VALE'] = vale['VALE'].apply(lambda x: x.replace(',', '.'))\n",
    "vale['VALE'] = pd.to_numeric(vale['VALE'], downcast='float')\n",
    "\n",
    "#Criando índice\n",
    "vale.set_index('DATA_PREGAO', inplace=True)"
   ]
  },
  {
   "cell_type": "code",
   "execution_count": 14,
   "id": "1e60e920-0ad9-49f9-a028-5482a5513c16",
   "metadata": {},
   "outputs": [
    {
     "data": {
      "text/html": [
       "<div>\n",
       "<style scoped>\n",
       "    .dataframe tbody tr th:only-of-type {\n",
       "        vertical-align: middle;\n",
       "    }\n",
       "\n",
       "    .dataframe tbody tr th {\n",
       "        vertical-align: top;\n",
       "    }\n",
       "\n",
       "    .dataframe thead th {\n",
       "        text-align: right;\n",
       "    }\n",
       "</style>\n",
       "<table border=\"1\" class=\"dataframe\">\n",
       "  <thead>\n",
       "    <tr style=\"text-align: right;\">\n",
       "      <th></th>\n",
       "      <th>VALE</th>\n",
       "    </tr>\n",
       "    <tr>\n",
       "      <th>DATA_PREGAO</th>\n",
       "      <th></th>\n",
       "    </tr>\n",
       "  </thead>\n",
       "  <tbody>\n",
       "    <tr>\n",
       "      <th>2020-12-30</th>\n",
       "      <td>87.449997</td>\n",
       "    </tr>\n",
       "    <tr>\n",
       "      <th>2020-12-29</th>\n",
       "      <td>87.070000</td>\n",
       "    </tr>\n",
       "    <tr>\n",
       "      <th>2020-12-28</th>\n",
       "      <td>87.309998</td>\n",
       "    </tr>\n",
       "    <tr>\n",
       "      <th>2020-12-23</th>\n",
       "      <td>87.360001</td>\n",
       "    </tr>\n",
       "    <tr>\n",
       "      <th>2020-12-22</th>\n",
       "      <td>86.940002</td>\n",
       "    </tr>\n",
       "    <tr>\n",
       "      <th>...</th>\n",
       "      <td>...</td>\n",
       "    </tr>\n",
       "    <tr>\n",
       "      <th>2010-01-08</th>\n",
       "      <td>41.320000</td>\n",
       "    </tr>\n",
       "    <tr>\n",
       "      <th>2010-01-07</th>\n",
       "      <td>40.919998</td>\n",
       "    </tr>\n",
       "    <tr>\n",
       "      <th>2010-01-06</th>\n",
       "      <td>40.750000</td>\n",
       "    </tr>\n",
       "    <tr>\n",
       "      <th>2010-01-05</th>\n",
       "      <td>39.900002</td>\n",
       "    </tr>\n",
       "    <tr>\n",
       "      <th>2010-01-04</th>\n",
       "      <td>39.529999</td>\n",
       "    </tr>\n",
       "  </tbody>\n",
       "</table>\n",
       "<p>2721 rows × 1 columns</p>\n",
       "</div>"
      ],
      "text/plain": [
       "                  VALE\n",
       "DATA_PREGAO           \n",
       "2020-12-30   87.449997\n",
       "2020-12-29   87.070000\n",
       "2020-12-28   87.309998\n",
       "2020-12-23   87.360001\n",
       "2020-12-22   86.940002\n",
       "...                ...\n",
       "2010-01-08   41.320000\n",
       "2010-01-07   40.919998\n",
       "2010-01-06   40.750000\n",
       "2010-01-05   39.900002\n",
       "2010-01-04   39.529999\n",
       "\n",
       "[2721 rows x 1 columns]"
      ]
     },
     "execution_count": 14,
     "metadata": {},
     "output_type": "execute_result"
    }
   ],
   "source": [
    "vale"
   ]
  },
  {
   "cell_type": "code",
   "execution_count": null,
   "id": "099f04f9-5ef0-4c3e-a35e-ec2ca47740e5",
   "metadata": {},
   "outputs": [],
   "source": []
  }
 ],
 "metadata": {
  "kernelspec": {
   "display_name": "Python 3 (ipykernel)",
   "language": "python",
   "name": "python3"
  },
  "language_info": {
   "codemirror_mode": {
    "name": "ipython",
    "version": 3
   },
   "file_extension": ".py",
   "mimetype": "text/x-python",
   "name": "python",
   "nbconvert_exporter": "python",
   "pygments_lexer": "ipython3",
   "version": "3.9.7"
  }
 },
 "nbformat": 4,
 "nbformat_minor": 5
}
