{
 "cells": [
  {
   "cell_type": "markdown",
   "id": "b35635af-e6c0-4f54-83e6-78c346cf9d15",
   "metadata": {},
   "source": [
    "# Análise de Índices Macroeconômicos para Sugestionamento de Pilar de Investimento"
   ]
  },
  {
   "cell_type": "markdown",
   "id": "7fed9917-389f-431e-98e6-cde5b652d403",
   "metadata": {},
   "source": [
    "## Instalação/Referência de bibliotecas utilizadas"
   ]
  },
  {
   "cell_type": "code",
   "execution_count": 1,
   "id": "00cd3907-5d11-49ca-b378-526627f602fd",
   "metadata": {
    "tags": []
   },
   "outputs": [
    {
     "name": "stdout",
     "output_type": "stream",
     "text": [
      "Requirement already satisfied: pandas in c:\\users\\rafael.melero\\miniconda3\\lib\\site-packages (1.3.3)\n",
      "Requirement already satisfied: python-dateutil>=2.7.3 in c:\\users\\rafael.melero\\miniconda3\\lib\\site-packages (from pandas) (2.8.2)\n",
      "Requirement already satisfied: pytz>=2017.3 in c:\\users\\rafael.melero\\miniconda3\\lib\\site-packages (from pandas) (2021.1)\n",
      "Requirement already satisfied: numpy>=1.17.3 in c:\\users\\rafael.melero\\miniconda3\\lib\\site-packages (from pandas) (1.21.2)\n",
      "Requirement already satisfied: six>=1.5 in c:\\users\\rafael.melero\\miniconda3\\lib\\site-packages (from python-dateutil>=2.7.3->pandas) (1.15.0)\n",
      "Requirement already up-to-date: seaborn in c:\\users\\rafael.melero\\miniconda3\\lib\\site-packages (0.11.2)\n",
      "Requirement already satisfied, skipping upgrade: numpy>=1.15 in c:\\users\\rafael.melero\\miniconda3\\lib\\site-packages (from seaborn) (1.21.2)\n",
      "Requirement already satisfied, skipping upgrade: scipy>=1.0 in c:\\users\\rafael.melero\\miniconda3\\lib\\site-packages (from seaborn) (1.7.1)\n",
      "Requirement already satisfied, skipping upgrade: matplotlib>=2.2 in c:\\users\\rafael.melero\\miniconda3\\lib\\site-packages (from seaborn) (3.4.3)\n",
      "Requirement already satisfied, skipping upgrade: pandas>=0.23 in c:\\users\\rafael.melero\\miniconda3\\lib\\site-packages (from seaborn) (1.3.3)\n",
      "Requirement already satisfied, skipping upgrade: pillow>=6.2.0 in c:\\users\\rafael.melero\\miniconda3\\lib\\site-packages (from matplotlib>=2.2->seaborn) (8.3.2)\n",
      "Requirement already satisfied, skipping upgrade: python-dateutil>=2.7 in c:\\users\\rafael.melero\\miniconda3\\lib\\site-packages (from matplotlib>=2.2->seaborn) (2.8.2)\n",
      "Requirement already satisfied, skipping upgrade: kiwisolver>=1.0.1 in c:\\users\\rafael.melero\\miniconda3\\lib\\site-packages (from matplotlib>=2.2->seaborn) (1.3.2)\n",
      "Requirement already satisfied, skipping upgrade: pyparsing>=2.2.1 in c:\\users\\rafael.melero\\miniconda3\\lib\\site-packages (from matplotlib>=2.2->seaborn) (2.4.7)\n",
      "Requirement already satisfied, skipping upgrade: cycler>=0.10 in c:\\users\\rafael.melero\\miniconda3\\lib\\site-packages (from matplotlib>=2.2->seaborn) (0.10.0)\n",
      "Requirement already satisfied, skipping upgrade: pytz>=2017.3 in c:\\users\\rafael.melero\\miniconda3\\lib\\site-packages (from pandas>=0.23->seaborn) (2021.1)\n",
      "Requirement already satisfied, skipping upgrade: six>=1.5 in c:\\users\\rafael.melero\\miniconda3\\lib\\site-packages (from python-dateutil>=2.7->matplotlib>=2.2->seaborn) (1.15.0)\n",
      "Requirement already up-to-date: sklearn in c:\\users\\rafael.melero\\miniconda3\\lib\\site-packages (0.0)\n",
      "Requirement already satisfied, skipping upgrade: scikit-learn in c:\\users\\rafael.melero\\miniconda3\\lib\\site-packages (from sklearn) (1.0)\n",
      "Requirement already satisfied, skipping upgrade: joblib>=0.11 in c:\\users\\rafael.melero\\miniconda3\\lib\\site-packages (from scikit-learn->sklearn) (1.0.1)\n",
      "Requirement already satisfied, skipping upgrade: scipy>=1.1.0 in c:\\users\\rafael.melero\\miniconda3\\lib\\site-packages (from scikit-learn->sklearn) (1.7.1)\n",
      "Requirement already satisfied, skipping upgrade: threadpoolctl>=2.0.0 in c:\\users\\rafael.melero\\miniconda3\\lib\\site-packages (from scikit-learn->sklearn) (2.2.0)\n",
      "Requirement already satisfied, skipping upgrade: numpy>=1.14.6 in c:\\users\\rafael.melero\\miniconda3\\lib\\site-packages (from scikit-learn->sklearn) (1.21.2)\n",
      "Requirement already up-to-date: scikit-learn in c:\\users\\rafael.melero\\miniconda3\\lib\\site-packages (1.0)\n",
      "Requirement already satisfied, skipping upgrade: numpy>=1.14.6 in c:\\users\\rafael.melero\\miniconda3\\lib\\site-packages (from scikit-learn) (1.21.2)\n",
      "Requirement already satisfied, skipping upgrade: threadpoolctl>=2.0.0 in c:\\users\\rafael.melero\\miniconda3\\lib\\site-packages (from scikit-learn) (2.2.0)\n",
      "Requirement already satisfied, skipping upgrade: scipy>=1.1.0 in c:\\users\\rafael.melero\\miniconda3\\lib\\site-packages (from scikit-learn) (1.7.1)\n",
      "Requirement already satisfied, skipping upgrade: joblib>=0.11 in c:\\users\\rafael.melero\\miniconda3\\lib\\site-packages (from scikit-learn) (1.0.1)\n"
     ]
    }
   ],
   "source": [
    "!pip install pandas\n",
    "!pip install seaborn --upgrade\n",
    "!pip install sklearn --upgrade\n",
    "!pip install scikit-learn --upgrade"
   ]
  },
  {
   "cell_type": "code",
   "execution_count": 4,
   "id": "4959f35d-e310-4d73-b38f-a10f0aa0426e",
   "metadata": {
    "tags": []
   },
   "outputs": [
    {
     "ename": "ModuleNotFoundError",
     "evalue": "No module named 'sklearn'",
     "output_type": "error",
     "traceback": [
      "\u001b[1;31m---------------------------------------------------------------------------\u001b[0m",
      "\u001b[1;31mModuleNotFoundError\u001b[0m                       Traceback (most recent call last)",
      "\u001b[1;32m<ipython-input-4-b4064a4da780>\u001b[0m in \u001b[0;36m<module>\u001b[1;34m\u001b[0m\n\u001b[0;32m      8\u001b[0m \u001b[1;33m\u001b[0m\u001b[0m\n\u001b[0;32m      9\u001b[0m \u001b[1;33m\u001b[0m\u001b[0m\n\u001b[1;32m---> 10\u001b[1;33m \u001b[1;32mfrom\u001b[0m \u001b[0msklearn\u001b[0m\u001b[1;33m.\u001b[0m\u001b[0mpreprocessing\u001b[0m \u001b[1;32mimport\u001b[0m \u001b[0mStandardScaler\u001b[0m\u001b[1;33m\u001b[0m\u001b[1;33m\u001b[0m\u001b[0m\n\u001b[0m\u001b[0;32m     11\u001b[0m \u001b[1;33m\u001b[0m\u001b[0m\n\u001b[0;32m     12\u001b[0m \u001b[1;31m#Configurando a biblioteca\u001b[0m\u001b[1;33m\u001b[0m\u001b[1;33m\u001b[0m\u001b[1;33m\u001b[0m\u001b[0m\n",
      "\u001b[1;31mModuleNotFoundError\u001b[0m: No module named 'sklearn'"
     ]
    }
   ],
   "source": [
    "import numpy as np\n",
    "import pandas as pd\n",
    "import datetime\n",
    "\n",
    "#Visualização dos dados\n",
    "import seaborn as sns\n",
    "import matplotlib.pyplot as plt\n",
    "\n",
    "\n",
    "\n",
    "\n",
    "#Configurando a biblioteca\n",
    "sns.set_theme(style=\"darkgrid\")\n",
    "sns.set(rc = {'figure.figsize':(15,5)})"
   ]
  },
  {
   "cell_type": "markdown",
   "id": "8a43c611-9c0f-419c-bcbf-6a6fce7d67d4",
   "metadata": {},
   "source": [
    "## Importação e tratativa inicial dos dados"
   ]
  },
  {
   "cell_type": "markdown",
   "id": "79ea3ed9-1e87-4810-b7e5-2200549db91f",
   "metadata": {},
   "source": [
    "### Taxas"
   ]
  },
  {
   "cell_type": "markdown",
   "id": "5f0a1366-f1a4-467d-852f-733fde18d473",
   "metadata": {},
   "source": [
    "#### Taxa Selic"
   ]
  },
  {
   "cell_type": "code",
   "execution_count": null,
   "id": "431b1a0a-91e7-49fe-87f1-a874ccd3a624",
   "metadata": {
    "tags": []
   },
   "outputs": [],
   "source": [
    "selic = pd.read_csv('dados/Selic.csv',sep=';')"
   ]
  },
  {
   "cell_type": "code",
   "execution_count": null,
   "id": "0aa7bae4-58cb-4f67-b6c1-f68b62371e18",
   "metadata": {
    "tags": []
   },
   "outputs": [],
   "source": [
    "selic.dtypes"
   ]
  },
  {
   "cell_type": "code",
   "execution_count": null,
   "id": "b6c61976-bbed-43cd-98d1-de8c806b2b59",
   "metadata": {
    "tags": []
   },
   "outputs": [],
   "source": [
    "selic.head(1)"
   ]
  },
  {
   "cell_type": "code",
   "execution_count": null,
   "id": "7533542a-3015-4aa4-bff9-5d05057c34c3",
   "metadata": {
    "tags": []
   },
   "outputs": [],
   "source": [
    "#Padronizando a nomenclatura das colunas\n",
    "selic.rename(columns={'Data' : 'DATA_PREGAO', 'Valor' : 'SELIC'}, inplace = True)\n",
    "\n",
    "#Padronizando a coluna DATA_PREGAO\n",
    "selic['DATA_PREGAO'] = pd.to_datetime(selic['DATA_PREGAO'], format=\"%d/%m/%Y\")\n",
    "\n",
    "#Padronizando a coluna de valor\n",
    "selic['SELIC'] = selic['SELIC'].apply(lambda x: x.replace(',', '.'))\n",
    "selic['SELIC'] = pd.to_numeric(selic['SELIC'], downcast='float')\n",
    "\n",
    "#Criando índice\n",
    "selic.set_index('DATA_PREGAO', inplace=True)"
   ]
  },
  {
   "cell_type": "code",
   "execution_count": null,
   "id": "3b4183d2-9daf-4da1-914e-b915669ed2aa",
   "metadata": {
    "tags": []
   },
   "outputs": [],
   "source": [
    "selic.dtypes"
   ]
  },
  {
   "cell_type": "code",
   "execution_count": null,
   "id": "f698ede7-18a2-4b06-bab9-62d1e8f3ef32",
   "metadata": {
    "tags": []
   },
   "outputs": [],
   "source": [
    "selic.head(1)"
   ]
  },
  {
   "cell_type": "markdown",
   "id": "6e478c2a-b816-4127-aa28-c0798c222202",
   "metadata": {},
   "source": [
    "#### Taxa Câmbio: Dólar"
   ]
  },
  {
   "cell_type": "code",
   "execution_count": null,
   "id": "204342dd-6df1-4c7b-82d6-a554c6591572",
   "metadata": {
    "tags": []
   },
   "outputs": [],
   "source": [
    "dolar = pd.read_csv('dados/Dolar.csv', sep=';',dtype='str')"
   ]
  },
  {
   "cell_type": "code",
   "execution_count": null,
   "id": "2b39a123-57cd-481a-bf4a-9a654da56467",
   "metadata": {},
   "outputs": [],
   "source": [
    "dolar.dtypes"
   ]
  },
  {
   "cell_type": "code",
   "execution_count": null,
   "id": "8dbe7632-0773-4a28-8041-0041d4606dc2",
   "metadata": {
    "tags": []
   },
   "outputs": [],
   "source": [
    "dolar.head(1)"
   ]
  },
  {
   "cell_type": "code",
   "execution_count": null,
   "id": "bdec6dae-bb1e-4bba-924d-c75816049c0a",
   "metadata": {
    "tags": []
   },
   "outputs": [],
   "source": [
    "#Padronizando a nomenclatura das colunas\n",
    "dolar.rename(columns={'DATA' : 'DATA_PREGAO', 'COMPRA' : 'DOLAR'}, inplace = True)\n",
    "\n",
    "#Removendo colunas desnecessárias\n",
    "dolar.drop(['COLUNA1', 'COLUNA2', 'TIPO', 'VENDA', 'COLUNA3', 'COLUNA4', 'COLUNA5'], inplace=True, axis=1)\n",
    "\n",
    "#Padronizando a coluna DATA_PREGAO\n",
    "dolar['DATA_PREGAO'] = dolar['DATA_PREGAO'].apply(lambda x: x[0:2] + '/' + x[2:4] + '/' + x[4:])\n",
    "dolar['DATA_PREGAO'] = pd.to_datetime(dolar['DATA_PREGAO'], format=\"%d/%m/%Y\")\n",
    "\n",
    "#Padronizando a coluna de valor\n",
    "dolar['DOLAR'] = dolar['DOLAR'].apply(lambda x: x.replace(',', '.'))\n",
    "dolar['DOLAR'] = pd.to_numeric(dolar['DOLAR'], downcast='float')\n",
    "\n",
    "#Criando índice\n",
    "dolar.set_index('DATA_PREGAO', inplace=True)"
   ]
  },
  {
   "cell_type": "code",
   "execution_count": null,
   "id": "5461a9b4-f291-4976-9a1d-7cb49451333d",
   "metadata": {
    "tags": []
   },
   "outputs": [],
   "source": [
    "dolar.dtypes"
   ]
  },
  {
   "cell_type": "code",
   "execution_count": null,
   "id": "e9c3f010-72f6-4dd3-8226-1c123886301c",
   "metadata": {
    "tags": []
   },
   "outputs": [],
   "source": [
    "dolar.head(1)"
   ]
  },
  {
   "cell_type": "markdown",
   "id": "017c92e6-2288-4b5c-8a5e-4848a2a319f4",
   "metadata": {
    "tags": []
   },
   "source": [
    "### Commodities"
   ]
  },
  {
   "cell_type": "markdown",
   "id": "74642fa2-1cd3-4d06-9e1f-aea46bce074f",
   "metadata": {
    "tags": []
   },
   "source": [
    "#### Minério de Ferro Refinado"
   ]
  },
  {
   "cell_type": "code",
   "execution_count": null,
   "id": "fe4c90e6-4124-4e0e-84d8-3ef5a32a4eb0",
   "metadata": {
    "tags": []
   },
   "outputs": [],
   "source": [
    "ferro = pd.read_csv('dados/Minerio_Ferro.csv', sep=',')"
   ]
  },
  {
   "cell_type": "code",
   "execution_count": null,
   "id": "89f78bcf-106c-4311-8abd-fb6852bd2d5a",
   "metadata": {},
   "outputs": [],
   "source": [
    "ferro.dtypes"
   ]
  },
  {
   "cell_type": "code",
   "execution_count": null,
   "id": "b8efd1a5-6df4-4756-a15e-246f99109622",
   "metadata": {},
   "outputs": [],
   "source": [
    "ferro.head(1)"
   ]
  },
  {
   "cell_type": "code",
   "execution_count": null,
   "id": "ece01174-fe1f-494c-91c4-4e1f642247d2",
   "metadata": {
    "tags": []
   },
   "outputs": [],
   "source": [
    "#Padronizando a nomenclatura das colunas\n",
    "ferro.rename(columns={'Data' : 'DATA_PREGAO', 'Último' : 'FERRO'}, inplace = True)\n",
    "\n",
    "#Removendo colunas desnecessárias\n",
    "ferro.drop(['Abertura', 'Máxima', 'Mínima', 'Vol.', 'Var%'], inplace=True, axis=1)\n",
    "\n",
    "#Padronizando a coluna DATA_PREGAO\n",
    "ferro['DATA_PREGAO'] = ferro['DATA_PREGAO'].apply(lambda x: x.replace('.', '/'))\n",
    "ferro['DATA_PREGAO'] = pd.to_datetime(ferro['DATA_PREGAO'], format=\"%d/%m/%Y\")\n",
    "\n",
    "#Padronizando a coluna de valor\n",
    "ferro['FERRO'] = ferro['FERRO'].apply(lambda x: x.replace(',', '.'))\n",
    "ferro['FERRO'] = pd.to_numeric(ferro['FERRO'], downcast='float')\n",
    "\n",
    "#Criando índice\n",
    "ferro.set_index('DATA_PREGAO', inplace=True)"
   ]
  },
  {
   "cell_type": "code",
   "execution_count": null,
   "id": "f6694f87-c457-4b53-bf52-3eb501c10e27",
   "metadata": {},
   "outputs": [],
   "source": [
    "ferro.dtypes"
   ]
  },
  {
   "cell_type": "code",
   "execution_count": null,
   "id": "c620bac3-fbca-4e1f-8c0d-5066b8bcb1da",
   "metadata": {},
   "outputs": [],
   "source": [
    "ferro.head(1)"
   ]
  },
  {
   "cell_type": "markdown",
   "id": "00ca283c-3c78-46b2-bcd8-f9dd0d1776ce",
   "metadata": {},
   "source": [
    "#### Petróleo Brent Futuros"
   ]
  },
  {
   "cell_type": "code",
   "execution_count": null,
   "id": "bb7dc36f-bcf5-46c5-9fb1-138bf0fbf34f",
   "metadata": {},
   "outputs": [],
   "source": [
    "petroleo = pd.read_csv('dados/Petroleo_Brent.csv', sep=',')"
   ]
  },
  {
   "cell_type": "code",
   "execution_count": null,
   "id": "60f894a0-448a-4421-a5f6-5040b8663063",
   "metadata": {},
   "outputs": [],
   "source": [
    "petroleo.dtypes"
   ]
  },
  {
   "cell_type": "code",
   "execution_count": null,
   "id": "5a027bc6-4aee-4727-b0ed-7d73338957af",
   "metadata": {},
   "outputs": [],
   "source": [
    "petroleo.head(1)"
   ]
  },
  {
   "cell_type": "code",
   "execution_count": null,
   "id": "3b463505-0b2c-4608-99d9-c5b68a055e4a",
   "metadata": {
    "tags": []
   },
   "outputs": [],
   "source": [
    "#Padronizando a nomenclatura das colunas\n",
    "petroleo.rename(columns={'Data' : 'DATA_PREGAO', 'Último' : 'PETROLEO', 'Vol.' : 'PETROLEO_VOLUME'}, inplace = True)\n",
    "\n",
    "#Removendo colunas desnecessárias\n",
    "petroleo.drop(['Abertura', 'Máxima', 'Mínima', 'Var%'], inplace=True, axis=1)\n",
    "\n",
    "#Padronizando a coluna DATA_PREGAO\n",
    "petroleo['DATA_PREGAO'] = petroleo['DATA_PREGAO'].apply(lambda x: x.replace('.', '/'))\n",
    "petroleo['DATA_PREGAO'] = pd.to_datetime(petroleo['DATA_PREGAO'], format=\"%d/%m/%Y\")\n",
    "\n",
    "#Padronizando a coluna de valor\n",
    "petroleo['PETROLEO'] = petroleo['PETROLEO'].apply(lambda x: x.replace(',', '.'))\n",
    "petroleo['PETROLEO'] = pd.to_numeric(petroleo['PETROLEO'], downcast='float')\n",
    "\n",
    "#Tratando o Volume\n",
    "#    Verificando a contagem de registros que não tem o K\n",
    "petroleo[~petroleo['PETROLEO_VOLUME'].str.contains(\"K\")].count()\n",
    "#    Substituindo o Valor - por 0 e o K multiplicado por 1.000\n",
    "petroleo['PETROLEO_VOLUME'] = petroleo['PETROLEO_VOLUME'].apply(lambda x: float(x.replace('-', '0').replace(',', '.').replace('K', ''))*1000)  \n",
    "\n",
    "#Criando índice\n",
    "petroleo.set_index('DATA_PREGAO', inplace=True)"
   ]
  },
  {
   "cell_type": "code",
   "execution_count": null,
   "id": "3bfed9d5-7b58-419d-be82-8043e155b44f",
   "metadata": {},
   "outputs": [],
   "source": [
    "petroleo.dtypes"
   ]
  },
  {
   "cell_type": "code",
   "execution_count": null,
   "id": "8c15d128-65c7-4850-91d6-041cab192d64",
   "metadata": {},
   "outputs": [],
   "source": [
    "petroleo.head(1)"
   ]
  },
  {
   "cell_type": "markdown",
   "id": "e60dc726-77be-4d3d-b414-7bd69d582f98",
   "metadata": {},
   "source": [
    "#### Ouro"
   ]
  },
  {
   "cell_type": "code",
   "execution_count": null,
   "id": "28b6f88b-1e05-417f-9fdc-0b670304d9f9",
   "metadata": {},
   "outputs": [],
   "source": [
    "ouro = pd.read_csv('dados/Ouro.csv', sep=',')"
   ]
  },
  {
   "cell_type": "code",
   "execution_count": null,
   "id": "7bc354b7-d359-4337-87a9-4f3b36010942",
   "metadata": {},
   "outputs": [],
   "source": [
    "ouro.dtypes"
   ]
  },
  {
   "cell_type": "code",
   "execution_count": null,
   "id": "3a6242e3-36d7-4dbb-b74b-52b0c07af47a",
   "metadata": {},
   "outputs": [],
   "source": [
    "ouro.head(1)"
   ]
  },
  {
   "cell_type": "code",
   "execution_count": null,
   "id": "1ecadf34-9c71-4959-b7ca-50f7e7fded9c",
   "metadata": {
    "tags": []
   },
   "outputs": [],
   "source": [
    "#Padronizando a nomenclatura das colunas\n",
    "ouro.rename(columns={'Data' : 'DATA_PREGAO', 'Último' : 'OURO', 'Vol.' : 'OURO_VOLUME'}, inplace = True)\n",
    "\n",
    "#Removendo colunas desnecessárias\n",
    "ouro.drop(['Abertura', 'Máxima', 'Mínima', 'Var%'], inplace=True, axis=1)\n",
    "\n",
    "#Padronizando a coluna DATA_PREGAO\n",
    "ouro['DATA_PREGAO'] = ouro['DATA_PREGAO'].apply(lambda x: x.replace('.', '/'))\n",
    "ouro['DATA_PREGAO'] = pd.to_datetime(ouro['DATA_PREGAO'], format=\"%d/%m/%Y\")\n",
    "\n",
    "#Padronizando a coluna de valor\n",
    "ouro['OURO'] = ouro['OURO'].apply(lambda x: x.replace('.', '').replace(',', '.'))\n",
    "ouro['OURO'] = pd.to_numeric(ouro['OURO'], downcast='float')\n",
    "\n",
    "#Tratando o Volume\n",
    "ouro['OURO_VOLUME'] = ouro['OURO_VOLUME'].apply(lambda x: x.replace('-', '0'))\n",
    "#    Verificando a contagem de registros que não tem o K ou 0\n",
    "ouro[(~ouro['OURO_VOLUME'].str.contains('0')) & (~ouro['OURO_VOLUME'].str.contains('K'))].count()\n",
    "#    Substituindo o Valor K multiplicado por 1.000\n",
    "ouro['OURO_VOLUME'] = ouro['OURO_VOLUME'].apply(lambda x: float(x.replace(',', '.').replace('K', ''))*1000)  \n",
    "\n",
    "#Criando índice\n",
    "ouro.set_index('DATA_PREGAO', inplace=True)"
   ]
  },
  {
   "cell_type": "code",
   "execution_count": null,
   "id": "ea4543ed-ede1-4402-8585-818a2a502dae",
   "metadata": {},
   "outputs": [],
   "source": [
    "ouro.dtypes"
   ]
  },
  {
   "cell_type": "code",
   "execution_count": null,
   "id": "47ba8031-fd52-4991-8665-ad1852ee91cf",
   "metadata": {},
   "outputs": [],
   "source": [
    "ouro.head(1)"
   ]
  },
  {
   "cell_type": "markdown",
   "id": "47dd3787-9128-4b6e-81a8-b78504462331",
   "metadata": {},
   "source": [
    "### Índices"
   ]
  },
  {
   "cell_type": "markdown",
   "id": "aea131ce-2e36-4cdd-bd28-d5892225e8ff",
   "metadata": {},
   "source": [
    "#### Índice Bovespa"
   ]
  },
  {
   "cell_type": "code",
   "execution_count": null,
   "id": "a04d30f4-1739-438d-a7ec-491e89476275",
   "metadata": {},
   "outputs": [],
   "source": [
    "bovespa = pd.read_csv('dados/Indice_Bovespa.csv')"
   ]
  },
  {
   "cell_type": "code",
   "execution_count": null,
   "id": "4e77f47d-4bf7-4f58-b1fd-67c4295b8db6",
   "metadata": {},
   "outputs": [],
   "source": [
    "bovespa.dtypes"
   ]
  },
  {
   "cell_type": "code",
   "execution_count": null,
   "id": "3ba3b1f0-e16c-478b-9520-b5a991087639",
   "metadata": {},
   "outputs": [],
   "source": [
    "bovespa.head(1)"
   ]
  },
  {
   "cell_type": "code",
   "execution_count": null,
   "id": "ce77ccb4-9e85-4a53-8c47-add8e39533d5",
   "metadata": {
    "tags": []
   },
   "outputs": [],
   "source": [
    "#Padronizando a nomenclatura das colunas\n",
    "bovespa.rename(columns={'Date' : 'DATA_PREGAO', 'Close' : 'BOVESPA', 'Volume' : 'BOVESPA_VOLUME'}, inplace = True)\n",
    "\n",
    "#Removendo colunas desnecessárias\n",
    "bovespa.drop(['Open', 'High', 'Low', 'Adj Close'], inplace=True, axis=1)\n",
    "\n",
    "#Padronizando a coluna DATA_PREGAO\n",
    "bovespa['DATA_PREGAO'] = pd.to_datetime(bovespa['DATA_PREGAO'])\n",
    "\n",
    "#Padronizando a coluna de VALOR\n",
    "bovespa['BOVESPA'] = bovespa['BOVESPA'].apply(lambda x: float(x))  \n",
    "\n",
    "#Padronizando a coluna de VOLUME\n",
    "bovespa['BOVESPA_VOLUME'] = bovespa['BOVESPA_VOLUME'].apply(lambda x: float(x))  \n",
    "\n",
    "#Criando índice\n",
    "bovespa.set_index('DATA_PREGAO', inplace=True)"
   ]
  },
  {
   "cell_type": "code",
   "execution_count": null,
   "id": "c838edf9-691a-4ed4-b512-fcf6f061e07c",
   "metadata": {},
   "outputs": [],
   "source": [
    "bovespa.dtypes"
   ]
  },
  {
   "cell_type": "code",
   "execution_count": null,
   "id": "333be03d-fc69-41ff-b42d-9912c8ff294d",
   "metadata": {},
   "outputs": [],
   "source": [
    "bovespa.head(1)"
   ]
  },
  {
   "cell_type": "markdown",
   "id": "15c7ed5e-e3c2-43b3-bd05-dcca3a6bd67f",
   "metadata": {},
   "source": [
    "#### Índice S&P 500"
   ]
  },
  {
   "cell_type": "code",
   "execution_count": null,
   "id": "44e4b120-dece-4eef-9f3a-f8aaa187493c",
   "metadata": {},
   "outputs": [],
   "source": [
    "sp500 = pd.read_csv('dados/Indice_S&P500.csv')"
   ]
  },
  {
   "cell_type": "code",
   "execution_count": null,
   "id": "596bdea2-3320-4671-929e-7bdab7af1403",
   "metadata": {},
   "outputs": [],
   "source": [
    "sp500.dtypes"
   ]
  },
  {
   "cell_type": "code",
   "execution_count": null,
   "id": "caf68c10-fcf0-4b63-8116-a2d01874d23d",
   "metadata": {},
   "outputs": [],
   "source": [
    "sp500.head(1)"
   ]
  },
  {
   "cell_type": "code",
   "execution_count": null,
   "id": "565cec2c-79bb-4927-a5a7-3d84b44dd62e",
   "metadata": {
    "tags": []
   },
   "outputs": [],
   "source": [
    "#Padronizando a nomenclatura das colunas\n",
    "sp500.rename(columns={'Data' : 'DATA_PREGAO', 'Último' : 'SP500'}, inplace = True)\n",
    "\n",
    "#Removendo colunas desnecessárias\n",
    "sp500.drop(['Abertura', 'Máxima', 'Mínima', 'Var%', 'Vol.'], inplace=True, axis=1)\n",
    "\n",
    "#Padronizando a coluna DATA_PREGAO\n",
    "sp500['DATA_PREGAO'] = sp500['DATA_PREGAO'].apply(lambda x: x.replace('.', '/'))\n",
    "sp500['DATA_PREGAO'] = pd.to_datetime(sp500['DATA_PREGAO'], format=\"%d/%m/%Y\")\n",
    "\n",
    "#Padronizando a coluna de VALOR\n",
    "sp500['SP500'] = sp500['SP500'].apply(lambda x: float(x.replace('.', '').replace(',', '.')))  \n",
    "\n",
    "#Criando índice\n",
    "sp500.set_index('DATA_PREGAO', inplace=True)"
   ]
  },
  {
   "cell_type": "code",
   "execution_count": null,
   "id": "02c3d806-dd97-4800-8a71-96009c2d5428",
   "metadata": {},
   "outputs": [],
   "source": [
    "sp500.dtypes"
   ]
  },
  {
   "cell_type": "code",
   "execution_count": null,
   "id": "5c8777ad-6e4e-45ac-bd17-dcac342c9b50",
   "metadata": {},
   "outputs": [],
   "source": [
    "sp500.head(1)"
   ]
  },
  {
   "cell_type": "markdown",
   "id": "ca5b590d-91a5-4899-b2e5-5a032809d501",
   "metadata": {},
   "source": [
    "## Unindo os Datasets"
   ]
  },
  {
   "cell_type": "code",
   "execution_count": null,
   "id": "bc04ea74-e65f-47fa-9e57-d452151def27",
   "metadata": {
    "tags": []
   },
   "outputs": [],
   "source": [
    "# Unindo todos os arquivos importados: sp500, bovespa, ouro, petroleo, ferro, dolar, selic\n",
    "df = sp500.join(bovespa, how=\"inner\")\n",
    "df = df.join(ouro, how=\"inner\")\n",
    "df = df.join(petroleo, how=\"inner\")\n",
    "df = df.join(ferro, how=\"inner\")\n",
    "df = df.join(dolar, how=\"inner\")\n",
    "df = df.join(selic, how=\"inner\")\n",
    "\n",
    "#Ordenar dataframe pelo indice\n",
    "df.sort_index(axis=0, ascending=True, inplace=True)"
   ]
  },
  {
   "cell_type": "code",
   "execution_count": null,
   "id": "cf3ed7f6-d31c-4d8c-9e26-b40ed347bbae",
   "metadata": {},
   "outputs": [],
   "source": [
    "#Gerando colunas auxiliares para calculo\n",
    "df.sort_index(ascending=True)"
   ]
  },
  {
   "cell_type": "code",
   "execution_count": null,
   "id": "d8daa7a5-da8f-4e32-befd-e8cdf0eb2835",
   "metadata": {},
   "outputs": [],
   "source": [
    "#Verificação de valores nulos nos itens do dataset\n",
    "df[\"SP500\"].hasnans, df[\"BOVESPA\"].hasnans, df[\"BOVESPA_VOLUME\"].hasnans, df[\"OURO\"].hasnans, df[\"OURO_VOLUME\"].hasnans, df[\"PETROLEO\"].hasnans, df[\"PETROLEO_VOLUME\"].hasnans, df[\"FERRO\"].hasnans, df[\"DOLAR\"].hasnans, df[\"SELIC\"].hasnans"
   ]
  },
  {
   "cell_type": "code",
   "execution_count": null,
   "id": "6c0f0489-ef1e-44d9-be06-3b451935b31b",
   "metadata": {},
   "outputs": [],
   "source": [
    "df.query(\"BOVESPA.isnull()\").index, df.query(\"BOVESPA_VOLUME.isnull()\").index"
   ]
  },
  {
   "cell_type": "markdown",
   "id": "05c59b76-ba33-43b1-8585-c99f0dde1333",
   "metadata": {},
   "source": [
    "Devido a não haver negociações na B3 em feriados, a listagem abaixo justifica os dias em que apareceram como nulo no dataset:\n",
    "- 2020-02-26: Quarta-feira de cinzas\n",
    "- 2019-03-06: Quarta-feira de cinzas\n",
    "- 2018-02-14: Quarta-feira de cinzas\n",
    "- 2017-11-20: Dia Nacional da Consciência Negra"
   ]
  },
  {
   "cell_type": "code",
   "execution_count": null,
   "id": "db0a5dd1-f9cc-4699-ba77-cdef4a25e94f",
   "metadata": {},
   "outputs": [],
   "source": [
    "#Por se tratarem de poucos dias e em que não há negociação na B3 em são paulo vamos remover estas datas\n",
    "df.dropna(subset = [\"BOVESPA\"], inplace=True) \n",
    "\n",
    "#Verificando seainda há valores nulos no dataframe\n",
    "df[\"SP500\"].hasnans, df[\"BOVESPA\"].hasnans, df[\"BOVESPA_VOLUME\"].hasnans, df[\"OURO\"].hasnans, df[\"OURO_VOLUME\"].hasnans, df[\"PETROLEO\"].hasnans, df[\"PETROLEO_VOLUME\"].hasnans, df[\"FERRO\"].hasnans, df[\"DOLAR\"].hasnans, df[\"SELIC\"].hasnans"
   ]
  },
  {
   "cell_type": "code",
   "execution_count": null,
   "id": "55b92001-6ff9-414a-b98e-0309f4799fff",
   "metadata": {},
   "outputs": [],
   "source": [
    "#Verificando valores apagados\n",
    "df.query(\"BOVESPA.isnull()\").count(), df.query(\"BOVESPA_VOLUME.isnull()\").count()"
   ]
  },
  {
   "cell_type": "code",
   "execution_count": null,
   "id": "2edae6fa-75b5-44a9-9372-7c9d77b92f56",
   "metadata": {},
   "outputs": [],
   "source": [
    "#Verificando chaves duplicadas no dataframe\n",
    "df.index.duplicated().sum()"
   ]
  },
  {
   "cell_type": "code",
   "execution_count": null,
   "id": "d13cef3e-3227-4809-b02c-c7f965a28f81",
   "metadata": {},
   "outputs": [],
   "source": [
    "df"
   ]
  },
  {
   "cell_type": "markdown",
   "id": "71ba058c-d955-4fcf-8a44-edf2b02c917d",
   "metadata": {},
   "source": [
    "## Exploração dos dados"
   ]
  },
  {
   "cell_type": "markdown",
   "id": "5cf4c4f0-31d0-4422-84da-f84736a74ccd",
   "metadata": {},
   "source": [
    "### Verificando Outliers"
   ]
  },
  {
   "cell_type": "markdown",
   "id": "59558a06-288b-4585-bd67-b432f8294155",
   "metadata": {},
   "source": [
    "#### SP500\n",
    "Não foram encontrados Outliers para os pregões do SP500"
   ]
  },
  {
   "cell_type": "code",
   "execution_count": null,
   "id": "de398c58-8553-4c1a-b618-ffe552b75aa1",
   "metadata": {},
   "outputs": [],
   "source": [
    "sns.boxplot(x=df[\"SP500\"])"
   ]
  },
  {
   "cell_type": "markdown",
   "id": "21917fe4-a30b-49c7-9404-95b5ce981db3",
   "metadata": {},
   "source": [
    "#### BOVESPA\n",
    "Foram encontrados 245 outliers que se referem a pregões realizados nos anos de 2019 e 2020 e referem-se à atual escalada que a bolsa realizou nos últimos anos."
   ]
  },
  {
   "cell_type": "code",
   "execution_count": null,
   "id": "4551f468-33c8-49d0-bc9a-90f20421abf8",
   "metadata": {},
   "outputs": [],
   "source": [
    "sns.boxplot(x=df[\"BOVESPA\"])"
   ]
  },
  {
   "cell_type": "code",
   "execution_count": null,
   "id": "66adfce1-8646-4d6d-b440-c48e3e3381a5",
   "metadata": {},
   "outputs": [],
   "source": [
    "#Foi verificando que há valores fora do quartil, por este motivo vamos verificar a quais períodos se referem\n",
    "np.unique(df.query(\"BOVESPA > 100000\").index.year), np.count_nonzero(np.unique(df.query(\"BOVESPA > 100000\").index.date))"
   ]
  },
  {
   "cell_type": "code",
   "execution_count": null,
   "id": "b0b9e6c0-a877-46bc-b6dc-2c9988aa2a63",
   "metadata": {},
   "outputs": [],
   "source": [
    "df.query(\"BOVESPA > 100000\").index.min()"
   ]
  },
  {
   "cell_type": "code",
   "execution_count": null,
   "id": "d251d8e8-3cd6-4486-b6f7-4b1b6fcb525f",
   "metadata": {},
   "outputs": [],
   "source": [
    "#Mostrando o comportamento do indice BOVESPA\n",
    "sns.set(rc = {'figure.figsize':(15,5)})\n",
    "sns.lineplot(data=df, x=\"DATA_PREGAO\", y=\"BOVESPA\", size_order=200)"
   ]
  },
  {
   "cell_type": "markdown",
   "id": "43c8e0e4-3e77-454c-b659-8f724fccd997",
   "metadata": {},
   "source": [
    "#### BOVESPA_VOLUME\n",
    "Foram encontrados 567 outliers espalhados pelos 11 anos e por poder indicar uma corrida à bolsa não mexeremos neste indicador."
   ]
  },
  {
   "cell_type": "code",
   "execution_count": null,
   "id": "d566292d-4cb1-49c0-b305-4c1b23a5d78a",
   "metadata": {},
   "outputs": [],
   "source": [
    "sns.boxplot(x=df[\"BOVESPA_VOLUME\"])"
   ]
  },
  {
   "cell_type": "code",
   "execution_count": null,
   "id": "a425d363-47ce-47f1-b5c2-4c3d84abe63a",
   "metadata": {},
   "outputs": [],
   "source": [
    "np.unique(df.query(\"BOVESPA_VOLUME > 0.75e+07 | BOVESPA_VOLUME < 0.25e+07\").index.year), np.count_nonzero(np.unique(df.query(\"BOVESPA_VOLUME > 0.75e+07 | BOVESPA_VOLUME < 0.25e+07\").index.date))"
   ]
  },
  {
   "cell_type": "code",
   "execution_count": null,
   "id": "99fe7ed8-c834-42c5-ae88-76037b637475",
   "metadata": {},
   "outputs": [],
   "source": [
    "df.query(\"BOVESPA_VOLUME > 0.75e+07 | BOVESPA_VOLUME < 0.25e+07\").index"
   ]
  },
  {
   "cell_type": "markdown",
   "id": "4c282be8-0243-4031-838a-09e53096bcdc",
   "metadata": {},
   "source": [
    "#### OURO\n"
   ]
  },
  {
   "cell_type": "code",
   "execution_count": null,
   "id": "16fe4b39-7e17-4233-a021-bd5df5783aa5",
   "metadata": {},
   "outputs": [],
   "source": [
    "sns.boxplot(x=df[\"OURO\"])"
   ]
  },
  {
   "cell_type": "code",
   "execution_count": null,
   "id": "4e5d713f-11b1-4c28-91cd-5663d28efeed",
   "metadata": {},
   "outputs": [],
   "source": [
    "#Encontramos mais 320 pregões espalhados por 3 anos\n",
    "np.unique(df.query(\"OURO > 1700\").index.year), np.count_nonzero(np.unique(df.query(\"OURO > 1700\").index.date))"
   ]
  },
  {
   "cell_type": "markdown",
   "id": "5672fb16-e7a8-4bcd-ad82-8c0e29bae900",
   "metadata": {},
   "source": [
    "Geralmente a busca pelo ouro decorre da busca de aplicações consideradas mais seguras como metais preciosos\n",
    "Segundo notícias isto ocorreu em 2011: http://g1.globo.com/economia/noticia/2011/08/ouro-supera-a-barreira-de-us-1700-a-onca-pela-primeira-vez.html e continuou por 2012. Em 2020 devido o advendo da pandemia houve também esta maior demanda desses metais preciosos batendo esta cotação de 2012 conforme notícias: https://www.infomoney.com.br/onde-investir/com-a-maior-cotacao-desde-2012-o-que-esperar-do-ouro-daqui-para-frente/"
   ]
  },
  {
   "cell_type": "markdown",
   "id": "158bbf55-8bb6-4b7e-ae26-bc31e76930bf",
   "metadata": {},
   "source": [
    "#### OURO_VOLUME\n"
   ]
  },
  {
   "cell_type": "code",
   "execution_count": null,
   "id": "ac3c019c-4840-45da-9e73-629d171a4116",
   "metadata": {},
   "outputs": [],
   "source": [
    "sns.boxplot(x=df[\"OURO_VOLUME\"])"
   ]
  },
  {
   "cell_type": "code",
   "execution_count": null,
   "id": "8d7047f6-e132-4003-b82d-8c45a0f0ce03",
   "metadata": {},
   "outputs": [],
   "source": [
    "df.query(\"OURO_VOLUME > 50000\").index"
   ]
  },
  {
   "cell_type": "markdown",
   "id": "75a97cb8-fe8f-41a7-b013-e73a1fc99bc7",
   "metadata": {},
   "source": [
    "#### PETROLEO\n",
    "Náo houve a incidência de outliers para o preço do barril do petróleo"
   ]
  },
  {
   "cell_type": "code",
   "execution_count": null,
   "id": "787bcbe9-9c28-4fdb-a101-10a434b335d2",
   "metadata": {},
   "outputs": [],
   "source": [
    "sns.boxplot(x=df[\"PETROLEO\"])"
   ]
  },
  {
   "cell_type": "markdown",
   "id": "a95733e0-f012-4c44-ae10-a9008d97a8c3",
   "metadata": {},
   "source": [
    "#### PETROLEO_VOLUME"
   ]
  },
  {
   "cell_type": "code",
   "execution_count": null,
   "id": "d4ab4484-d2ee-442d-aac5-4c3b35dac4aa",
   "metadata": {},
   "outputs": [],
   "source": [
    "sns.boxplot(x=df[\"PETROLEO_VOLUME\"])"
   ]
  },
  {
   "cell_type": "markdown",
   "id": "cc45de7a-7576-47b3-bc13-c1f38ff0e069",
   "metadata": {},
   "source": [
    "#### FERRO"
   ]
  },
  {
   "cell_type": "code",
   "execution_count": null,
   "id": "2dce3388-80cf-436c-8c81-eba2dadf3fcc",
   "metadata": {},
   "outputs": [],
   "source": [
    "sns.boxplot(x=df[\"FERRO\"])"
   ]
  },
  {
   "cell_type": "markdown",
   "id": "721c2bbd-e9ad-4b29-b626-a2f674903bef",
   "metadata": {},
   "source": [
    "#### DOLAR\n",
    "Não foram encontrados outliers para a cotação do Dólar nestes últimos 10 anos"
   ]
  },
  {
   "cell_type": "code",
   "execution_count": null,
   "id": "88561c82-258b-4352-8cde-2248a358009b",
   "metadata": {},
   "outputs": [],
   "source": [
    "sns.boxplot(x=df[\"DOLAR\"])"
   ]
  },
  {
   "cell_type": "markdown",
   "id": "2c972a4e-4bd8-4638-be4e-32ebdb13899b",
   "metadata": {},
   "source": [
    "#### SELIC\n",
    "Não foram encontrados outliers para a cotação da selic nos últimos 10 anos"
   ]
  },
  {
   "cell_type": "code",
   "execution_count": null,
   "id": "0f743595-a371-47c3-a824-056e42fb005a",
   "metadata": {},
   "outputs": [],
   "source": [
    "sns.boxplot(x=df[\"SELIC\"])"
   ]
  },
  {
   "cell_type": "markdown",
   "id": "8eea869f-1799-42a9-be1a-1886a41f1326",
   "metadata": {},
   "source": [
    "## Feature engineering"
   ]
  },
  {
   "cell_type": "markdown",
   "id": "d078b872-a911-4f9a-9e4b-047205f58a4b",
   "metadata": {},
   "source": [
    "### Criando métricas auxiliares"
   ]
  },
  {
   "cell_type": "markdown",
   "id": "2616e4fa-f72b-4393-aaa7-d631f3f5818a",
   "metadata": {},
   "source": [
    "#### Métricas para cálculo"
   ]
  },
  {
   "cell_type": "code",
   "execution_count": null,
   "id": "5bda7612-753f-4f00-beb8-b905d543c49c",
   "metadata": {},
   "outputs": [],
   "source": [
    "#Criando médias móveis para os dados\n",
    "df['SP500_MM_30'] = df.SP500.rolling(30).mean().shift()\n",
    "df['BOVESPA_MM_30'] = df.BOVESPA.rolling(30).mean().shift()\n",
    "df['BOVESPA_VOLUME_MM_30'] = df.BOVESPA_VOLUME.rolling(30).mean().shift()\n",
    "df['OURO_MM_30'] = df.OURO.rolling(30).mean().shift()\n",
    "df['OURO_VOLUME_MM_30'] = df.OURO_VOLUME.rolling(30).mean().shift()\n",
    "df['PETROLEO_MM_30'] = df.PETROLEO.rolling(30).mean().shift()\n",
    "df['PETROLEO_VOLUME_MM_30'] = df.PETROLEO_VOLUME.rolling(30).mean().shift()\n",
    "df['FERRO_MM_30'] = df.FERRO.rolling(30).mean().shift()\n",
    "df['DOLAR_MM_30'] = df.DOLAR.rolling(30).mean().shift()\n",
    "df['SELIC_MM_30'] = df.SELIC.rolling(30).mean().shift()\n",
    "df['BOVESPA_MM_30'] = df.BOVESPA.rolling(30).mean().shift()\n",
    "\n",
    "#Setar o fechamento do dia anterior\n",
    "df['SP500_FECHAMENTO_ANTERIOR'] = df.SP500.shift(1)\n",
    "df['BOVESPA_FECHAMENTO_ANTERIOR'] = df.BOVESPA.shift(1)\n",
    "df['BOVESPA_VOLUME_FECHAMENTO_ANTERIOR'] = df.BOVESPA_VOLUME.shift(1)\n",
    "df['OURO_FECHAMENTO_ANTERIOR'] = df.OURO.shift(1)\n",
    "df['OURO_VOLUME_FECHAMENTO_ANTERIOR'] = df.OURO_VOLUME.shift(1)\n",
    "df['PETROLEO_FECHAMENTO_ANTERIOR'] = df.PETROLEO.shift(1)\n",
    "df['PETROLEO_VOLUME_FECHAMENTO_ANTERIOR'] = df.PETROLEO_VOLUME.shift(1)\n",
    "df['FERRO_FECHAMENTO_ANTERIOR'] = df.FERRO.shift(1)\n",
    "df['DOLAR_FECHAMENTO_ANTERIOR'] = df.DOLAR.shift(1)\n",
    "df['SELIC_FECHAMENTO_ANTERIOR'] = df.SELIC.shift(1)\n",
    "df['BOVESPA_FECHAMENTO_ANTERIOR'] = df.BOVESPA.shift(1)"
   ]
  },
  {
   "cell_type": "markdown",
   "id": "42ab5993-1717-4d1a-b5bf-4f9cb96f8f30",
   "metadata": {},
   "source": [
    "#### Métricas para calcular o resultado"
   ]
  },
  {
   "cell_type": "code",
   "execution_count": null,
   "id": "e97d3ae4-e48e-411a-b61b-527550db39f5",
   "metadata": {},
   "outputs": [],
   "source": [
    "#Para setar o resultado esperado criaremos estas variáveis para verificação\n",
    "df['SP500_RESULT_30'] = df.SP500.shift(-30)\n",
    "df['BOVESPA_RESULT_30'] = df.BOVESPA.shift(-30)\n",
    "df['BOVESPA_VOLUME_RESULT_30'] = df.BOVESPA_VOLUME.shift(-30)\n",
    "df['OURO_RESULT_30'] = df.OURO.shift(-30)\n",
    "df['OURO_VOLUME_RESULT_30'] = df.OURO_VOLUME.shift(-30)\n",
    "df['PETROLEO_RESULT_30'] = df.PETROLEO.shift(-30)\n",
    "df['PETROLEO_VOLUME_RESULT_30'] = df.PETROLEO_VOLUME.shift(-30)\n",
    "df['FERRO_RESULT_30'] = df.FERRO.shift(-30)\n",
    "df['DOLAR_RESULT_30'] = df.DOLAR.shift(-30)\n",
    "df['SELIC_RESULT_30'] = df.SELIC.shift(-30)\n",
    "\n",
    "#Criando métricas condicionais para medir o retorno mínimo esperado e o maior retorno dentre os pilares de investimento\n",
    "df['SP500_RESULT_DIFF'] = ((df.SP500_RESULT_30 / df.SP500_FECHAMENTO_ANTERIOR) - 1) * 100\n",
    "df['BOVESPA_RESULT_DIFF'] = ((df.BOVESPA_RESULT_30 / df.BOVESPA_FECHAMENTO_ANTERIOR) - 1) * 100\n",
    "df['OURO_RESULT_DIFF'] = ((df.OURO_RESULT_30 / df.OURO_FECHAMENTO_ANTERIOR) - 1) * 100\n",
    "df['DOLAR_RESULT_DIFF'] = ((df.DOLAR_RESULT_30 / df.DOLAR_FECHAMENTO_ANTERIOR) - 1) * 100\n",
    "df['SELIC_RESULT_DIFF'] = ((df.SELIC_RESULT_30 / df.SELIC_FECHAMENTO_ANTERIOR) - 1) * 100"
   ]
  },
  {
   "cell_type": "code",
   "execution_count": null,
   "id": "a62c0b11-ffa2-4752-9cce-ae38b558d050",
   "metadata": {},
   "outputs": [],
   "source": [
    "#Removendo registros com valores nulos\n",
    "df = df.dropna()"
   ]
  },
  {
   "cell_type": "markdown",
   "id": "03149124-b9b5-427d-a5e1-a38b6fc2f8bb",
   "metadata": {},
   "source": [
    "#### Calculando o resultado esperado\n",
    "0 - Não fazer nada\n",
    "1 - Aplicar no índice Bovespa\n",
    "2 - Aplicar em Dólar\n",
    "3 - Aplicar em Ouro\n",
    "4 - Aplicar em Selic\n",
    "5 - ETF SP&500"
   ]
  },
  {
   "cell_type": "code",
   "execution_count": null,
   "id": "e2f26aa8-23b6-48f6-a326-e5fdf31d6cd9",
   "metadata": {},
   "outputs": [],
   "source": [
    "condicoes = [    \n",
    "(df['BOVESPA_RESULT_DIFF'] > df['SP500_RESULT_DIFF']) & (df['BOVESPA_RESULT_DIFF'] > df['OURO_RESULT_DIFF']) & (df['BOVESPA_RESULT_DIFF'] > df['DOLAR_RESULT_DIFF']) & (df['BOVESPA_RESULT_DIFF'] > df['SELIC_RESULT_DIFF']) & (df['BOVESPA_RESULT_DIFF'] > 1)\n",
    ", (df['DOLAR_RESULT_DIFF'] > df['SP500_RESULT_DIFF']) & (df['DOLAR_RESULT_DIFF'] > df['BOVESPA_RESULT_DIFF']) & (df['DOLAR_RESULT_DIFF'] > df['OURO_RESULT_DIFF']) & (df['DOLAR_RESULT_DIFF'] > df['SELIC_RESULT_DIFF']) & (df['DOLAR_RESULT_DIFF'] > 1)\n",
    ", (df['OURO_RESULT_DIFF'] > df['SP500_RESULT_DIFF']) & (df['OURO_RESULT_DIFF'] > df['BOVESPA_RESULT_DIFF']) & (df['OURO_RESULT_DIFF'] > df['DOLAR_RESULT_DIFF']) & (df['OURO_RESULT_DIFF'] > df['SELIC_RESULT_DIFF']) & (df['OURO_RESULT_DIFF'] > 1)\n",
    ", (df['SELIC_RESULT_DIFF'] > df['SP500_RESULT_DIFF']) & (df['SELIC_RESULT_DIFF'] > df['BOVESPA_RESULT_DIFF']) & (df['SELIC_RESULT_DIFF'] > df['OURO_RESULT_DIFF']) & (df['SELIC_RESULT_DIFF'] > df['DOLAR_RESULT_DIFF']) & (df['SELIC_RESULT_DIFF'] > 1)\n",
    ", (df['SP500_RESULT_DIFF'] > df['BOVESPA_RESULT_DIFF']) & (df['SP500_RESULT_DIFF'] > df['OURO_RESULT_DIFF']) & (df['SP500_RESULT_DIFF'] > df['DOLAR_RESULT_DIFF']) & (df['SP500_RESULT_DIFF'] > df['SELIC_RESULT_DIFF']) & (df['SP500_RESULT_DIFF'] > 1)\n",
    "]\n",
    "\n",
    "valores = [1, 2, 3, 4, 5]\n",
    "\n",
    "df['RESULTADO'] = 0\n",
    "df['RESULTADO'] = np.select(condicoes, valores)"
   ]
  },
  {
   "cell_type": "code",
   "execution_count": null,
   "id": "30bea827-cdaf-49b1-a5e8-905ecc89bd44",
   "metadata": {},
   "outputs": [],
   "source": [
    "df.columns"
   ]
  },
  {
   "cell_type": "code",
   "execution_count": null,
   "id": "63b1f303-2bb4-4830-8c58-99cdd07f4efb",
   "metadata": {},
   "outputs": [],
   "source": [
    "#Apagando colunas utilizadas para calcular o resultado e que não serão utilizadas na predição\n",
    "df.drop(['SP500', 'BOVESPA', 'BOVESPA_VOLUME', 'OURO', 'OURO_VOLUME', 'PETROLEO', 'PETROLEO_VOLUME', 'FERRO', 'DOLAR'\n",
    ", 'SELIC', 'SP500_RESULT_30', 'BOVESPA_RESULT_30', 'BOVESPA_VOLUME_RESULT_30', 'OURO_RESULT_30', 'OURO_VOLUME_RESULT_30'\n",
    ", 'PETROLEO_RESULT_30', 'PETROLEO_VOLUME_RESULT_30', 'FERRO_RESULT_30', 'DOLAR_RESULT_30', 'SELIC_RESULT_30', 'SP500_RESULT_DIFF'\n",
    ", 'BOVESPA_RESULT_DIFF', 'OURO_RESULT_DIFF', 'DOLAR_RESULT_DIFF', 'SELIC_RESULT_DIFF'], axis='columns', inplace=True)"
   ]
  },
  {
   "cell_type": "code",
   "execution_count": null,
   "id": "25602e54-1c45-4ff2-8cb7-30ec3bcc9290",
   "metadata": {},
   "outputs": [],
   "source": [
    "df.columns"
   ]
  },
  {
   "cell_type": "code",
   "execution_count": null,
   "id": "c3b10974-4534-482a-bf0a-29037ffc344f",
   "metadata": {},
   "outputs": [],
   "source": [
    "x_df = df.iloc[:,0:19].values\n",
    "y_df = df.iloc[:,20:].values"
   ]
  },
  {
   "cell_type": "code",
   "execution_count": null,
   "id": "9ed8bbae-b208-4d89-b7ee-b84cd694a91d",
   "metadata": {},
   "outputs": [],
   "source": [
    "x_df"
   ]
  },
  {
   "cell_type": "code",
   "execution_count": null,
   "id": "068c9028-8e8c-4f5c-9546-ec649dc22408",
   "metadata": {},
   "outputs": [],
   "source": [
    "scaler_df = StandardScaler()"
   ]
  },
  {
   "cell_type": "code",
   "execution_count": null,
   "id": "1ecdde13-5286-4ac8-af17-4ab4bd1b72e3",
   "metadata": {},
   "outputs": [],
   "source": [
    "X_df = df.fit_transform(x_df)"
   ]
  },
  {
   "cell_type": "code",
   "execution_count": null,
   "id": "82f123a5-222c-4345-901a-a8ae986bf59c",
   "metadata": {},
   "outputs": [],
   "source": []
  },
  {
   "cell_type": "code",
   "execution_count": null,
   "id": "976d208c-2582-42b2-a7f0-62c9ecd45254",
   "metadata": {},
   "outputs": [],
   "source": []
  },
  {
   "cell_type": "code",
   "execution_count": null,
   "id": "7e2280b7-07f9-488a-9c0f-29205be843b2",
   "metadata": {},
   "outputs": [],
   "source": []
  },
  {
   "cell_type": "code",
   "execution_count": null,
   "id": "f18f9d9b-23b6-40b8-ae9a-41264fa70652",
   "metadata": {},
   "outputs": [],
   "source": []
  },
  {
   "cell_type": "code",
   "execution_count": null,
   "id": "97808cd3-572f-41a2-9ba7-3983d9e0832e",
   "metadata": {},
   "outputs": [],
   "source": []
  },
  {
   "cell_type": "code",
   "execution_count": null,
   "id": "d727404b-1287-4efb-80d6-608240a93115",
   "metadata": {},
   "outputs": [],
   "source": []
  },
  {
   "cell_type": "code",
   "execution_count": null,
   "id": "ef2db9ba-daaa-4afa-be6f-53c7a7f67444",
   "metadata": {},
   "outputs": [],
   "source": []
  },
  {
   "cell_type": "code",
   "execution_count": null,
   "id": "f905a6a8-fbda-4f45-984e-60dc011a803b",
   "metadata": {},
   "outputs": [],
   "source": []
  },
  {
   "cell_type": "code",
   "execution_count": null,
   "id": "67672bfd-319c-4613-893f-aa2cc076e54e",
   "metadata": {},
   "outputs": [],
   "source": []
  },
  {
   "cell_type": "code",
   "execution_count": null,
   "id": "ad3f64b1-0195-4b27-ab1a-eb365e4b77cc",
   "metadata": {},
   "outputs": [],
   "source": []
  },
  {
   "cell_type": "code",
   "execution_count": null,
   "id": "834b0753-8789-4dd6-9ee9-26f120c2f226",
   "metadata": {},
   "outputs": [],
   "source": []
  },
  {
   "cell_type": "code",
   "execution_count": null,
   "id": "72f771f9-3619-4fa3-8d2d-0a114d3f4b9f",
   "metadata": {},
   "outputs": [],
   "source": []
  },
  {
   "cell_type": "code",
   "execution_count": null,
   "id": "993c0713-8e9d-49d8-923f-6e6ebd038710",
   "metadata": {},
   "outputs": [],
   "source": []
  },
  {
   "cell_type": "code",
   "execution_count": null,
   "id": "60030583-f156-47bc-870d-daf743f6af4d",
   "metadata": {},
   "outputs": [],
   "source": []
  },
  {
   "cell_type": "code",
   "execution_count": null,
   "id": "d11cb690-58aa-4af8-a542-337167070af3",
   "metadata": {},
   "outputs": [],
   "source": []
  },
  {
   "cell_type": "code",
   "execution_count": null,
   "id": "ed676932-0235-4871-9aef-5ca4ea817ef1",
   "metadata": {},
   "outputs": [],
   "source": [
    "df.to_csv('saida/saida.csv')\n",
    "df.head(100)"
   ]
  }
 ],
 "metadata": {
  "kernelspec": {
   "display_name": "Python 3",
   "language": "python",
   "name": "python3"
  },
  "language_info": {
   "codemirror_mode": {
    "name": "ipython",
    "version": 3
   },
   "file_extension": ".py",
   "mimetype": "text/x-python",
   "name": "python",
   "nbconvert_exporter": "python",
   "pygments_lexer": "ipython3",
   "version": "3.9.4"
  }
 },
 "nbformat": 4,
 "nbformat_minor": 5
}
