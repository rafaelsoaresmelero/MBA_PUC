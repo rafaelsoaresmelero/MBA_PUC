{
 "cells": [
  {
   "cell_type": "markdown",
   "id": "b35635af-e6c0-4f54-83e6-78c346cf9d15",
   "metadata": {},
   "source": [
    "# Análise de Índices Macroeconômicos para Sugestionamento de Pilar de Investimento"
   ]
  },
  {
   "cell_type": "markdown",
   "id": "7fed9917-389f-431e-98e6-cde5b652d403",
   "metadata": {},
   "source": [
    "## Instalação/Referência de bibliotecas utilizadas"
   ]
  },
  {
   "cell_type": "code",
   "execution_count": 1,
   "id": "00cd3907-5d11-49ca-b378-526627f602fd",
   "metadata": {
    "tags": []
   },
   "outputs": [
    {
     "name": "stdout",
     "output_type": "stream",
     "text": [
      "Requirement already satisfied: pandas in c:\\users\\rafael.melero\\miniconda3\\lib\\site-packages (1.3.3)\n",
      "Requirement already satisfied: pytz>=2017.3 in c:\\users\\rafael.melero\\miniconda3\\lib\\site-packages (from pandas) (2021.1)\n",
      "Requirement already satisfied: numpy>=1.17.3 in c:\\users\\rafael.melero\\miniconda3\\lib\\site-packages (from pandas) (1.21.2)\n",
      "Requirement already satisfied: python-dateutil>=2.7.3 in c:\\users\\rafael.melero\\miniconda3\\lib\\site-packages (from pandas) (2.8.2)\n",
      "Requirement already satisfied: six>=1.5 in c:\\users\\rafael.melero\\miniconda3\\lib\\site-packages (from python-dateutil>=2.7.3->pandas) (1.15.0)\n"
     ]
    }
   ],
   "source": [
    "!pip install pandas"
   ]
  },
  {
   "cell_type": "code",
   "execution_count": 2,
   "id": "4959f35d-e310-4d73-b38f-a10f0aa0426e",
   "metadata": {
    "tags": []
   },
   "outputs": [],
   "source": [
    "import numpy as np\n",
    "import pandas as pd\n",
    "import datetime\n",
    "import seaborn as sns\n",
    "import matplotlib.pyplot as plt"
   ]
  },
  {
   "cell_type": "markdown",
   "id": "8a43c611-9c0f-419c-bcbf-6a6fce7d67d4",
   "metadata": {},
   "source": [
    "## Importação e tratativa inicial dos dados"
   ]
  },
  {
   "cell_type": "markdown",
   "id": "79ea3ed9-1e87-4810-b7e5-2200549db91f",
   "metadata": {},
   "source": [
    "### Taxas"
   ]
  },
  {
   "cell_type": "markdown",
   "id": "5f0a1366-f1a4-467d-852f-733fde18d473",
   "metadata": {},
   "source": [
    "#### Taxa Selic"
   ]
  },
  {
   "cell_type": "code",
   "execution_count": 3,
   "id": "431b1a0a-91e7-49fe-87f1-a874ccd3a624",
   "metadata": {
    "tags": []
   },
   "outputs": [],
   "source": [
    "selic = pd.read_csv('dados/Selic.csv',sep=';')"
   ]
  },
  {
   "cell_type": "code",
   "execution_count": 4,
   "id": "0aa7bae4-58cb-4f67-b6c1-f68b62371e18",
   "metadata": {
    "tags": []
   },
   "outputs": [
    {
     "data": {
      "text/plain": [
       "Data     object\n",
       "Valor    object\n",
       "dtype: object"
      ]
     },
     "execution_count": 4,
     "metadata": {},
     "output_type": "execute_result"
    }
   ],
   "source": [
    "selic.dtypes"
   ]
  },
  {
   "cell_type": "code",
   "execution_count": 5,
   "id": "b6c61976-bbed-43cd-98d1-de8c806b2b59",
   "metadata": {
    "tags": []
   },
   "outputs": [
    {
     "data": {
      "text/html": [
       "<div>\n",
       "<style scoped>\n",
       "    .dataframe tbody tr th:only-of-type {\n",
       "        vertical-align: middle;\n",
       "    }\n",
       "\n",
       "    .dataframe tbody tr th {\n",
       "        vertical-align: top;\n",
       "    }\n",
       "\n",
       "    .dataframe thead th {\n",
       "        text-align: right;\n",
       "    }\n",
       "</style>\n",
       "<table border=\"1\" class=\"dataframe\">\n",
       "  <thead>\n",
       "    <tr style=\"text-align: right;\">\n",
       "      <th></th>\n",
       "      <th>Data</th>\n",
       "      <th>Valor</th>\n",
       "    </tr>\n",
       "  </thead>\n",
       "  <tbody>\n",
       "    <tr>\n",
       "      <th>0</th>\n",
       "      <td>01/01/2010</td>\n",
       "      <td>8,75</td>\n",
       "    </tr>\n",
       "  </tbody>\n",
       "</table>\n",
       "</div>"
      ],
      "text/plain": [
       "         Data Valor\n",
       "0  01/01/2010  8,75"
      ]
     },
     "execution_count": 5,
     "metadata": {},
     "output_type": "execute_result"
    }
   ],
   "source": [
    "selic.head(1)"
   ]
  },
  {
   "cell_type": "code",
   "execution_count": 6,
   "id": "7533542a-3015-4aa4-bff9-5d05057c34c3",
   "metadata": {
    "tags": []
   },
   "outputs": [],
   "source": [
    "#Padronizando a nomenclatura das colunas\n",
    "selic.rename(columns={'Data' : 'DATA_PREGAO', 'Valor' : 'SELIC'}, inplace = True)\n",
    "\n",
    "#Padronizando a coluna DATA_PREGAO\n",
    "selic['DATA_PREGAO'] = pd.to_datetime(selic['DATA_PREGAO'], format=\"%d/%m/%Y\")\n",
    "\n",
    "#Padronizando a coluna de valor\n",
    "selic['SELIC'] = selic['SELIC'].apply(lambda x: x.replace(',', '.'))\n",
    "selic['SELIC'] = pd.to_numeric(selic['SELIC'], downcast='float')\n",
    "\n",
    "#Criando índice\n",
    "selic.set_index('DATA_PREGAO', inplace=True)"
   ]
  },
  {
   "cell_type": "code",
   "execution_count": 7,
   "id": "3b4183d2-9daf-4da1-914e-b915669ed2aa",
   "metadata": {
    "tags": []
   },
   "outputs": [
    {
     "data": {
      "text/plain": [
       "SELIC    float32\n",
       "dtype: object"
      ]
     },
     "execution_count": 7,
     "metadata": {},
     "output_type": "execute_result"
    }
   ],
   "source": [
    "selic.dtypes"
   ]
  },
  {
   "cell_type": "code",
   "execution_count": 8,
   "id": "f698ede7-18a2-4b06-bab9-62d1e8f3ef32",
   "metadata": {
    "tags": []
   },
   "outputs": [
    {
     "data": {
      "text/html": [
       "<div>\n",
       "<style scoped>\n",
       "    .dataframe tbody tr th:only-of-type {\n",
       "        vertical-align: middle;\n",
       "    }\n",
       "\n",
       "    .dataframe tbody tr th {\n",
       "        vertical-align: top;\n",
       "    }\n",
       "\n",
       "    .dataframe thead th {\n",
       "        text-align: right;\n",
       "    }\n",
       "</style>\n",
       "<table border=\"1\" class=\"dataframe\">\n",
       "  <thead>\n",
       "    <tr style=\"text-align: right;\">\n",
       "      <th></th>\n",
       "      <th>SELIC</th>\n",
       "    </tr>\n",
       "    <tr>\n",
       "      <th>DATA_PREGAO</th>\n",
       "      <th></th>\n",
       "    </tr>\n",
       "  </thead>\n",
       "  <tbody>\n",
       "    <tr>\n",
       "      <th>2010-01-01</th>\n",
       "      <td>8.75</td>\n",
       "    </tr>\n",
       "  </tbody>\n",
       "</table>\n",
       "</div>"
      ],
      "text/plain": [
       "             SELIC\n",
       "DATA_PREGAO       \n",
       "2010-01-01    8.75"
      ]
     },
     "execution_count": 8,
     "metadata": {},
     "output_type": "execute_result"
    }
   ],
   "source": [
    "selic.head(1)"
   ]
  },
  {
   "cell_type": "markdown",
   "id": "6e478c2a-b816-4127-aa28-c0798c222202",
   "metadata": {},
   "source": [
    "#### Taxa Câmbio: Dólar"
   ]
  },
  {
   "cell_type": "code",
   "execution_count": 9,
   "id": "204342dd-6df1-4c7b-82d6-a554c6591572",
   "metadata": {
    "tags": []
   },
   "outputs": [],
   "source": [
    "dolar = pd.read_csv('dados/Dolar.csv', sep=';',dtype='str')"
   ]
  },
  {
   "cell_type": "code",
   "execution_count": 10,
   "id": "2b39a123-57cd-481a-bf4a-9a654da56467",
   "metadata": {},
   "outputs": [
    {
     "data": {
      "text/plain": [
       "DATA       object\n",
       "COLUNA1    object\n",
       "COLUNA2    object\n",
       "TIPO       object\n",
       "COMPRA     object\n",
       "VENDA      object\n",
       "COLUNA3    object\n",
       "COLUNA4    object\n",
       "COLUNA5    object\n",
       "dtype: object"
      ]
     },
     "execution_count": 10,
     "metadata": {},
     "output_type": "execute_result"
    }
   ],
   "source": [
    "dolar.dtypes"
   ]
  },
  {
   "cell_type": "code",
   "execution_count": 11,
   "id": "8dbe7632-0773-4a28-8041-0041d4606dc2",
   "metadata": {
    "tags": []
   },
   "outputs": [
    {
     "data": {
      "text/html": [
       "<div>\n",
       "<style scoped>\n",
       "    .dataframe tbody tr th:only-of-type {\n",
       "        vertical-align: middle;\n",
       "    }\n",
       "\n",
       "    .dataframe tbody tr th {\n",
       "        vertical-align: top;\n",
       "    }\n",
       "\n",
       "    .dataframe thead th {\n",
       "        text-align: right;\n",
       "    }\n",
       "</style>\n",
       "<table border=\"1\" class=\"dataframe\">\n",
       "  <thead>\n",
       "    <tr style=\"text-align: right;\">\n",
       "      <th></th>\n",
       "      <th>DATA</th>\n",
       "      <th>COLUNA1</th>\n",
       "      <th>COLUNA2</th>\n",
       "      <th>TIPO</th>\n",
       "      <th>COMPRA</th>\n",
       "      <th>VENDA</th>\n",
       "      <th>COLUNA3</th>\n",
       "      <th>COLUNA4</th>\n",
       "      <th>COLUNA5</th>\n",
       "    </tr>\n",
       "  </thead>\n",
       "  <tbody>\n",
       "    <tr>\n",
       "      <th>0</th>\n",
       "      <td>04012010</td>\n",
       "      <td>220</td>\n",
       "      <td>A</td>\n",
       "      <td>USD</td>\n",
       "      <td>1,7232</td>\n",
       "      <td>1,7240</td>\n",
       "      <td>1,0000</td>\n",
       "      <td>1,0000</td>\n",
       "      <td>NaN</td>\n",
       "    </tr>\n",
       "  </tbody>\n",
       "</table>\n",
       "</div>"
      ],
      "text/plain": [
       "       DATA COLUNA1 COLUNA2 TIPO  COMPRA   VENDA COLUNA3 COLUNA4 COLUNA5\n",
       "0  04012010     220       A  USD  1,7232  1,7240  1,0000  1,0000     NaN"
      ]
     },
     "execution_count": 11,
     "metadata": {},
     "output_type": "execute_result"
    }
   ],
   "source": [
    "dolar.head(1)"
   ]
  },
  {
   "cell_type": "code",
   "execution_count": 12,
   "id": "bdec6dae-bb1e-4bba-924d-c75816049c0a",
   "metadata": {
    "tags": []
   },
   "outputs": [],
   "source": [
    "#Padronizando a nomenclatura das colunas\n",
    "dolar.rename(columns={'DATA' : 'DATA_PREGAO', 'COMPRA' : 'DOLAR'}, inplace = True)\n",
    "\n",
    "#Removendo colunas desnecessárias\n",
    "dolar.drop(['COLUNA1', 'COLUNA2', 'TIPO', 'VENDA', 'COLUNA3', 'COLUNA4', 'COLUNA5'], inplace=True, axis=1)\n",
    "\n",
    "#Padronizando a coluna DATA_PREGAO\n",
    "dolar['DATA_PREGAO'] = dolar['DATA_PREGAO'].apply(lambda x: x[0:2] + '/' + x[2:4] + '/' + x[4:])\n",
    "dolar['DATA_PREGAO'] = pd.to_datetime(dolar['DATA_PREGAO'], format=\"%d/%m/%Y\")\n",
    "\n",
    "#Padronizando a coluna de valor\n",
    "dolar['DOLAR'] = dolar['DOLAR'].apply(lambda x: x.replace(',', '.'))\n",
    "dolar['DOLAR'] = pd.to_numeric(dolar['DOLAR'], downcast='float')\n",
    "\n",
    "#Criando índice\n",
    "dolar.set_index('DATA_PREGAO', inplace=True)"
   ]
  },
  {
   "cell_type": "code",
   "execution_count": 13,
   "id": "5461a9b4-f291-4976-9a1d-7cb49451333d",
   "metadata": {
    "tags": []
   },
   "outputs": [
    {
     "data": {
      "text/plain": [
       "DOLAR    float32\n",
       "dtype: object"
      ]
     },
     "execution_count": 13,
     "metadata": {},
     "output_type": "execute_result"
    }
   ],
   "source": [
    "dolar.dtypes"
   ]
  },
  {
   "cell_type": "code",
   "execution_count": 14,
   "id": "e9c3f010-72f6-4dd3-8226-1c123886301c",
   "metadata": {
    "tags": []
   },
   "outputs": [
    {
     "data": {
      "text/html": [
       "<div>\n",
       "<style scoped>\n",
       "    .dataframe tbody tr th:only-of-type {\n",
       "        vertical-align: middle;\n",
       "    }\n",
       "\n",
       "    .dataframe tbody tr th {\n",
       "        vertical-align: top;\n",
       "    }\n",
       "\n",
       "    .dataframe thead th {\n",
       "        text-align: right;\n",
       "    }\n",
       "</style>\n",
       "<table border=\"1\" class=\"dataframe\">\n",
       "  <thead>\n",
       "    <tr style=\"text-align: right;\">\n",
       "      <th></th>\n",
       "      <th>DOLAR</th>\n",
       "    </tr>\n",
       "    <tr>\n",
       "      <th>DATA_PREGAO</th>\n",
       "      <th></th>\n",
       "    </tr>\n",
       "  </thead>\n",
       "  <tbody>\n",
       "    <tr>\n",
       "      <th>2010-01-04</th>\n",
       "      <td>1.7232</td>\n",
       "    </tr>\n",
       "  </tbody>\n",
       "</table>\n",
       "</div>"
      ],
      "text/plain": [
       "              DOLAR\n",
       "DATA_PREGAO        \n",
       "2010-01-04   1.7232"
      ]
     },
     "execution_count": 14,
     "metadata": {},
     "output_type": "execute_result"
    }
   ],
   "source": [
    "dolar.head(1)"
   ]
  },
  {
   "cell_type": "markdown",
   "id": "017c92e6-2288-4b5c-8a5e-4848a2a319f4",
   "metadata": {
    "tags": []
   },
   "source": [
    "### Commodities"
   ]
  },
  {
   "cell_type": "markdown",
   "id": "74642fa2-1cd3-4d06-9e1f-aea46bce074f",
   "metadata": {
    "tags": []
   },
   "source": [
    "#### Minério de Ferro Refinado"
   ]
  },
  {
   "cell_type": "code",
   "execution_count": 15,
   "id": "fe4c90e6-4124-4e0e-84d8-3ef5a32a4eb0",
   "metadata": {
    "tags": []
   },
   "outputs": [],
   "source": [
    "ferro = pd.read_csv('dados/Minerio_Ferro.csv', sep=',')"
   ]
  },
  {
   "cell_type": "code",
   "execution_count": 16,
   "id": "89f78bcf-106c-4311-8abd-fb6852bd2d5a",
   "metadata": {},
   "outputs": [
    {
     "data": {
      "text/plain": [
       "Data        object\n",
       "Último      object\n",
       "Abertura    object\n",
       "Máxima      object\n",
       "Mínima      object\n",
       "Vol.        object\n",
       "Var%        object\n",
       "dtype: object"
      ]
     },
     "execution_count": 16,
     "metadata": {},
     "output_type": "execute_result"
    }
   ],
   "source": [
    "ferro.dtypes"
   ]
  },
  {
   "cell_type": "code",
   "execution_count": 17,
   "id": "b8efd1a5-6df4-4756-a15e-246f99109622",
   "metadata": {},
   "outputs": [
    {
     "data": {
      "text/html": [
       "<div>\n",
       "<style scoped>\n",
       "    .dataframe tbody tr th:only-of-type {\n",
       "        vertical-align: middle;\n",
       "    }\n",
       "\n",
       "    .dataframe tbody tr th {\n",
       "        vertical-align: top;\n",
       "    }\n",
       "\n",
       "    .dataframe thead th {\n",
       "        text-align: right;\n",
       "    }\n",
       "</style>\n",
       "<table border=\"1\" class=\"dataframe\">\n",
       "  <thead>\n",
       "    <tr style=\"text-align: right;\">\n",
       "      <th></th>\n",
       "      <th>Data</th>\n",
       "      <th>Último</th>\n",
       "      <th>Abertura</th>\n",
       "      <th>Máxima</th>\n",
       "      <th>Mínima</th>\n",
       "      <th>Vol.</th>\n",
       "      <th>Var%</th>\n",
       "    </tr>\n",
       "  </thead>\n",
       "  <tbody>\n",
       "    <tr>\n",
       "      <th>0</th>\n",
       "      <td>31.12.2020</td>\n",
       "      <td>155,84</td>\n",
       "      <td>155,84</td>\n",
       "      <td>155,84</td>\n",
       "      <td>155,84</td>\n",
       "      <td>-</td>\n",
       "      <td>0,09%</td>\n",
       "    </tr>\n",
       "  </tbody>\n",
       "</table>\n",
       "</div>"
      ],
      "text/plain": [
       "         Data  Último Abertura  Máxima  Mínima Vol.   Var%\n",
       "0  31.12.2020  155,84   155,84  155,84  155,84    -  0,09%"
      ]
     },
     "execution_count": 17,
     "metadata": {},
     "output_type": "execute_result"
    }
   ],
   "source": [
    "ferro.head(1)"
   ]
  },
  {
   "cell_type": "code",
   "execution_count": 18,
   "id": "ece01174-fe1f-494c-91c4-4e1f642247d2",
   "metadata": {
    "tags": []
   },
   "outputs": [],
   "source": [
    "#Padronizando a nomenclatura das colunas\n",
    "ferro.rename(columns={'Data' : 'DATA_PREGAO', 'Último' : 'FERRO'}, inplace = True)\n",
    "\n",
    "#Removendo colunas desnecessárias\n",
    "ferro.drop(['Abertura', 'Máxima', 'Mínima', 'Vol.', 'Var%'], inplace=True, axis=1)\n",
    "\n",
    "#Padronizando a coluna DATA_PREGAO\n",
    "ferro['DATA_PREGAO'] = ferro['DATA_PREGAO'].apply(lambda x: x.replace('.', '/'))\n",
    "ferro['DATA_PREGAO'] = pd.to_datetime(ferro['DATA_PREGAO'], format=\"%d/%m/%Y\")\n",
    "\n",
    "#Padronizando a coluna de valor\n",
    "ferro['FERRO'] = ferro['FERRO'].apply(lambda x: x.replace(',', '.'))\n",
    "ferro['FERRO'] = pd.to_numeric(ferro['FERRO'], downcast='float')\n",
    "\n",
    "#Criando índice\n",
    "ferro.set_index('DATA_PREGAO', inplace=True)"
   ]
  },
  {
   "cell_type": "code",
   "execution_count": 19,
   "id": "f6694f87-c457-4b53-bf52-3eb501c10e27",
   "metadata": {},
   "outputs": [
    {
     "data": {
      "text/plain": [
       "FERRO    float32\n",
       "dtype: object"
      ]
     },
     "execution_count": 19,
     "metadata": {},
     "output_type": "execute_result"
    }
   ],
   "source": [
    "ferro.dtypes"
   ]
  },
  {
   "cell_type": "code",
   "execution_count": 20,
   "id": "c620bac3-fbca-4e1f-8c0d-5066b8bcb1da",
   "metadata": {},
   "outputs": [
    {
     "data": {
      "text/html": [
       "<div>\n",
       "<style scoped>\n",
       "    .dataframe tbody tr th:only-of-type {\n",
       "        vertical-align: middle;\n",
       "    }\n",
       "\n",
       "    .dataframe tbody tr th {\n",
       "        vertical-align: top;\n",
       "    }\n",
       "\n",
       "    .dataframe thead th {\n",
       "        text-align: right;\n",
       "    }\n",
       "</style>\n",
       "<table border=\"1\" class=\"dataframe\">\n",
       "  <thead>\n",
       "    <tr style=\"text-align: right;\">\n",
       "      <th></th>\n",
       "      <th>FERRO</th>\n",
       "    </tr>\n",
       "    <tr>\n",
       "      <th>DATA_PREGAO</th>\n",
       "      <th></th>\n",
       "    </tr>\n",
       "  </thead>\n",
       "  <tbody>\n",
       "    <tr>\n",
       "      <th>2020-12-31</th>\n",
       "      <td>155.839996</td>\n",
       "    </tr>\n",
       "  </tbody>\n",
       "</table>\n",
       "</div>"
      ],
      "text/plain": [
       "                  FERRO\n",
       "DATA_PREGAO            \n",
       "2020-12-31   155.839996"
      ]
     },
     "execution_count": 20,
     "metadata": {},
     "output_type": "execute_result"
    }
   ],
   "source": [
    "ferro.head(1)"
   ]
  },
  {
   "cell_type": "markdown",
   "id": "00ca283c-3c78-46b2-bcd8-f9dd0d1776ce",
   "metadata": {},
   "source": [
    "#### Petróleo Brent Futuros"
   ]
  },
  {
   "cell_type": "code",
   "execution_count": 21,
   "id": "bb7dc36f-bcf5-46c5-9fb1-138bf0fbf34f",
   "metadata": {},
   "outputs": [],
   "source": [
    "petroleo = pd.read_csv('dados/Petroleo_Brent.csv', sep=',')"
   ]
  },
  {
   "cell_type": "code",
   "execution_count": 22,
   "id": "60f894a0-448a-4421-a5f6-5040b8663063",
   "metadata": {},
   "outputs": [
    {
     "data": {
      "text/plain": [
       "Data        object\n",
       "Último      object\n",
       "Abertura    object\n",
       "Máxima      object\n",
       "Mínima      object\n",
       "Vol.        object\n",
       "Var%        object\n",
       "dtype: object"
      ]
     },
     "execution_count": 22,
     "metadata": {},
     "output_type": "execute_result"
    }
   ],
   "source": [
    "petroleo.dtypes"
   ]
  },
  {
   "cell_type": "code",
   "execution_count": 23,
   "id": "5a027bc6-4aee-4727-b0ed-7d73338957af",
   "metadata": {},
   "outputs": [
    {
     "data": {
      "text/html": [
       "<div>\n",
       "<style scoped>\n",
       "    .dataframe tbody tr th:only-of-type {\n",
       "        vertical-align: middle;\n",
       "    }\n",
       "\n",
       "    .dataframe tbody tr th {\n",
       "        vertical-align: top;\n",
       "    }\n",
       "\n",
       "    .dataframe thead th {\n",
       "        text-align: right;\n",
       "    }\n",
       "</style>\n",
       "<table border=\"1\" class=\"dataframe\">\n",
       "  <thead>\n",
       "    <tr style=\"text-align: right;\">\n",
       "      <th></th>\n",
       "      <th>Data</th>\n",
       "      <th>Último</th>\n",
       "      <th>Abertura</th>\n",
       "      <th>Máxima</th>\n",
       "      <th>Mínima</th>\n",
       "      <th>Vol.</th>\n",
       "      <th>Var%</th>\n",
       "    </tr>\n",
       "  </thead>\n",
       "  <tbody>\n",
       "    <tr>\n",
       "      <th>0</th>\n",
       "      <td>31.12.2020</td>\n",
       "      <td>51,80</td>\n",
       "      <td>51,49</td>\n",
       "      <td>51,84</td>\n",
       "      <td>50,90</td>\n",
       "      <td>133,22K</td>\n",
       "      <td>0,90%</td>\n",
       "    </tr>\n",
       "  </tbody>\n",
       "</table>\n",
       "</div>"
      ],
      "text/plain": [
       "         Data Último Abertura Máxima Mínima     Vol.   Var%\n",
       "0  31.12.2020  51,80    51,49  51,84  50,90  133,22K  0,90%"
      ]
     },
     "execution_count": 23,
     "metadata": {},
     "output_type": "execute_result"
    }
   ],
   "source": [
    "petroleo.head(1)"
   ]
  },
  {
   "cell_type": "code",
   "execution_count": 24,
   "id": "3b463505-0b2c-4608-99d9-c5b68a055e4a",
   "metadata": {
    "tags": []
   },
   "outputs": [],
   "source": [
    "#Padronizando a nomenclatura das colunas\n",
    "petroleo.rename(columns={'Data' : 'DATA_PREGAO', 'Último' : 'PETROLEO', 'Vol.' : 'PETROLEO_VOLUME'}, inplace = True)\n",
    "\n",
    "#Removendo colunas desnecessárias\n",
    "petroleo.drop(['Abertura', 'Máxima', 'Mínima', 'Var%'], inplace=True, axis=1)\n",
    "\n",
    "#Padronizando a coluna DATA_PREGAO\n",
    "petroleo['DATA_PREGAO'] = petroleo['DATA_PREGAO'].apply(lambda x: x.replace('.', '/'))\n",
    "petroleo['DATA_PREGAO'] = pd.to_datetime(petroleo['DATA_PREGAO'], format=\"%d/%m/%Y\")\n",
    "\n",
    "#Padronizando a coluna de valor\n",
    "petroleo['PETROLEO'] = petroleo['PETROLEO'].apply(lambda x: x.replace(',', '.'))\n",
    "petroleo['PETROLEO'] = pd.to_numeric(petroleo['PETROLEO'], downcast='float')\n",
    "\n",
    "#Tratando o Volume\n",
    "#    Verificando a contagem de registros que não tem o K\n",
    "petroleo[~petroleo['PETROLEO_VOLUME'].str.contains(\"K\")].count()\n",
    "#    Substituindo o Valor - por 0 e o K multiplicado por 1.000\n",
    "petroleo['PETROLEO_VOLUME'] = petroleo['PETROLEO_VOLUME'].apply(lambda x: float(x.replace('-', '0').replace(',', '.').replace('K', ''))*1000)  \n",
    "\n",
    "#Criando índice\n",
    "petroleo.set_index('DATA_PREGAO', inplace=True)"
   ]
  },
  {
   "cell_type": "code",
   "execution_count": 25,
   "id": "3bfed9d5-7b58-419d-be82-8043e155b44f",
   "metadata": {},
   "outputs": [
    {
     "data": {
      "text/plain": [
       "PETROLEO           float32\n",
       "PETROLEO_VOLUME    float64\n",
       "dtype: object"
      ]
     },
     "execution_count": 25,
     "metadata": {},
     "output_type": "execute_result"
    }
   ],
   "source": [
    "petroleo.dtypes"
   ]
  },
  {
   "cell_type": "code",
   "execution_count": 26,
   "id": "8c15d128-65c7-4850-91d6-041cab192d64",
   "metadata": {},
   "outputs": [
    {
     "data": {
      "text/html": [
       "<div>\n",
       "<style scoped>\n",
       "    .dataframe tbody tr th:only-of-type {\n",
       "        vertical-align: middle;\n",
       "    }\n",
       "\n",
       "    .dataframe tbody tr th {\n",
       "        vertical-align: top;\n",
       "    }\n",
       "\n",
       "    .dataframe thead th {\n",
       "        text-align: right;\n",
       "    }\n",
       "</style>\n",
       "<table border=\"1\" class=\"dataframe\">\n",
       "  <thead>\n",
       "    <tr style=\"text-align: right;\">\n",
       "      <th></th>\n",
       "      <th>PETROLEO</th>\n",
       "      <th>PETROLEO_VOLUME</th>\n",
       "    </tr>\n",
       "    <tr>\n",
       "      <th>DATA_PREGAO</th>\n",
       "      <th></th>\n",
       "      <th></th>\n",
       "    </tr>\n",
       "  </thead>\n",
       "  <tbody>\n",
       "    <tr>\n",
       "      <th>2020-12-31</th>\n",
       "      <td>51.799999</td>\n",
       "      <td>133220.0</td>\n",
       "    </tr>\n",
       "  </tbody>\n",
       "</table>\n",
       "</div>"
      ],
      "text/plain": [
       "              PETROLEO  PETROLEO_VOLUME\n",
       "DATA_PREGAO                            \n",
       "2020-12-31   51.799999         133220.0"
      ]
     },
     "execution_count": 26,
     "metadata": {},
     "output_type": "execute_result"
    }
   ],
   "source": [
    "petroleo.head(1)"
   ]
  },
  {
   "cell_type": "markdown",
   "id": "e60dc726-77be-4d3d-b414-7bd69d582f98",
   "metadata": {},
   "source": [
    "#### Ouro"
   ]
  },
  {
   "cell_type": "code",
   "execution_count": 27,
   "id": "28b6f88b-1e05-417f-9fdc-0b670304d9f9",
   "metadata": {},
   "outputs": [],
   "source": [
    "ouro = pd.read_csv('dados/Ouro.csv', sep=',')"
   ]
  },
  {
   "cell_type": "code",
   "execution_count": 28,
   "id": "7bc354b7-d359-4337-87a9-4f3b36010942",
   "metadata": {},
   "outputs": [
    {
     "data": {
      "text/plain": [
       "Data        object\n",
       "Último      object\n",
       "Abertura    object\n",
       "Máxima      object\n",
       "Mínima      object\n",
       "Vol.        object\n",
       "Var%        object\n",
       "dtype: object"
      ]
     },
     "execution_count": 28,
     "metadata": {},
     "output_type": "execute_result"
    }
   ],
   "source": [
    "ouro.dtypes"
   ]
  },
  {
   "cell_type": "code",
   "execution_count": 29,
   "id": "3a6242e3-36d7-4dbb-b74b-52b0c07af47a",
   "metadata": {},
   "outputs": [
    {
     "data": {
      "text/html": [
       "<div>\n",
       "<style scoped>\n",
       "    .dataframe tbody tr th:only-of-type {\n",
       "        vertical-align: middle;\n",
       "    }\n",
       "\n",
       "    .dataframe tbody tr th {\n",
       "        vertical-align: top;\n",
       "    }\n",
       "\n",
       "    .dataframe thead th {\n",
       "        text-align: right;\n",
       "    }\n",
       "</style>\n",
       "<table border=\"1\" class=\"dataframe\">\n",
       "  <thead>\n",
       "    <tr style=\"text-align: right;\">\n",
       "      <th></th>\n",
       "      <th>Data</th>\n",
       "      <th>Último</th>\n",
       "      <th>Abertura</th>\n",
       "      <th>Máxima</th>\n",
       "      <th>Mínima</th>\n",
       "      <th>Vol.</th>\n",
       "      <th>Var%</th>\n",
       "    </tr>\n",
       "  </thead>\n",
       "  <tbody>\n",
       "    <tr>\n",
       "      <th>0</th>\n",
       "      <td>31.12.2020</td>\n",
       "      <td>1.905,80</td>\n",
       "      <td>1.910,00</td>\n",
       "      <td>1.915,20</td>\n",
       "      <td>1.902,90</td>\n",
       "      <td>0,73K</td>\n",
       "      <td>0,09%</td>\n",
       "    </tr>\n",
       "  </tbody>\n",
       "</table>\n",
       "</div>"
      ],
      "text/plain": [
       "         Data    Último  Abertura    Máxima    Mínima   Vol.   Var%\n",
       "0  31.12.2020  1.905,80  1.910,00  1.915,20  1.902,90  0,73K  0,09%"
      ]
     },
     "execution_count": 29,
     "metadata": {},
     "output_type": "execute_result"
    }
   ],
   "source": [
    "ouro.head(1)"
   ]
  },
  {
   "cell_type": "code",
   "execution_count": 30,
   "id": "1ecadf34-9c71-4959-b7ca-50f7e7fded9c",
   "metadata": {
    "tags": []
   },
   "outputs": [],
   "source": [
    "#Padronizando a nomenclatura das colunas\n",
    "ouro.rename(columns={'Data' : 'DATA_PREGAO', 'Último' : 'OURO', 'Vol.' : 'OURO_VOLUME'}, inplace = True)\n",
    "\n",
    "#Removendo colunas desnecessárias\n",
    "ouro.drop(['Abertura', 'Máxima', 'Mínima', 'Var%'], inplace=True, axis=1)\n",
    "\n",
    "#Padronizando a coluna DATA_PREGAO\n",
    "ouro['DATA_PREGAO'] = ouro['DATA_PREGAO'].apply(lambda x: x.replace('.', '/'))\n",
    "ouro['DATA_PREGAO'] = pd.to_datetime(ouro['DATA_PREGAO'], format=\"%d/%m/%Y\")\n",
    "\n",
    "#Padronizando a coluna de valor\n",
    "ouro['OURO'] = ouro['OURO'].apply(lambda x: x.replace('.', '').replace(',', '.'))\n",
    "ouro['OURO'] = pd.to_numeric(ouro['OURO'], downcast='float')\n",
    "\n",
    "#Tratando o Volume\n",
    "ouro['OURO_VOLUME'] = ouro['OURO_VOLUME'].apply(lambda x: x.replace('-', '0'))\n",
    "#    Verificando a contagem de registros que não tem o K ou 0\n",
    "ouro[(~ouro['OURO_VOLUME'].str.contains('0')) & (~ouro['OURO_VOLUME'].str.contains('K'))].count()\n",
    "#    Substituindo o Valor K multiplicado por 1.000\n",
    "ouro['OURO_VOLUME'] = ouro['OURO_VOLUME'].apply(lambda x: float(x.replace(',', '.').replace('K', ''))*1000)  \n",
    "\n",
    "#Criando índice\n",
    "ouro.set_index('DATA_PREGAO', inplace=True)"
   ]
  },
  {
   "cell_type": "code",
   "execution_count": 31,
   "id": "ea4543ed-ede1-4402-8585-818a2a502dae",
   "metadata": {},
   "outputs": [
    {
     "data": {
      "text/plain": [
       "OURO           float32\n",
       "OURO_VOLUME    float64\n",
       "dtype: object"
      ]
     },
     "execution_count": 31,
     "metadata": {},
     "output_type": "execute_result"
    }
   ],
   "source": [
    "ouro.dtypes"
   ]
  },
  {
   "cell_type": "code",
   "execution_count": 32,
   "id": "47ba8031-fd52-4991-8665-ad1852ee91cf",
   "metadata": {},
   "outputs": [
    {
     "data": {
      "text/html": [
       "<div>\n",
       "<style scoped>\n",
       "    .dataframe tbody tr th:only-of-type {\n",
       "        vertical-align: middle;\n",
       "    }\n",
       "\n",
       "    .dataframe tbody tr th {\n",
       "        vertical-align: top;\n",
       "    }\n",
       "\n",
       "    .dataframe thead th {\n",
       "        text-align: right;\n",
       "    }\n",
       "</style>\n",
       "<table border=\"1\" class=\"dataframe\">\n",
       "  <thead>\n",
       "    <tr style=\"text-align: right;\">\n",
       "      <th></th>\n",
       "      <th>OURO</th>\n",
       "      <th>OURO_VOLUME</th>\n",
       "    </tr>\n",
       "    <tr>\n",
       "      <th>DATA_PREGAO</th>\n",
       "      <th></th>\n",
       "      <th></th>\n",
       "    </tr>\n",
       "  </thead>\n",
       "  <tbody>\n",
       "    <tr>\n",
       "      <th>2020-12-31</th>\n",
       "      <td>1905.800049</td>\n",
       "      <td>730.0</td>\n",
       "    </tr>\n",
       "  </tbody>\n",
       "</table>\n",
       "</div>"
      ],
      "text/plain": [
       "                    OURO  OURO_VOLUME\n",
       "DATA_PREGAO                          \n",
       "2020-12-31   1905.800049        730.0"
      ]
     },
     "execution_count": 32,
     "metadata": {},
     "output_type": "execute_result"
    }
   ],
   "source": [
    "ouro.head(1)"
   ]
  },
  {
   "cell_type": "markdown",
   "id": "47dd3787-9128-4b6e-81a8-b78504462331",
   "metadata": {},
   "source": [
    "### Índices"
   ]
  },
  {
   "cell_type": "markdown",
   "id": "aea131ce-2e36-4cdd-bd28-d5892225e8ff",
   "metadata": {},
   "source": [
    "#### Índice Bovespa"
   ]
  },
  {
   "cell_type": "code",
   "execution_count": 33,
   "id": "a04d30f4-1739-438d-a7ec-491e89476275",
   "metadata": {},
   "outputs": [],
   "source": [
    "bovespa = pd.read_csv('dados/Indice_Bovespa.csv')"
   ]
  },
  {
   "cell_type": "code",
   "execution_count": 34,
   "id": "4e77f47d-4bf7-4f58-b1fd-67c4295b8db6",
   "metadata": {},
   "outputs": [
    {
     "data": {
      "text/plain": [
       "Date          object\n",
       "Open         float64\n",
       "High         float64\n",
       "Low          float64\n",
       "Close        float64\n",
       "Adj Close    float64\n",
       "Volume       float64\n",
       "dtype: object"
      ]
     },
     "execution_count": 34,
     "metadata": {},
     "output_type": "execute_result"
    }
   ],
   "source": [
    "bovespa.dtypes"
   ]
  },
  {
   "cell_type": "code",
   "execution_count": 35,
   "id": "3ba3b1f0-e16c-478b-9520-b5a991087639",
   "metadata": {},
   "outputs": [
    {
     "data": {
      "text/html": [
       "<div>\n",
       "<style scoped>\n",
       "    .dataframe tbody tr th:only-of-type {\n",
       "        vertical-align: middle;\n",
       "    }\n",
       "\n",
       "    .dataframe tbody tr th {\n",
       "        vertical-align: top;\n",
       "    }\n",
       "\n",
       "    .dataframe thead th {\n",
       "        text-align: right;\n",
       "    }\n",
       "</style>\n",
       "<table border=\"1\" class=\"dataframe\">\n",
       "  <thead>\n",
       "    <tr style=\"text-align: right;\">\n",
       "      <th></th>\n",
       "      <th>Date</th>\n",
       "      <th>Open</th>\n",
       "      <th>High</th>\n",
       "      <th>Low</th>\n",
       "      <th>Close</th>\n",
       "      <th>Adj Close</th>\n",
       "      <th>Volume</th>\n",
       "    </tr>\n",
       "  </thead>\n",
       "  <tbody>\n",
       "    <tr>\n",
       "      <th>0</th>\n",
       "      <td>2010-01-04</td>\n",
       "      <td>68587.0</td>\n",
       "      <td>70081.0</td>\n",
       "      <td>68587.0</td>\n",
       "      <td>70045.0</td>\n",
       "      <td>70045.0</td>\n",
       "      <td>1655400.0</td>\n",
       "    </tr>\n",
       "  </tbody>\n",
       "</table>\n",
       "</div>"
      ],
      "text/plain": [
       "         Date     Open     High      Low    Close  Adj Close     Volume\n",
       "0  2010-01-04  68587.0  70081.0  68587.0  70045.0    70045.0  1655400.0"
      ]
     },
     "execution_count": 35,
     "metadata": {},
     "output_type": "execute_result"
    }
   ],
   "source": [
    "bovespa.head(1)"
   ]
  },
  {
   "cell_type": "code",
   "execution_count": 36,
   "id": "ce77ccb4-9e85-4a53-8c47-add8e39533d5",
   "metadata": {
    "tags": []
   },
   "outputs": [],
   "source": [
    "#Padronizando a nomenclatura das colunas\n",
    "bovespa.rename(columns={'Date' : 'DATA_PREGAO', 'Close' : 'BOVESPA', 'Volume' : 'BOVESPA_VOLUME'}, inplace = True)\n",
    "\n",
    "#Removendo colunas desnecessárias\n",
    "bovespa.drop(['Open', 'High', 'Low', 'Adj Close'], inplace=True, axis=1)\n",
    "\n",
    "#Padronizando a coluna DATA_PREGAO\n",
    "bovespa['DATA_PREGAO'] = pd.to_datetime(bovespa['DATA_PREGAO'])\n",
    "\n",
    "#Padronizando a coluna de VALOR\n",
    "bovespa['BOVESPA'] = bovespa['BOVESPA'].apply(lambda x: float(x))  \n",
    "\n",
    "#Padronizando a coluna de VOLUME\n",
    "bovespa['BOVESPA_VOLUME'] = bovespa['BOVESPA_VOLUME'].apply(lambda x: float(x))  \n",
    "\n",
    "#Criando índice\n",
    "bovespa.set_index('DATA_PREGAO', inplace=True)"
   ]
  },
  {
   "cell_type": "code",
   "execution_count": 37,
   "id": "c838edf9-691a-4ed4-b512-fcf6f061e07c",
   "metadata": {},
   "outputs": [
    {
     "data": {
      "text/plain": [
       "BOVESPA           float64\n",
       "BOVESPA_VOLUME    float64\n",
       "dtype: object"
      ]
     },
     "execution_count": 37,
     "metadata": {},
     "output_type": "execute_result"
    }
   ],
   "source": [
    "bovespa.dtypes"
   ]
  },
  {
   "cell_type": "code",
   "execution_count": 38,
   "id": "333be03d-fc69-41ff-b42d-9912c8ff294d",
   "metadata": {},
   "outputs": [
    {
     "data": {
      "text/html": [
       "<div>\n",
       "<style scoped>\n",
       "    .dataframe tbody tr th:only-of-type {\n",
       "        vertical-align: middle;\n",
       "    }\n",
       "\n",
       "    .dataframe tbody tr th {\n",
       "        vertical-align: top;\n",
       "    }\n",
       "\n",
       "    .dataframe thead th {\n",
       "        text-align: right;\n",
       "    }\n",
       "</style>\n",
       "<table border=\"1\" class=\"dataframe\">\n",
       "  <thead>\n",
       "    <tr style=\"text-align: right;\">\n",
       "      <th></th>\n",
       "      <th>BOVESPA</th>\n",
       "      <th>BOVESPA_VOLUME</th>\n",
       "    </tr>\n",
       "    <tr>\n",
       "      <th>DATA_PREGAO</th>\n",
       "      <th></th>\n",
       "      <th></th>\n",
       "    </tr>\n",
       "  </thead>\n",
       "  <tbody>\n",
       "    <tr>\n",
       "      <th>2010-01-04</th>\n",
       "      <td>70045.0</td>\n",
       "      <td>1655400.0</td>\n",
       "    </tr>\n",
       "  </tbody>\n",
       "</table>\n",
       "</div>"
      ],
      "text/plain": [
       "             BOVESPA  BOVESPA_VOLUME\n",
       "DATA_PREGAO                         \n",
       "2010-01-04   70045.0       1655400.0"
      ]
     },
     "execution_count": 38,
     "metadata": {},
     "output_type": "execute_result"
    }
   ],
   "source": [
    "bovespa.head(1)"
   ]
  },
  {
   "cell_type": "markdown",
   "id": "15c7ed5e-e3c2-43b3-bd05-dcca3a6bd67f",
   "metadata": {},
   "source": [
    "#### Índice S&P 500"
   ]
  },
  {
   "cell_type": "code",
   "execution_count": 39,
   "id": "44e4b120-dece-4eef-9f3a-f8aaa187493c",
   "metadata": {},
   "outputs": [],
   "source": [
    "sp500 = pd.read_csv('dados/Indice_S&P500.csv')"
   ]
  },
  {
   "cell_type": "code",
   "execution_count": 40,
   "id": "596bdea2-3320-4671-929e-7bdab7af1403",
   "metadata": {},
   "outputs": [
    {
     "data": {
      "text/plain": [
       "Data        object\n",
       "Último      object\n",
       "Abertura    object\n",
       "Máxima      object\n",
       "Mínima      object\n",
       "Vol.        object\n",
       "Var%        object\n",
       "dtype: object"
      ]
     },
     "execution_count": 40,
     "metadata": {},
     "output_type": "execute_result"
    }
   ],
   "source": [
    "sp500.dtypes"
   ]
  },
  {
   "cell_type": "code",
   "execution_count": 41,
   "id": "caf68c10-fcf0-4b63-8116-a2d01874d23d",
   "metadata": {},
   "outputs": [
    {
     "data": {
      "text/html": [
       "<div>\n",
       "<style scoped>\n",
       "    .dataframe tbody tr th:only-of-type {\n",
       "        vertical-align: middle;\n",
       "    }\n",
       "\n",
       "    .dataframe tbody tr th {\n",
       "        vertical-align: top;\n",
       "    }\n",
       "\n",
       "    .dataframe thead th {\n",
       "        text-align: right;\n",
       "    }\n",
       "</style>\n",
       "<table border=\"1\" class=\"dataframe\">\n",
       "  <thead>\n",
       "    <tr style=\"text-align: right;\">\n",
       "      <th></th>\n",
       "      <th>Data</th>\n",
       "      <th>Último</th>\n",
       "      <th>Abertura</th>\n",
       "      <th>Máxima</th>\n",
       "      <th>Mínima</th>\n",
       "      <th>Vol.</th>\n",
       "      <th>Var%</th>\n",
       "    </tr>\n",
       "  </thead>\n",
       "  <tbody>\n",
       "    <tr>\n",
       "      <th>0</th>\n",
       "      <td>31.12.2020</td>\n",
       "      <td>3.756,07</td>\n",
       "      <td>3.733,27</td>\n",
       "      <td>3.760,20</td>\n",
       "      <td>3.726,88</td>\n",
       "      <td>-</td>\n",
       "      <td>0,64%</td>\n",
       "    </tr>\n",
       "  </tbody>\n",
       "</table>\n",
       "</div>"
      ],
      "text/plain": [
       "         Data    Último  Abertura    Máxima    Mínima Vol.   Var%\n",
       "0  31.12.2020  3.756,07  3.733,27  3.760,20  3.726,88    -  0,64%"
      ]
     },
     "execution_count": 41,
     "metadata": {},
     "output_type": "execute_result"
    }
   ],
   "source": [
    "sp500.head(1)"
   ]
  },
  {
   "cell_type": "code",
   "execution_count": 42,
   "id": "565cec2c-79bb-4927-a5a7-3d84b44dd62e",
   "metadata": {
    "tags": []
   },
   "outputs": [],
   "source": [
    "#Padronizando a nomenclatura das colunas\n",
    "sp500.rename(columns={'Data' : 'DATA_PREGAO', 'Último' : 'SP500'}, inplace = True)\n",
    "\n",
    "#Removendo colunas desnecessárias\n",
    "sp500.drop(['Abertura', 'Máxima', 'Mínima', 'Var%', 'Vol.'], inplace=True, axis=1)\n",
    "\n",
    "#Padronizando a coluna DATA_PREGAO\n",
    "sp500['DATA_PREGAO'] = sp500['DATA_PREGAO'].apply(lambda x: x.replace('.', '/'))\n",
    "sp500['DATA_PREGAO'] = pd.to_datetime(sp500['DATA_PREGAO'], format=\"%d/%m/%Y\")\n",
    "\n",
    "#Padronizando a coluna de VALOR\n",
    "sp500['SP500'] = sp500['SP500'].apply(lambda x: float(x.replace('.', '').replace(',', '.')))  \n",
    "\n",
    "#Criando índice\n",
    "sp500.set_index('DATA_PREGAO', inplace=True)"
   ]
  },
  {
   "cell_type": "code",
   "execution_count": 43,
   "id": "02c3d806-dd97-4800-8a71-96009c2d5428",
   "metadata": {},
   "outputs": [
    {
     "data": {
      "text/plain": [
       "SP500    float64\n",
       "dtype: object"
      ]
     },
     "execution_count": 43,
     "metadata": {},
     "output_type": "execute_result"
    }
   ],
   "source": [
    "sp500.dtypes"
   ]
  },
  {
   "cell_type": "code",
   "execution_count": 44,
   "id": "5c8777ad-6e4e-45ac-bd17-dcac342c9b50",
   "metadata": {},
   "outputs": [
    {
     "data": {
      "text/html": [
       "<div>\n",
       "<style scoped>\n",
       "    .dataframe tbody tr th:only-of-type {\n",
       "        vertical-align: middle;\n",
       "    }\n",
       "\n",
       "    .dataframe tbody tr th {\n",
       "        vertical-align: top;\n",
       "    }\n",
       "\n",
       "    .dataframe thead th {\n",
       "        text-align: right;\n",
       "    }\n",
       "</style>\n",
       "<table border=\"1\" class=\"dataframe\">\n",
       "  <thead>\n",
       "    <tr style=\"text-align: right;\">\n",
       "      <th></th>\n",
       "      <th>SP500</th>\n",
       "    </tr>\n",
       "    <tr>\n",
       "      <th>DATA_PREGAO</th>\n",
       "      <th></th>\n",
       "    </tr>\n",
       "  </thead>\n",
       "  <tbody>\n",
       "    <tr>\n",
       "      <th>2020-12-31</th>\n",
       "      <td>3756.07</td>\n",
       "    </tr>\n",
       "  </tbody>\n",
       "</table>\n",
       "</div>"
      ],
      "text/plain": [
       "               SP500\n",
       "DATA_PREGAO         \n",
       "2020-12-31   3756.07"
      ]
     },
     "execution_count": 44,
     "metadata": {},
     "output_type": "execute_result"
    }
   ],
   "source": [
    "sp500.head(1)"
   ]
  },
  {
   "cell_type": "markdown",
   "id": "ca5b590d-91a5-4899-b2e5-5a032809d501",
   "metadata": {},
   "source": [
    "## Unindo os Datasets"
   ]
  },
  {
   "cell_type": "code",
   "execution_count": 45,
   "id": "bc04ea74-e65f-47fa-9e57-d452151def27",
   "metadata": {
    "tags": []
   },
   "outputs": [],
   "source": [
    "# Unindo todos os arquivos importados: sp500, bovespa, ouro, petroleo, ferro, dolar, selic\n",
    "df = sp500.join(bovespa, how=\"inner\")\n",
    "df = df.join(ouro, how=\"inner\")\n",
    "df = df.join(petroleo, how=\"inner\")\n",
    "df = df.join(ferro, how=\"inner\")\n",
    "df = df.join(dolar, how=\"inner\")\n",
    "df = df.join(selic, how=\"inner\")"
   ]
  },
  {
   "cell_type": "code",
   "execution_count": 46,
   "id": "cf3ed7f6-d31c-4d8c-9e26-b40ed347bbae",
   "metadata": {},
   "outputs": [
    {
     "data": {
      "text/html": [
       "<div>\n",
       "<style scoped>\n",
       "    .dataframe tbody tr th:only-of-type {\n",
       "        vertical-align: middle;\n",
       "    }\n",
       "\n",
       "    .dataframe tbody tr th {\n",
       "        vertical-align: top;\n",
       "    }\n",
       "\n",
       "    .dataframe thead th {\n",
       "        text-align: right;\n",
       "    }\n",
       "</style>\n",
       "<table border=\"1\" class=\"dataframe\">\n",
       "  <thead>\n",
       "    <tr style=\"text-align: right;\">\n",
       "      <th></th>\n",
       "      <th>SP500</th>\n",
       "      <th>BOVESPA</th>\n",
       "      <th>BOVESPA_VOLUME</th>\n",
       "      <th>OURO</th>\n",
       "      <th>OURO_VOLUME</th>\n",
       "      <th>PETROLEO</th>\n",
       "      <th>PETROLEO_VOLUME</th>\n",
       "      <th>FERRO</th>\n",
       "      <th>DOLAR</th>\n",
       "      <th>SELIC</th>\n",
       "    </tr>\n",
       "    <tr>\n",
       "      <th>DATA_PREGAO</th>\n",
       "      <th></th>\n",
       "      <th></th>\n",
       "      <th></th>\n",
       "      <th></th>\n",
       "      <th></th>\n",
       "      <th></th>\n",
       "      <th></th>\n",
       "      <th></th>\n",
       "      <th></th>\n",
       "      <th></th>\n",
       "    </tr>\n",
       "  </thead>\n",
       "  <tbody>\n",
       "    <tr>\n",
       "      <th>2010-10-25</th>\n",
       "      <td>1185.62</td>\n",
       "      <td>69580.0</td>\n",
       "      <td>3836000.0</td>\n",
       "      <td>1338.300049</td>\n",
       "      <td>190.0</td>\n",
       "      <td>83.540001</td>\n",
       "      <td>199140.0</td>\n",
       "      <td>145.000000</td>\n",
       "      <td>1.7018</td>\n",
       "      <td>10.75</td>\n",
       "    </tr>\n",
       "    <tr>\n",
       "      <th>2010-10-26</th>\n",
       "      <td>1185.64</td>\n",
       "      <td>70740.0</td>\n",
       "      <td>2576800.0</td>\n",
       "      <td>1338.000000</td>\n",
       "      <td>200.0</td>\n",
       "      <td>83.660004</td>\n",
       "      <td>153050.0</td>\n",
       "      <td>145.100006</td>\n",
       "      <td>1.7037</td>\n",
       "      <td>10.75</td>\n",
       "    </tr>\n",
       "    <tr>\n",
       "      <th>2010-10-27</th>\n",
       "      <td>1182.45</td>\n",
       "      <td>70569.0</td>\n",
       "      <td>2202600.0</td>\n",
       "      <td>1322.199951</td>\n",
       "      <td>90.0</td>\n",
       "      <td>83.230003</td>\n",
       "      <td>187590.0</td>\n",
       "      <td>144.500000</td>\n",
       "      <td>1.7069</td>\n",
       "      <td>10.75</td>\n",
       "    </tr>\n",
       "    <tr>\n",
       "      <th>2010-10-28</th>\n",
       "      <td>1183.78</td>\n",
       "      <td>70320.0</td>\n",
       "      <td>2230200.0</td>\n",
       "      <td>1342.099976</td>\n",
       "      <td>190.0</td>\n",
       "      <td>83.589996</td>\n",
       "      <td>167930.0</td>\n",
       "      <td>144.000000</td>\n",
       "      <td>1.7104</td>\n",
       "      <td>10.75</td>\n",
       "    </tr>\n",
       "    <tr>\n",
       "      <th>2010-10-29</th>\n",
       "      <td>1183.26</td>\n",
       "      <td>70673.0</td>\n",
       "      <td>2208800.0</td>\n",
       "      <td>1357.099976</td>\n",
       "      <td>70.0</td>\n",
       "      <td>83.150002</td>\n",
       "      <td>197770.0</td>\n",
       "      <td>147.500000</td>\n",
       "      <td>1.7006</td>\n",
       "      <td>10.75</td>\n",
       "    </tr>\n",
       "    <tr>\n",
       "      <th>...</th>\n",
       "      <td>...</td>\n",
       "      <td>...</td>\n",
       "      <td>...</td>\n",
       "      <td>...</td>\n",
       "      <td>...</td>\n",
       "      <td>...</td>\n",
       "      <td>...</td>\n",
       "      <td>...</td>\n",
       "      <td>...</td>\n",
       "      <td>...</td>\n",
       "    </tr>\n",
       "    <tr>\n",
       "      <th>2020-12-22</th>\n",
       "      <td>3687.26</td>\n",
       "      <td>116348.0</td>\n",
       "      <td>6947900.0</td>\n",
       "      <td>1880.000000</td>\n",
       "      <td>690.0</td>\n",
       "      <td>50.080002</td>\n",
       "      <td>194100.0</td>\n",
       "      <td>154.490005</td>\n",
       "      <td>5.1467</td>\n",
       "      <td>2.00</td>\n",
       "    </tr>\n",
       "    <tr>\n",
       "      <th>2020-12-23</th>\n",
       "      <td>3690.01</td>\n",
       "      <td>117857.0</td>\n",
       "      <td>6483300.0</td>\n",
       "      <td>1887.599976</td>\n",
       "      <td>440.0</td>\n",
       "      <td>51.200001</td>\n",
       "      <td>182630.0</td>\n",
       "      <td>154.500000</td>\n",
       "      <td>5.1734</td>\n",
       "      <td>2.00</td>\n",
       "    </tr>\n",
       "    <tr>\n",
       "      <th>2020-12-28</th>\n",
       "      <td>3735.36</td>\n",
       "      <td>119051.0</td>\n",
       "      <td>7171700.0</td>\n",
       "      <td>1890.800049</td>\n",
       "      <td>540.0</td>\n",
       "      <td>50.860001</td>\n",
       "      <td>81060.0</td>\n",
       "      <td>155.350006</td>\n",
       "      <td>5.2384</td>\n",
       "      <td>2.00</td>\n",
       "    </tr>\n",
       "    <tr>\n",
       "      <th>2020-12-29</th>\n",
       "      <td>3727.04</td>\n",
       "      <td>119475.0</td>\n",
       "      <td>6769700.0</td>\n",
       "      <td>1893.400024</td>\n",
       "      <td>370.0</td>\n",
       "      <td>51.090000</td>\n",
       "      <td>91330.0</td>\n",
       "      <td>155.570007</td>\n",
       "      <td>5.1936</td>\n",
       "      <td>2.00</td>\n",
       "    </tr>\n",
       "    <tr>\n",
       "      <th>2020-12-30</th>\n",
       "      <td>3732.04</td>\n",
       "      <td>119306.0</td>\n",
       "      <td>8235700.0</td>\n",
       "      <td>1904.000000</td>\n",
       "      <td>660.0</td>\n",
       "      <td>51.340000</td>\n",
       "      <td>17630.0</td>\n",
       "      <td>155.699997</td>\n",
       "      <td>5.1961</td>\n",
       "      <td>2.00</td>\n",
       "    </tr>\n",
       "  </tbody>\n",
       "</table>\n",
       "<p>2443 rows × 10 columns</p>\n",
       "</div>"
      ],
      "text/plain": [
       "               SP500   BOVESPA  BOVESPA_VOLUME         OURO  OURO_VOLUME  \\\n",
       "DATA_PREGAO                                                                \n",
       "2010-10-25   1185.62   69580.0       3836000.0  1338.300049        190.0   \n",
       "2010-10-26   1185.64   70740.0       2576800.0  1338.000000        200.0   \n",
       "2010-10-27   1182.45   70569.0       2202600.0  1322.199951         90.0   \n",
       "2010-10-28   1183.78   70320.0       2230200.0  1342.099976        190.0   \n",
       "2010-10-29   1183.26   70673.0       2208800.0  1357.099976         70.0   \n",
       "...              ...       ...             ...          ...          ...   \n",
       "2020-12-22   3687.26  116348.0       6947900.0  1880.000000        690.0   \n",
       "2020-12-23   3690.01  117857.0       6483300.0  1887.599976        440.0   \n",
       "2020-12-28   3735.36  119051.0       7171700.0  1890.800049        540.0   \n",
       "2020-12-29   3727.04  119475.0       6769700.0  1893.400024        370.0   \n",
       "2020-12-30   3732.04  119306.0       8235700.0  1904.000000        660.0   \n",
       "\n",
       "              PETROLEO  PETROLEO_VOLUME       FERRO   DOLAR  SELIC  \n",
       "DATA_PREGAO                                                         \n",
       "2010-10-25   83.540001         199140.0  145.000000  1.7018  10.75  \n",
       "2010-10-26   83.660004         153050.0  145.100006  1.7037  10.75  \n",
       "2010-10-27   83.230003         187590.0  144.500000  1.7069  10.75  \n",
       "2010-10-28   83.589996         167930.0  144.000000  1.7104  10.75  \n",
       "2010-10-29   83.150002         197770.0  147.500000  1.7006  10.75  \n",
       "...                ...              ...         ...     ...    ...  \n",
       "2020-12-22   50.080002         194100.0  154.490005  5.1467   2.00  \n",
       "2020-12-23   51.200001         182630.0  154.500000  5.1734   2.00  \n",
       "2020-12-28   50.860001          81060.0  155.350006  5.2384   2.00  \n",
       "2020-12-29   51.090000          91330.0  155.570007  5.1936   2.00  \n",
       "2020-12-30   51.340000          17630.0  155.699997  5.1961   2.00  \n",
       "\n",
       "[2443 rows x 10 columns]"
      ]
     },
     "execution_count": 46,
     "metadata": {},
     "output_type": "execute_result"
    }
   ],
   "source": [
    "#Gerando colunas auxiliares para calculo\n",
    "df.sort_index(ascending=True)"
   ]
  },
  {
   "cell_type": "code",
   "execution_count": 47,
   "id": "d8daa7a5-da8f-4e32-befd-e8cdf0eb2835",
   "metadata": {},
   "outputs": [
    {
     "data": {
      "text/plain": [
       "(False, True, True, False, False, False, False, False, False, False)"
      ]
     },
     "execution_count": 47,
     "metadata": {},
     "output_type": "execute_result"
    }
   ],
   "source": [
    "#Verificação de valores nulos nos itens do dataset\n",
    "df[\"SP500\"].hasnans, df[\"BOVESPA\"].hasnans, df[\"BOVESPA_VOLUME\"].hasnans, df[\"OURO\"].hasnans, df[\"OURO_VOLUME\"].hasnans, df[\"PETROLEO\"].hasnans, df[\"PETROLEO_VOLUME\"].hasnans, df[\"FERRO\"].hasnans, df[\"DOLAR\"].hasnans, df[\"SELIC\"].hasnans"
   ]
  },
  {
   "cell_type": "code",
   "execution_count": 48,
   "id": "6c0f0489-ef1e-44d9-be06-3b451935b31b",
   "metadata": {},
   "outputs": [
    {
     "data": {
      "text/plain": [
       "(               SP500  BOVESPA  BOVESPA_VOLUME         OURO  OURO_VOLUME  \\\n",
       " DATA_PREGAO                                                               \n",
       " 2020-02-26   3116.39      NaN             NaN  1678.199951         20.0   \n",
       " 2019-03-06   2771.45      NaN             NaN  1346.500000          0.0   \n",
       " 2018-02-14   2698.63      NaN             NaN  1452.900024        400.0   \n",
       " 2017-11-20   2582.14      NaN             NaN  1357.599976          0.0   \n",
       " \n",
       "               PETROLEO  PETROLEO_VOLUME      FERRO   DOLAR  SELIC  \n",
       " DATA_PREGAO                                                        \n",
       " 2020-02-26   53.430000         171500.0  86.669998  4.4353   4.25  \n",
       " 2019-03-06   65.989998         283200.0  85.790001  3.8297   6.50  \n",
       " 2018-02-14   64.360001         349100.0  76.669998  3.2531   6.75  \n",
       " 2017-11-20   62.220001         283480.0  61.770000  3.2608   7.50  ,\n",
       "                SP500  BOVESPA  BOVESPA_VOLUME         OURO  OURO_VOLUME  \\\n",
       " DATA_PREGAO                                                               \n",
       " 2020-02-26   3116.39      NaN             NaN  1678.199951         20.0   \n",
       " 2019-03-06   2771.45      NaN             NaN  1346.500000          0.0   \n",
       " 2018-02-14   2698.63      NaN             NaN  1452.900024        400.0   \n",
       " 2017-11-20   2582.14      NaN             NaN  1357.599976          0.0   \n",
       " \n",
       "               PETROLEO  PETROLEO_VOLUME      FERRO   DOLAR  SELIC  \n",
       " DATA_PREGAO                                                        \n",
       " 2020-02-26   53.430000         171500.0  86.669998  4.4353   4.25  \n",
       " 2019-03-06   65.989998         283200.0  85.790001  3.8297   6.50  \n",
       " 2018-02-14   64.360001         349100.0  76.669998  3.2531   6.75  \n",
       " 2017-11-20   62.220001         283480.0  61.770000  3.2608   7.50  )"
      ]
     },
     "execution_count": 48,
     "metadata": {},
     "output_type": "execute_result"
    }
   ],
   "source": [
    "df.query(\"BOVESPA.isnull()\"), df.query(\"BOVESPA_VOLUME.isnull()\")"
   ]
  },
  {
   "cell_type": "code",
   "execution_count": 49,
   "id": "db0a5dd1-f9cc-4699-ba77-cdef4a25e94f",
   "metadata": {},
   "outputs": [
    {
     "data": {
      "text/plain": [
       "(False, False, False, False, False, False, False, False, False, False)"
      ]
     },
     "execution_count": 49,
     "metadata": {},
     "output_type": "execute_result"
    }
   ],
   "source": [
    "#Apagando linhas com valores nulos\n",
    "df.dropna(subset = [\"BOVESPA\"], inplace=True) \n",
    "\n",
    "#Verificando seainda há valores nulos no dataframe\n",
    "df[\"SP500\"].hasnans, df[\"BOVESPA\"].hasnans, df[\"BOVESPA_VOLUME\"].hasnans, df[\"OURO\"].hasnans, df[\"OURO_VOLUME\"].hasnans, df[\"PETROLEO\"].hasnans, df[\"PETROLEO_VOLUME\"].hasnans, df[\"FERRO\"].hasnans, df[\"DOLAR\"].hasnans, df[\"SELIC\"].hasnans"
   ]
  },
  {
   "cell_type": "code",
   "execution_count": 50,
   "id": "55b92001-6ff9-414a-b98e-0309f4799fff",
   "metadata": {},
   "outputs": [
    {
     "data": {
      "text/plain": [
       "(Empty DataFrame\n",
       " Columns: [SP500, BOVESPA, BOVESPA_VOLUME, OURO, OURO_VOLUME, PETROLEO, PETROLEO_VOLUME, FERRO, DOLAR, SELIC]\n",
       " Index: [],\n",
       " Empty DataFrame\n",
       " Columns: [SP500, BOVESPA, BOVESPA_VOLUME, OURO, OURO_VOLUME, PETROLEO, PETROLEO_VOLUME, FERRO, DOLAR, SELIC]\n",
       " Index: [])"
      ]
     },
     "execution_count": 50,
     "metadata": {},
     "output_type": "execute_result"
    }
   ],
   "source": [
    "#Verificando valores apagados\n",
    "df.query(\"BOVESPA.isnull()\"), df.query(\"BOVESPA_VOLUME.isnull()\")"
   ]
  },
  {
   "cell_type": "code",
   "execution_count": 51,
   "id": "2edae6fa-75b5-44a9-9372-7c9d77b92f56",
   "metadata": {},
   "outputs": [
    {
     "data": {
      "text/plain": [
       "0"
      ]
     },
     "execution_count": 51,
     "metadata": {},
     "output_type": "execute_result"
    }
   ],
   "source": [
    "#Verificando chaves duplicadas no dataframe\n",
    "df.index.duplicated().sum()"
   ]
  },
  {
   "cell_type": "code",
   "execution_count": 52,
   "id": "d13cef3e-3227-4809-b02c-c7f965a28f81",
   "metadata": {},
   "outputs": [
    {
     "data": {
      "text/html": [
       "<div>\n",
       "<style scoped>\n",
       "    .dataframe tbody tr th:only-of-type {\n",
       "        vertical-align: middle;\n",
       "    }\n",
       "\n",
       "    .dataframe tbody tr th {\n",
       "        vertical-align: top;\n",
       "    }\n",
       "\n",
       "    .dataframe thead th {\n",
       "        text-align: right;\n",
       "    }\n",
       "</style>\n",
       "<table border=\"1\" class=\"dataframe\">\n",
       "  <thead>\n",
       "    <tr style=\"text-align: right;\">\n",
       "      <th></th>\n",
       "      <th>SP500</th>\n",
       "      <th>BOVESPA</th>\n",
       "      <th>BOVESPA_VOLUME</th>\n",
       "      <th>OURO</th>\n",
       "      <th>OURO_VOLUME</th>\n",
       "      <th>PETROLEO</th>\n",
       "      <th>PETROLEO_VOLUME</th>\n",
       "      <th>FERRO</th>\n",
       "      <th>DOLAR</th>\n",
       "      <th>SELIC</th>\n",
       "    </tr>\n",
       "    <tr>\n",
       "      <th>DATA_PREGAO</th>\n",
       "      <th></th>\n",
       "      <th></th>\n",
       "      <th></th>\n",
       "      <th></th>\n",
       "      <th></th>\n",
       "      <th></th>\n",
       "      <th></th>\n",
       "      <th></th>\n",
       "      <th></th>\n",
       "      <th></th>\n",
       "    </tr>\n",
       "  </thead>\n",
       "  <tbody>\n",
       "    <tr>\n",
       "      <th>2020-12-30</th>\n",
       "      <td>3732.04</td>\n",
       "      <td>119306.0</td>\n",
       "      <td>8235700.0</td>\n",
       "      <td>1904.000000</td>\n",
       "      <td>660.0</td>\n",
       "      <td>51.340000</td>\n",
       "      <td>17630.0</td>\n",
       "      <td>155.699997</td>\n",
       "      <td>5.1961</td>\n",
       "      <td>2.00</td>\n",
       "    </tr>\n",
       "    <tr>\n",
       "      <th>2020-12-29</th>\n",
       "      <td>3727.04</td>\n",
       "      <td>119475.0</td>\n",
       "      <td>6769700.0</td>\n",
       "      <td>1893.400024</td>\n",
       "      <td>370.0</td>\n",
       "      <td>51.090000</td>\n",
       "      <td>91330.0</td>\n",
       "      <td>155.570007</td>\n",
       "      <td>5.1936</td>\n",
       "      <td>2.00</td>\n",
       "    </tr>\n",
       "    <tr>\n",
       "      <th>2020-12-28</th>\n",
       "      <td>3735.36</td>\n",
       "      <td>119051.0</td>\n",
       "      <td>7171700.0</td>\n",
       "      <td>1890.800049</td>\n",
       "      <td>540.0</td>\n",
       "      <td>50.860001</td>\n",
       "      <td>81060.0</td>\n",
       "      <td>155.350006</td>\n",
       "      <td>5.2384</td>\n",
       "      <td>2.00</td>\n",
       "    </tr>\n",
       "    <tr>\n",
       "      <th>2020-12-23</th>\n",
       "      <td>3690.01</td>\n",
       "      <td>117857.0</td>\n",
       "      <td>6483300.0</td>\n",
       "      <td>1887.599976</td>\n",
       "      <td>440.0</td>\n",
       "      <td>51.200001</td>\n",
       "      <td>182630.0</td>\n",
       "      <td>154.500000</td>\n",
       "      <td>5.1734</td>\n",
       "      <td>2.00</td>\n",
       "    </tr>\n",
       "    <tr>\n",
       "      <th>2020-12-22</th>\n",
       "      <td>3687.26</td>\n",
       "      <td>116348.0</td>\n",
       "      <td>6947900.0</td>\n",
       "      <td>1880.000000</td>\n",
       "      <td>690.0</td>\n",
       "      <td>50.080002</td>\n",
       "      <td>194100.0</td>\n",
       "      <td>154.490005</td>\n",
       "      <td>5.1467</td>\n",
       "      <td>2.00</td>\n",
       "    </tr>\n",
       "    <tr>\n",
       "      <th>...</th>\n",
       "      <td>...</td>\n",
       "      <td>...</td>\n",
       "      <td>...</td>\n",
       "      <td>...</td>\n",
       "      <td>...</td>\n",
       "      <td>...</td>\n",
       "      <td>...</td>\n",
       "      <td>...</td>\n",
       "      <td>...</td>\n",
       "      <td>...</td>\n",
       "    </tr>\n",
       "    <tr>\n",
       "      <th>2010-10-29</th>\n",
       "      <td>1183.26</td>\n",
       "      <td>70673.0</td>\n",
       "      <td>2208800.0</td>\n",
       "      <td>1357.099976</td>\n",
       "      <td>70.0</td>\n",
       "      <td>83.150002</td>\n",
       "      <td>197770.0</td>\n",
       "      <td>147.500000</td>\n",
       "      <td>1.7006</td>\n",
       "      <td>10.75</td>\n",
       "    </tr>\n",
       "    <tr>\n",
       "      <th>2010-10-28</th>\n",
       "      <td>1183.78</td>\n",
       "      <td>70320.0</td>\n",
       "      <td>2230200.0</td>\n",
       "      <td>1342.099976</td>\n",
       "      <td>190.0</td>\n",
       "      <td>83.589996</td>\n",
       "      <td>167930.0</td>\n",
       "      <td>144.000000</td>\n",
       "      <td>1.7104</td>\n",
       "      <td>10.75</td>\n",
       "    </tr>\n",
       "    <tr>\n",
       "      <th>2010-10-27</th>\n",
       "      <td>1182.45</td>\n",
       "      <td>70569.0</td>\n",
       "      <td>2202600.0</td>\n",
       "      <td>1322.199951</td>\n",
       "      <td>90.0</td>\n",
       "      <td>83.230003</td>\n",
       "      <td>187590.0</td>\n",
       "      <td>144.500000</td>\n",
       "      <td>1.7069</td>\n",
       "      <td>10.75</td>\n",
       "    </tr>\n",
       "    <tr>\n",
       "      <th>2010-10-26</th>\n",
       "      <td>1185.64</td>\n",
       "      <td>70740.0</td>\n",
       "      <td>2576800.0</td>\n",
       "      <td>1338.000000</td>\n",
       "      <td>200.0</td>\n",
       "      <td>83.660004</td>\n",
       "      <td>153050.0</td>\n",
       "      <td>145.100006</td>\n",
       "      <td>1.7037</td>\n",
       "      <td>10.75</td>\n",
       "    </tr>\n",
       "    <tr>\n",
       "      <th>2010-10-25</th>\n",
       "      <td>1185.62</td>\n",
       "      <td>69580.0</td>\n",
       "      <td>3836000.0</td>\n",
       "      <td>1338.300049</td>\n",
       "      <td>190.0</td>\n",
       "      <td>83.540001</td>\n",
       "      <td>199140.0</td>\n",
       "      <td>145.000000</td>\n",
       "      <td>1.7018</td>\n",
       "      <td>10.75</td>\n",
       "    </tr>\n",
       "  </tbody>\n",
       "</table>\n",
       "<p>2439 rows × 10 columns</p>\n",
       "</div>"
      ],
      "text/plain": [
       "               SP500   BOVESPA  BOVESPA_VOLUME         OURO  OURO_VOLUME  \\\n",
       "DATA_PREGAO                                                                \n",
       "2020-12-30   3732.04  119306.0       8235700.0  1904.000000        660.0   \n",
       "2020-12-29   3727.04  119475.0       6769700.0  1893.400024        370.0   \n",
       "2020-12-28   3735.36  119051.0       7171700.0  1890.800049        540.0   \n",
       "2020-12-23   3690.01  117857.0       6483300.0  1887.599976        440.0   \n",
       "2020-12-22   3687.26  116348.0       6947900.0  1880.000000        690.0   \n",
       "...              ...       ...             ...          ...          ...   \n",
       "2010-10-29   1183.26   70673.0       2208800.0  1357.099976         70.0   \n",
       "2010-10-28   1183.78   70320.0       2230200.0  1342.099976        190.0   \n",
       "2010-10-27   1182.45   70569.0       2202600.0  1322.199951         90.0   \n",
       "2010-10-26   1185.64   70740.0       2576800.0  1338.000000        200.0   \n",
       "2010-10-25   1185.62   69580.0       3836000.0  1338.300049        190.0   \n",
       "\n",
       "              PETROLEO  PETROLEO_VOLUME       FERRO   DOLAR  SELIC  \n",
       "DATA_PREGAO                                                         \n",
       "2020-12-30   51.340000          17630.0  155.699997  5.1961   2.00  \n",
       "2020-12-29   51.090000          91330.0  155.570007  5.1936   2.00  \n",
       "2020-12-28   50.860001          81060.0  155.350006  5.2384   2.00  \n",
       "2020-12-23   51.200001         182630.0  154.500000  5.1734   2.00  \n",
       "2020-12-22   50.080002         194100.0  154.490005  5.1467   2.00  \n",
       "...                ...              ...         ...     ...    ...  \n",
       "2010-10-29   83.150002         197770.0  147.500000  1.7006  10.75  \n",
       "2010-10-28   83.589996         167930.0  144.000000  1.7104  10.75  \n",
       "2010-10-27   83.230003         187590.0  144.500000  1.7069  10.75  \n",
       "2010-10-26   83.660004         153050.0  145.100006  1.7037  10.75  \n",
       "2010-10-25   83.540001         199140.0  145.000000  1.7018  10.75  \n",
       "\n",
       "[2439 rows x 10 columns]"
      ]
     },
     "execution_count": 52,
     "metadata": {},
     "output_type": "execute_result"
    }
   ],
   "source": [
    "df"
   ]
  },
  {
   "cell_type": "markdown",
   "id": "71ba058c-d955-4fcf-8a44-edf2b02c917d",
   "metadata": {},
   "source": [
    "## Exploração dos dados"
   ]
  },
  {
   "cell_type": "markdown",
   "id": "5cf4c4f0-31d0-4422-84da-f84736a74ccd",
   "metadata": {},
   "source": [
    "### Verificando Outliers"
   ]
  },
  {
   "cell_type": "markdown",
   "id": "59558a06-288b-4585-bd67-b432f8294155",
   "metadata": {},
   "source": [
    "#### SP500\n",
    "Não foram encontrados Outliers para os pregões do SP500"
   ]
  },
  {
   "cell_type": "code",
   "execution_count": 53,
   "id": "de398c58-8553-4c1a-b618-ffe552b75aa1",
   "metadata": {},
   "outputs": [
    {
     "data": {
      "text/plain": [
       "<AxesSubplot:ylabel='SP500'>"
      ]
     },
     "execution_count": 53,
     "metadata": {},
     "output_type": "execute_result"
    },
    {
     "data": {
      "image/png": "[encoded data removed]",
      "text/plain": [
       "<Figure size 432x288 with 1 Axes>"
      ]
     },
     "metadata": {
      "needs_background": "light"
     },
     "output_type": "display_data"
    }
   ],
   "source": [
    "sns.boxplot(y=df[\"SP500\"])"
   ]
  },
  {
   "cell_type": "markdown",
   "id": "21917fe4-a30b-49c7-9404-95b5ce981db3",
   "metadata": {},
   "source": [
    "#### BOVESPA\n",
    "Foram encontrados 245 outliers que se referem a pregões realizados nos anos de 2019 e 2020"
   ]
  },
  {
   "cell_type": "code",
   "execution_count": 54,
   "id": "4551f468-33c8-49d0-bc9a-90f20421abf8",
   "metadata": {},
   "outputs": [
    {
     "data": {
      "text/plain": [
       "<AxesSubplot:ylabel='BOVESPA'>"
      ]
     },
     "execution_count": 54,
     "metadata": {},
     "output_type": "execute_result"
    },
    {
     "data": {
      "image/png": "[encoded data removed]",
      "text/plain": [
       "<Figure size 432x288 with 1 Axes>"
      ]
     },
     "metadata": {
      "needs_background": "light"
     },
     "output_type": "display_data"
    }
   ],
   "source": [
    "sns.boxplot(y=df[\"BOVESPA\"])"
   ]
  },
  {
   "cell_type": "code",
   "execution_count": 78,
   "id": "66adfce1-8646-4d6d-b440-c48e3e3381a5",
   "metadata": {},
   "outputs": [
    {
     "data": {
      "text/plain": [
       "(array([2019, 2020], dtype=int64), 245)"
      ]
     },
     "execution_count": 78,
     "metadata": {},
     "output_type": "execute_result"
    }
   ],
   "source": [
    "#Foi verificando que há valores fora do quartil, por este motivo vamos verificar a quais períodos se referem\n",
    "np.unique(df.query(\"BOVESPA > 100000\").index.year), np.count_nonzero(np.unique(df.query(\"BOVESPA > 100000\").index.date))"
   ]
  },
  {
   "cell_type": "code",
   "execution_count": 83,
   "id": "b0b9e6c0-a877-46bc-b6dc-2c9988aa2a63",
   "metadata": {},
   "outputs": [
    {
     "data": {
      "text/html": [
       "<div>\n",
       "<style scoped>\n",
       "    .dataframe tbody tr th:only-of-type {\n",
       "        vertical-align: middle;\n",
       "    }\n",
       "\n",
       "    .dataframe tbody tr th {\n",
       "        vertical-align: top;\n",
       "    }\n",
       "\n",
       "    .dataframe thead th {\n",
       "        text-align: right;\n",
       "    }\n",
       "</style>\n",
       "<table border=\"1\" class=\"dataframe\">\n",
       "  <thead>\n",
       "    <tr style=\"text-align: right;\">\n",
       "      <th></th>\n",
       "      <th>SP500</th>\n",
       "      <th>BOVESPA</th>\n",
       "      <th>BOVESPA_VOLUME</th>\n",
       "      <th>OURO</th>\n",
       "      <th>OURO_VOLUME</th>\n",
       "      <th>PETROLEO</th>\n",
       "      <th>PETROLEO_VOLUME</th>\n",
       "      <th>FERRO</th>\n",
       "      <th>DOLAR</th>\n",
       "      <th>SELIC</th>\n",
       "    </tr>\n",
       "    <tr>\n",
       "      <th>DATA_PREGAO</th>\n",
       "      <th></th>\n",
       "      <th></th>\n",
       "      <th></th>\n",
       "      <th></th>\n",
       "      <th></th>\n",
       "      <th></th>\n",
       "      <th></th>\n",
       "      <th></th>\n",
       "      <th></th>\n",
       "      <th></th>\n",
       "    </tr>\n",
       "  </thead>\n",
       "  <tbody>\n",
       "    <tr>\n",
       "      <th>2019-12-30</th>\n",
       "      <td>3221.29</td>\n",
       "      <td>115964.0</td>\n",
       "      <td>3667900.0</td>\n",
       "      <td>1562.300049</td>\n",
       "      <td>460.0</td>\n",
       "      <td>68.440002</td>\n",
       "      <td>29420.0</td>\n",
       "      <td>91.519997</td>\n",
       "      <td>4.0301</td>\n",
       "      <td>4.5</td>\n",
       "    </tr>\n",
       "    <tr>\n",
       "      <th>2019-12-27</th>\n",
       "      <td>3240.02</td>\n",
       "      <td>116534.0</td>\n",
       "      <td>3905900.0</td>\n",
       "      <td>1561.199951</td>\n",
       "      <td>290.0</td>\n",
       "      <td>68.160004</td>\n",
       "      <td>112220.0</td>\n",
       "      <td>91.550003</td>\n",
       "      <td>4.0539</td>\n",
       "      <td>4.5</td>\n",
       "    </tr>\n",
       "    <tr>\n",
       "      <th>2019-12-26</th>\n",
       "      <td>3239.91</td>\n",
       "      <td>117203.0</td>\n",
       "      <td>3788900.0</td>\n",
       "      <td>1557.099976</td>\n",
       "      <td>0.0</td>\n",
       "      <td>67.919998</td>\n",
       "      <td>69820.0</td>\n",
       "      <td>91.610001</td>\n",
       "      <td>4.0595</td>\n",
       "      <td>4.5</td>\n",
       "    </tr>\n",
       "    <tr>\n",
       "      <th>2019-12-23</th>\n",
       "      <td>3224.01</td>\n",
       "      <td>115863.0</td>\n",
       "      <td>3995200.0</td>\n",
       "      <td>1531.199951</td>\n",
       "      <td>390.0</td>\n",
       "      <td>66.389999</td>\n",
       "      <td>131420.0</td>\n",
       "      <td>91.720001</td>\n",
       "      <td>4.0751</td>\n",
       "      <td>4.5</td>\n",
       "    </tr>\n",
       "    <tr>\n",
       "      <th>2019-12-20</th>\n",
       "      <td>3221.22</td>\n",
       "      <td>115121.0</td>\n",
       "      <td>6887400.0</td>\n",
       "      <td>1523.099976</td>\n",
       "      <td>0.0</td>\n",
       "      <td>66.139999</td>\n",
       "      <td>217980.0</td>\n",
       "      <td>91.739998</td>\n",
       "      <td>4.0771</td>\n",
       "      <td>4.5</td>\n",
       "    </tr>\n",
       "    <tr>\n",
       "      <th>...</th>\n",
       "      <td>...</td>\n",
       "      <td>...</td>\n",
       "      <td>...</td>\n",
       "      <td>...</td>\n",
       "      <td>...</td>\n",
       "      <td>...</td>\n",
       "      <td>...</td>\n",
       "      <td>...</td>\n",
       "      <td>...</td>\n",
       "      <td>...</td>\n",
       "    </tr>\n",
       "    <tr>\n",
       "      <th>2019-01-08</th>\n",
       "      <td>2574.41</td>\n",
       "      <td>92032.0</td>\n",
       "      <td>4496500.0</td>\n",
       "      <td>1351.099976</td>\n",
       "      <td>0.0</td>\n",
       "      <td>58.720001</td>\n",
       "      <td>288250.0</td>\n",
       "      <td>74.209999</td>\n",
       "      <td>3.7202</td>\n",
       "      <td>6.5</td>\n",
       "    </tr>\n",
       "    <tr>\n",
       "      <th>2019-01-07</th>\n",
       "      <td>2549.69</td>\n",
       "      <td>91699.0</td>\n",
       "      <td>4565000.0</td>\n",
       "      <td>1355.199951</td>\n",
       "      <td>10.0</td>\n",
       "      <td>57.330002</td>\n",
       "      <td>296580.0</td>\n",
       "      <td>74.150002</td>\n",
       "      <td>3.7056</td>\n",
       "      <td>6.5</td>\n",
       "    </tr>\n",
       "    <tr>\n",
       "      <th>2019-01-04</th>\n",
       "      <td>2531.94</td>\n",
       "      <td>91841.0</td>\n",
       "      <td>5322100.0</td>\n",
       "      <td>1351.000000</td>\n",
       "      <td>0.0</td>\n",
       "      <td>57.060001</td>\n",
       "      <td>321110.0</td>\n",
       "      <td>73.089996</td>\n",
       "      <td>3.7621</td>\n",
       "      <td>6.5</td>\n",
       "    </tr>\n",
       "    <tr>\n",
       "      <th>2019-01-03</th>\n",
       "      <td>2447.89</td>\n",
       "      <td>91564.0</td>\n",
       "      <td>6066200.0</td>\n",
       "      <td>1359.800049</td>\n",
       "      <td>10.0</td>\n",
       "      <td>55.950001</td>\n",
       "      <td>278360.0</td>\n",
       "      <td>72.230003</td>\n",
       "      <td>3.7677</td>\n",
       "      <td>6.5</td>\n",
       "    </tr>\n",
       "    <tr>\n",
       "      <th>2019-01-02</th>\n",
       "      <td>2510.03</td>\n",
       "      <td>91012.0</td>\n",
       "      <td>5615400.0</td>\n",
       "      <td>1349.500000</td>\n",
       "      <td>100.0</td>\n",
       "      <td>54.910000</td>\n",
       "      <td>300950.0</td>\n",
       "      <td>71.059998</td>\n",
       "      <td>3.8589</td>\n",
       "      <td>6.5</td>\n",
       "    </tr>\n",
       "  </tbody>\n",
       "</table>\n",
       "<p>241 rows × 10 columns</p>\n",
       "</div>"
      ],
      "text/plain": [
       "               SP500   BOVESPA  BOVESPA_VOLUME         OURO  OURO_VOLUME  \\\n",
       "DATA_PREGAO                                                                \n",
       "2019-12-30   3221.29  115964.0       3667900.0  1562.300049        460.0   \n",
       "2019-12-27   3240.02  116534.0       3905900.0  1561.199951        290.0   \n",
       "2019-12-26   3239.91  117203.0       3788900.0  1557.099976          0.0   \n",
       "2019-12-23   3224.01  115863.0       3995200.0  1531.199951        390.0   \n",
       "2019-12-20   3221.22  115121.0       6887400.0  1523.099976          0.0   \n",
       "...              ...       ...             ...          ...          ...   \n",
       "2019-01-08   2574.41   92032.0       4496500.0  1351.099976          0.0   \n",
       "2019-01-07   2549.69   91699.0       4565000.0  1355.199951         10.0   \n",
       "2019-01-04   2531.94   91841.0       5322100.0  1351.000000          0.0   \n",
       "2019-01-03   2447.89   91564.0       6066200.0  1359.800049         10.0   \n",
       "2019-01-02   2510.03   91012.0       5615400.0  1349.500000        100.0   \n",
       "\n",
       "              PETROLEO  PETROLEO_VOLUME      FERRO   DOLAR  SELIC  \n",
       "DATA_PREGAO                                                        \n",
       "2019-12-30   68.440002          29420.0  91.519997  4.0301    4.5  \n",
       "2019-12-27   68.160004         112220.0  91.550003  4.0539    4.5  \n",
       "2019-12-26   67.919998          69820.0  91.610001  4.0595    4.5  \n",
       "2019-12-23   66.389999         131420.0  91.720001  4.0751    4.5  \n",
       "2019-12-20   66.139999         217980.0  91.739998  4.0771    4.5  \n",
       "...                ...              ...        ...     ...    ...  \n",
       "2019-01-08   58.720001         288250.0  74.209999  3.7202    6.5  \n",
       "2019-01-07   57.330002         296580.0  74.150002  3.7056    6.5  \n",
       "2019-01-04   57.060001         321110.0  73.089996  3.7621    6.5  \n",
       "2019-01-03   55.950001         278360.0  72.230003  3.7677    6.5  \n",
       "2019-01-02   54.910000         300950.0  71.059998  3.8589    6.5  \n",
       "\n",
       "[241 rows x 10 columns]"
      ]
     },
     "execution_count": 83,
     "metadata": {},
     "output_type": "execute_result"
    }
   ],
   "source": [
    "df.loc['2019']"
   ]
  },
  {
   "cell_type": "code",
   "execution_count": null,
   "id": "d251d8e8-3cd6-4486-b6f7-4b1b6fcb525f",
   "metadata": {},
   "outputs": [],
   "source": []
  },
  {
   "cell_type": "code",
   "execution_count": null,
   "id": "632f2624-2b9f-419f-bbbd-47c1d1734610",
   "metadata": {},
   "outputs": [],
   "source": []
  },
  {
   "cell_type": "markdown",
   "id": "43c8e0e4-3e77-454c-b659-8f724fccd997",
   "metadata": {},
   "source": [
    "#### BOVESPA_VOLUME\n",
    "Foram encontrados 663 outliers espalhados pelos 10 anos. Os mesmos foram removidos"
   ]
  },
  {
   "cell_type": "code",
   "execution_count": 56,
   "id": "d566292d-4cb1-49c0-b305-4c1b23a5d78a",
   "metadata": {},
   "outputs": [
    {
     "data": {
      "text/plain": [
       "<AxesSubplot:ylabel='BOVESPA_VOLUME'>"
      ]
     },
     "execution_count": 56,
     "metadata": {},
     "output_type": "execute_result"
    },
    {
     "data": {
      "image/png": "[encoded data removed]",
      "text/plain": [
       "<Figure size 432x288 with 1 Axes>"
      ]
     },
     "metadata": {
      "needs_background": "light"
     },
     "output_type": "display_data"
    }
   ],
   "source": [
    "sns.boxplot(y=df[\"BOVESPA_VOLUME\"])"
   ]
  },
  {
   "cell_type": "code",
   "execution_count": 57,
   "id": "a425d363-47ce-47f1-b5c2-4c3d84abe63a",
   "metadata": {},
   "outputs": [
    {
     "data": {
      "text/plain": [
       "(array([2010, 2011, 2012, 2013, 2014, 2015, 2016, 2017, 2018, 2019, 2020],\n",
       "       dtype=int64),\n",
       " 567)"
      ]
     },
     "execution_count": 57,
     "metadata": {},
     "output_type": "execute_result"
    }
   ],
   "source": [
    "np.unique(df.query(\"BOVESPA_VOLUME > 0.75e+07 | BOVESPA_VOLUME < 0.25e+07\").index.year), np.count_nonzero(np.unique(df.query(\"BOVESPA_VOLUME > 0.75e+07 | BOVESPA_VOLUME < 0.25e+07\").index.date))"
   ]
  },
  {
   "cell_type": "code",
   "execution_count": 58,
   "id": "e3de7362-21e3-426a-9b35-b7372589f088",
   "metadata": {},
   "outputs": [],
   "source": [
    "#Por este motivo faremos a retirada destes por poderem influenciar a análise\n",
    "#df.drop(df.loc[df['BOVESPA_VOLUME']>  0.75e+07].index, inplace=True)\n",
    "#df.drop(df.loc[df['BOVESPA_VOLUME'] < 0.25e+07].index, inplace=True)"
   ]
  },
  {
   "cell_type": "code",
   "execution_count": 59,
   "id": "f95b7dd3-54b1-4374-9ec7-8ba5df3cf108",
   "metadata": {},
   "outputs": [
    {
     "data": {
      "text/plain": [
       "567"
      ]
     },
     "execution_count": 59,
     "metadata": {},
     "output_type": "execute_result"
    }
   ],
   "source": [
    "#Encontramos 567 pregões onde tivemos um volume atípico para o Bovespa espalhados por diversos anos de nossa análise\n",
    "np.count_nonzero(np.unique(df.query(\"BOVESPA_VOLUME > 0.75e+07 | BOVESPA_VOLUME < 0.25e+07\").index.date))"
   ]
  },
  {
   "cell_type": "code",
   "execution_count": 60,
   "id": "99fe7ed8-c834-42c5-ae88-76037b637475",
   "metadata": {},
   "outputs": [],
   "source": [
    "#sns.boxplot(y=df[\"BOVESPA_VOLUME\"])"
   ]
  },
  {
   "cell_type": "code",
   "execution_count": 61,
   "id": "76e55924-13aa-4d46-a281-a5b1b92c2a32",
   "metadata": {},
   "outputs": [],
   "source": [
    "#Encontramos mais 96 pregões espalhados por 8 anos onde tivemos um volume atípico para o Bovespa \n",
    "#np.unique(df.query(\"BOVESPA_VOLUME > 6e+06\").index.year), np.count_nonzero(np.unique(df.query(\"BOVESPA_VOLUME > 6e+06\").index.date))"
   ]
  },
  {
   "cell_type": "code",
   "execution_count": 62,
   "id": "aa94936c-61c1-4ebe-8263-73eea47d2537",
   "metadata": {},
   "outputs": [],
   "source": [
    "#Retiramos mais estes Outliers\n",
    "#df.drop(df.loc[df['BOVESPA_VOLUME']>  6e+06].index, inplace=True)"
   ]
  },
  {
   "cell_type": "code",
   "execution_count": 63,
   "id": "5150f72c-d557-4192-89be-42a536d09bf4",
   "metadata": {},
   "outputs": [],
   "source": [
    "#sns.boxplot(y=df[\"BOVESPA_VOLUME\"])"
   ]
  },
  {
   "cell_type": "markdown",
   "id": "4c282be8-0243-4031-838a-09e53096bcdc",
   "metadata": {},
   "source": [
    "#### OURO\n"
   ]
  },
  {
   "cell_type": "code",
   "execution_count": 64,
   "id": "16fe4b39-7e17-4233-a021-bd5df5783aa5",
   "metadata": {},
   "outputs": [
    {
     "data": {
      "text/plain": [
       "<AxesSubplot:ylabel='OURO'>"
      ]
     },
     "execution_count": 64,
     "metadata": {},
     "output_type": "execute_result"
    },
    {
     "data": {
      "image/png": "[encoded data removed]",
      "text/plain": [
       "<Figure size 432x288 with 1 Axes>"
      ]
     },
     "metadata": {
      "needs_background": "light"
     },
     "output_type": "display_data"
    }
   ],
   "source": [
    "sns.boxplot(y=df[\"OURO\"])"
   ]
  },
  {
   "cell_type": "code",
   "execution_count": 65,
   "id": "4e5d713f-11b1-4c28-91cd-5663d28efeed",
   "metadata": {},
   "outputs": [
    {
     "data": {
      "text/plain": [
       "(array([2011, 2012, 2020], dtype=int64), 320)"
      ]
     },
     "execution_count": 65,
     "metadata": {},
     "output_type": "execute_result"
    }
   ],
   "source": [
    "#Encontramos mais 103 pregões espalhados por 2 anos\n",
    "np.unique(df.query(\"OURO > 1700\").index.year), np.count_nonzero(np.unique(df.query(\"OURO > 1700\").index.date))"
   ]
  },
  {
   "cell_type": "code",
   "execution_count": 66,
   "id": "230bb7a7-6dfa-4fb0-87d9-3e65b5276bc3",
   "metadata": {},
   "outputs": [],
   "source": [
    "#Retiramos mais estes Outliers\n",
    "#df.drop(df.loc[df['OURO']>  1700].index, inplace=True)"
   ]
  },
  {
   "cell_type": "code",
   "execution_count": 67,
   "id": "45c2a9d2-c07e-47db-a781-62f81836a074",
   "metadata": {},
   "outputs": [
    {
     "data": {
      "text/plain": [
       "<AxesSubplot:ylabel='OURO'>"
      ]
     },
     "execution_count": 67,
     "metadata": {},
     "output_type": "execute_result"
    },
    {
     "data": {
      "image/png": "[encoded data removed]",
      "text/plain": [
       "<Figure size 432x288 with 1 Axes>"
      ]
     },
     "metadata": {
      "needs_background": "light"
     },
     "output_type": "display_data"
    }
   ],
   "source": [
    "sns.boxplot(y=df[\"OURO\"])"
   ]
  },
  {
   "cell_type": "code",
   "execution_count": 68,
   "id": "d95ca34f-3b30-4a56-bb48-6f50f3134e72",
   "metadata": {},
   "outputs": [],
   "source": [
    "#df.drop(df.loc[df['OURO']>  1500].index, inplace=True)\n",
    "#df.drop(df.loc[df['OURO']<  1200].index, inplace=True)"
   ]
  },
  {
   "cell_type": "code",
   "execution_count": 69,
   "id": "a8e65ba6-6ffa-46f9-bd23-f947aa0e3194",
   "metadata": {},
   "outputs": [
    {
     "data": {
      "text/plain": [
       "<AxesSubplot:ylabel='OURO'>"
      ]
     },
     "execution_count": 69,
     "metadata": {},
     "output_type": "execute_result"
    },
    {
     "data": {
      "image/png": "[encoded data removed]",
      "text/plain": [
       "<Figure size 432x288 with 1 Axes>"
      ]
     },
     "metadata": {
      "needs_background": "light"
     },
     "output_type": "display_data"
    }
   ],
   "source": [
    "sns.boxplot(y=df[\"OURO\"])"
   ]
  },
  {
   "cell_type": "code",
   "execution_count": null,
   "id": "1799b84e-6dcc-4235-aa84-ba4e92550e97",
   "metadata": {},
   "outputs": [],
   "source": []
  },
  {
   "cell_type": "markdown",
   "id": "158bbf55-8bb6-4b7e-ae26-bc31e76930bf",
   "metadata": {},
   "source": [
    "#### OURO_VOLUME\n"
   ]
  },
  {
   "cell_type": "code",
   "execution_count": 70,
   "id": "ac3c019c-4840-45da-9e73-629d171a4116",
   "metadata": {},
   "outputs": [
    {
     "data": {
      "text/plain": [
       "<AxesSubplot:ylabel='OURO_VOLUME'>"
      ]
     },
     "execution_count": 70,
     "metadata": {},
     "output_type": "execute_result"
    },
    {
     "data": {
      "image/png": "[encoded data removed]",
      "text/plain": [
       "<Figure size 432x288 with 1 Axes>"
      ]
     },
     "metadata": {
      "needs_background": "light"
     },
     "output_type": "display_data"
    }
   ],
   "source": [
    "sns.boxplot(y=df[\"OURO_VOLUME\"])"
   ]
  },
  {
   "cell_type": "code",
   "execution_count": 71,
   "id": "8d7047f6-e132-4003-b82d-8c45a0f0ce03",
   "metadata": {},
   "outputs": [
    {
     "data": {
      "text/plain": [
       "count      2439.000000\n",
       "mean       1150.237802\n",
       "std        7269.335284\n",
       "min           0.000000\n",
       "25%          20.000000\n",
       "50%          80.000000\n",
       "75%         290.000000\n",
       "max      129820.000000\n",
       "Name: OURO_VOLUME, dtype: float64"
      ]
     },
     "execution_count": 71,
     "metadata": {},
     "output_type": "execute_result"
    }
   ],
   "source": [
    "df[\"OURO_VOLUME\"].describe()"
   ]
  },
  {
   "cell_type": "code",
   "execution_count": null,
   "id": "0028adfc-029c-497b-86b3-ef269b1c10f2",
   "metadata": {},
   "outputs": [],
   "source": []
  },
  {
   "cell_type": "markdown",
   "id": "75a97cb8-fe8f-41a7-b013-e73a1fc99bc7",
   "metadata": {},
   "source": [
    "#### PETROLEO\n",
    "Náo houve a incidência de outliers para o preço do barril do petróleo"
   ]
  },
  {
   "cell_type": "code",
   "execution_count": 72,
   "id": "787bcbe9-9c28-4fdb-a101-10a434b335d2",
   "metadata": {},
   "outputs": [
    {
     "data": {
      "text/plain": [
       "<AxesSubplot:ylabel='PETROLEO'>"
      ]
     },
     "execution_count": 72,
     "metadata": {},
     "output_type": "execute_result"
    },
    {
     "data": {
      "image/png": "[encoded data removed]",
      "text/plain": [
       "<Figure size 432x288 with 1 Axes>"
      ]
     },
     "metadata": {
      "needs_background": "light"
     },
     "output_type": "display_data"
    }
   ],
   "source": [
    "sns.boxplot(y=df[\"PETROLEO\"])"
   ]
  },
  {
   "cell_type": "markdown",
   "id": "a95733e0-f012-4c44-ae10-a9008d97a8c3",
   "metadata": {},
   "source": [
    "#### PETROLEO_VOLUME"
   ]
  },
  {
   "cell_type": "code",
   "execution_count": 73,
   "id": "d4ab4484-d2ee-442d-aac5-4c3b35dac4aa",
   "metadata": {},
   "outputs": [
    {
     "data": {
      "text/plain": [
       "<AxesSubplot:ylabel='PETROLEO_VOLUME'>"
      ]
     },
     "execution_count": 73,
     "metadata": {},
     "output_type": "execute_result"
    },
    {
     "data": {
      "image/png": "[encoded data removed]",
      "text/plain": [
       "<Figure size 432x288 with 1 Axes>"
      ]
     },
     "metadata": {
      "needs_background": "light"
     },
     "output_type": "display_data"
    }
   ],
   "source": [
    "sns.boxplot(y=df[\"PETROLEO_VOLUME\"])"
   ]
  },
  {
   "cell_type": "markdown",
   "id": "cc45de7a-7576-47b3-bc13-c1f38ff0e069",
   "metadata": {},
   "source": [
    "#### FERRO"
   ]
  },
  {
   "cell_type": "code",
   "execution_count": 74,
   "id": "2dce3388-80cf-436c-8c81-eba2dadf3fcc",
   "metadata": {},
   "outputs": [
    {
     "data": {
      "text/plain": [
       "<AxesSubplot:ylabel='FERRO'>"
      ]
     },
     "execution_count": 74,
     "metadata": {},
     "output_type": "execute_result"
    },
    {
     "data": {
      "image/png": "[encoded data removed]",
      "text/plain": [
       "<Figure size 432x288 with 1 Axes>"
      ]
     },
     "metadata": {
      "needs_background": "light"
     },
     "output_type": "display_data"
    }
   ],
   "source": [
    "sns.boxplot(y=df[\"FERRO\"])"
   ]
  },
  {
   "cell_type": "code",
   "execution_count": null,
   "id": "6baa08fc-1203-4fb7-80bb-8c9d756b7f4c",
   "metadata": {},
   "outputs": [],
   "source": []
  },
  {
   "cell_type": "code",
   "execution_count": null,
   "id": "db7c8e03-324d-4963-bf81-d4f39f14f4e1",
   "metadata": {},
   "outputs": [],
   "source": []
  },
  {
   "cell_type": "markdown",
   "id": "721c2bbd-e9ad-4b29-b626-a2f674903bef",
   "metadata": {},
   "source": [
    "#### DOLAR\n",
    "Não foram encontrados outliers para a cotação do Dólar nestes últimos 10 anos"
   ]
  },
  {
   "cell_type": "code",
   "execution_count": null,
   "id": "ada5799d-01aa-4214-9acf-bf1e0ceed458",
   "metadata": {},
   "outputs": [],
   "source": []
  },
  {
   "cell_type": "code",
   "execution_count": 75,
   "id": "88561c82-258b-4352-8cde-2248a358009b",
   "metadata": {},
   "outputs": [
    {
     "data": {
      "text/plain": [
       "<AxesSubplot:ylabel='DOLAR'>"
      ]
     },
     "execution_count": 75,
     "metadata": {},
     "output_type": "execute_result"
    },
    {
     "data": {
      "image/png": "[encoded data removed]",
      "text/plain": [
       "<Figure size 432x288 with 1 Axes>"
      ]
     },
     "metadata": {
      "needs_background": "light"
     },
     "output_type": "display_data"
    }
   ],
   "source": [
    "sns.boxplot(y=df[\"DOLAR\"])"
   ]
  },
  {
   "cell_type": "code",
   "execution_count": null,
   "id": "d19b8bd5-6570-4a0e-8d29-b8ee0693163c",
   "metadata": {},
   "outputs": [],
   "source": []
  },
  {
   "cell_type": "markdown",
   "id": "2c972a4e-4bd8-4638-be4e-32ebdb13899b",
   "metadata": {},
   "source": [
    "#### SELIC\n",
    "Não foram encontrados outliers para a cotação da selic nos últimos 10 anos"
   ]
  },
  {
   "cell_type": "code",
   "execution_count": 76,
   "id": "0f743595-a371-47c3-a824-056e42fb005a",
   "metadata": {},
   "outputs": [
    {
     "data": {
      "text/plain": [
       "<AxesSubplot:ylabel='SELIC'>"
      ]
     },
     "execution_count": 76,
     "metadata": {},
     "output_type": "execute_result"
    },
    {
     "data": {
      "image/png": "[encoded data removed]",
      "text/plain": [
       "<Figure size 432x288 with 1 Axes>"
      ]
     },
     "metadata": {
      "needs_background": "light"
     },
     "output_type": "display_data"
    }
   ],
   "source": [
    "sns.boxplot(y=df[\"SELIC\"])"
   ]
  },
  {
   "cell_type": "code",
   "execution_count": null,
   "id": "ed794a57-0202-4bde-9cab-0b7f91cc2dab",
   "metadata": {},
   "outputs": [],
   "source": []
  },
  {
   "cell_type": "code",
   "execution_count": null,
   "id": "697b1a58-fe43-4e3d-972b-9d684f37e497",
   "metadata": {},
   "outputs": [],
   "source": []
  },
  {
   "cell_type": "code",
   "execution_count": null,
   "id": "7ab09e68-61c5-4435-a8a2-6b9b2420bb94",
   "metadata": {},
   "outputs": [],
   "source": []
  },
  {
   "cell_type": "markdown",
   "id": "8eea869f-1799-42a9-be1a-1886a41f1326",
   "metadata": {},
   "source": [
    "## Feature engineering"
   ]
  },
  {
   "cell_type": "code",
   "execution_count": null,
   "id": "5bda7612-753f-4f00-beb8-b905d543c49c",
   "metadata": {},
   "outputs": [],
   "source": []
  },
  {
   "cell_type": "code",
   "execution_count": null,
   "id": "c3b10974-4534-482a-bf0a-29037ffc344f",
   "metadata": {},
   "outputs": [],
   "source": []
  }
 ],
 "metadata": {
  "kernelspec": {
   "display_name": "Python 3",
   "language": "python",
   "name": "python3"
  },
  "language_info": {
   "codemirror_mode": {
    "name": "ipython",
    "version": 3
   },
   "file_extension": ".py",
   "mimetype": "text/x-python",
   "name": "python",
   "nbconvert_exporter": "python",
   "pygments_lexer": "ipython3",
   "version": "3.9.4"
  }
 },
 "nbformat": 4,
 "nbformat_minor": 5
}
