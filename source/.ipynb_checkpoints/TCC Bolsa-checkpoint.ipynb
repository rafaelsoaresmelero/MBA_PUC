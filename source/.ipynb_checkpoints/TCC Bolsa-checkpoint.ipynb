{
 "cells": [
  {
   "cell_type": "markdown",
   "id": "44e4be92",
   "metadata": {},
   "source": [
    "# TCC - Avaliando Estratégias na Bolsa de Valores"
   ]
  },
  {
   "cell_type": "markdown",
   "id": "75cffcfa-4a02-4e2b-9bab-ba43a84a2633",
   "metadata": {},
   "source": [
    "## Inicialização do programa"
   ]
  },
  {
   "cell_type": "markdown",
   "id": "2d997a30-6fd6-4130-a138-be3d526e914d",
   "metadata": {},
   "source": [
    "### Importar bibliotecas"
   ]
  },
  {
   "cell_type": "code",
   "execution_count": 1,
   "id": "24c3c0e1",
   "metadata": {},
   "outputs": [],
   "source": [
    "#Importar bibliotecas\n",
    "import pandas as pd\n",
    "import seaborn as sb\n",
    "import plotly.graph_objects as go"
   ]
  },
  {
   "cell_type": "markdown",
   "id": "bf8548f7-25d9-457d-a9d8-6b528e0507d0",
   "metadata": {},
   "source": [
    "### Parametrização da execução"
   ]
  },
  {
   "cell_type": "code",
   "execution_count": 2,
   "id": "bb8f75f8",
   "metadata": {},
   "outputs": [],
   "source": [
    "#Parametros gerais para análise\n",
    "\n",
    "#Ações a serem avaliadas\n",
    "acoes_interesse = ['TAEE11', 'ITSA4', 'BBAS3', 'CMIG4']\n",
    "\n",
    "#Períodos a serem avaliados\n",
    "#year_date =['2010', '2011', '2012', '2013', '2014', '2015', '2016', '2017', '2018', '2019', '2020']\n",
    "anos_analise =['2019', '2020']\n",
    "\n",
    "##Path de Input\n",
    "path_input_principal = 'C:\\\\Users\\\\rafael.melero\\\\Desktop\\\\Projetos\\\\TCC\\\\001 - Coleta de dados\\\\'\n",
    "\n",
    "# Configurando Gráficos\n",
    "sb.set_theme(context='notebook', style='darkgrid', palette='deep', font='sans-serif', font_scale=1, color_codes=True, rc=None)\n"
   ]
  },
  {
   "cell_type": "markdown",
   "id": "aa76a1ec-217e-49e8-a205-e81c08e9eee7",
   "metadata": {
    "tags": []
   },
   "source": [
    "## Carga dos dados"
   ]
  },
  {
   "cell_type": "markdown",
   "id": "b18c6462",
   "metadata": {
    "tags": []
   },
   "source": [
    "### LOAD histórico da B3"
   ]
  },
  {
   "cell_type": "code",
   "execution_count": 3,
   "id": "5dfb151d",
   "metadata": {},
   "outputs": [],
   "source": [
    "#Leitura do arquivo da B3\n",
    "def ler_arquivos_b3 (path, anos):\n",
    "    \n",
    "    _file = f'{path}B3//COTAHIST_A{anos}.TXT'\n",
    "    \n",
    "    colsspecs = [(2,10),\n",
    "                 (10,12),\n",
    "                 (12,24),\n",
    "                 #(27,39),\n",
    "                 (56,69),\n",
    "                 (69,82),\n",
    "                 (82,95),\n",
    "                 (108,121),\n",
    "                 #(152,170),\n",
    "                 (170,188)    \n",
    "                ]\n",
    "\n",
    "    colsnames = [\"DATA_PREGAO\",\n",
    "                \"COD_BDI\",\n",
    "                 \"CODIGO_NEGOCIACAO\",\n",
    "                 #\"NOME_EMPRESA\",\n",
    "                 \"PRECO_ABERTURA\",\n",
    "                 \"PRECO_MAXIMO\",\n",
    "                 \"PRECO_MINIMO\",\n",
    "                 \"PRECO_FECHAMENTO\",\n",
    "                 #\"QUATIDADE_NEGOCIOS\",\n",
    "                 \"VOLUME_NEGOCIOS\"\n",
    "                ]\n",
    "\n",
    "    df = pd.read_fwf(filepath_or_buffer=_file, colspecs=colsspecs, names=colsnames, skiprows = 1)\n",
    "    \n",
    "    return df\n",
    "\n",
    "#Ajuste de colunas do Dataframe\n",
    "def etl_b3_files (df):\n",
    "    \n",
    "    #Filtrar ações - Lote Padrão\n",
    "    df = df[df['COD_BDI'] == 2]\n",
    "    df = df.drop(['COD_BDI'], 1)    \n",
    "    \n",
    "    #Ajuste de colunas\n",
    "    df['DATA_PREGAO'] = pd.to_datetime(df['DATA_PREGAO'])    \n",
    "    df['PRECO_ABERTURA'] = (df['PRECO_ABERTURA']/100).astype(float)\n",
    "    df['PRECO_MAXIMO'] = (df['PRECO_MAXIMO']/100).astype(float)\n",
    "    df['PRECO_MINIMO'] = (df['PRECO_MINIMO']/100).astype(float)\n",
    "    df['PRECO_FECHAMENTO'] = (df['PRECO_FECHAMENTO']/100).astype(float)    \n",
    "    \n",
    "    return df"
   ]
  },
  {
   "cell_type": "code",
   "execution_count": 4,
   "id": "20af9ba5",
   "metadata": {},
   "outputs": [],
   "source": [
    "#Ler e juntar os arquivos de histórico da B3 em um único Dataframe\n",
    "def ler_historico_b3(path, anos_analise, acoes_interesse):\n",
    "    for i, y in enumerate(anos_analise):\n",
    "        \n",
    "        df = ler_arquivos_b3(path, y)\n",
    "        \n",
    "        #Filtrar ações de interesse\n",
    "        df = df[df['CODIGO_NEGOCIACAO'].isin(acoes_interesse)]\n",
    "\n",
    "        df = etl_b3_files(df)\n",
    "        \n",
    "        if i ==0:\n",
    "            df_final = df\n",
    "        else:\n",
    "            df_final = pd.concat([df_final, df])           \n",
    "    \n",
    "    return df_final"
   ]
  },
  {
   "cell_type": "markdown",
   "id": "b3256b6b",
   "metadata": {},
   "source": [
    "### LOAD StatusInvest: Dividendos"
   ]
  },
  {
   "cell_type": "code",
   "execution_count": 5,
   "id": "de9b3d63",
   "metadata": {},
   "outputs": [],
   "source": [
    "def ler_dividendos_statusinvest(path, anos_analise, acoes_interesse):\n",
    "    \n",
    "    _file = f'{path}StatusInvest\\\\Dividendos.xlsx'\n",
    "    \n",
    "    df_dividendos = pd.read_excel(_file)\n",
    "    \n",
    "    #Removendo colunas\n",
    "    df_dividendos.drop('TIPO', axis='columns', inplace=True)\n",
    "    df_dividendos.drop('PAGAMENTO', axis='columns', inplace=True)\n",
    "    \n",
    "    #Renomeando colunas\n",
    "    df_dividendos.rename(columns = {'CODNEG':'CODIGO_NEGOCIACAO', 'DATA COM':'DATA_PREGAO', 'VALOR':'DIVIDENDO'}, inplace = True)\n",
    "    \n",
    "    return df_dividendos    "
   ]
  },
  {
   "cell_type": "markdown",
   "id": "78519d20",
   "metadata": {},
   "source": [
    "### Executando o LOAD dos arquivos"
   ]
  },
  {
   "cell_type": "code",
   "execution_count": 6,
   "id": "36916932",
   "metadata": {},
   "outputs": [],
   "source": [
    "#Carregar os dados\n",
    "df_historico = ler_historico_b3(path_input_principal, anos_analise, acoes_interesse)\n",
    "df_dividendos = ler_dividendos_statusinvest(path_input_principal, anos_analise, acoes_interesse)\n",
    "\n",
    "#Indexando base\n",
    "df_historico.set_index(['DATA_PREGAO', 'CODIGO_NEGOCIACAO'], inplace= True)\n",
    "df_dividendos.set_index(['DATA_PREGAO', 'CODIGO_NEGOCIACAO'], inplace= True)"
   ]
  },
  {
   "cell_type": "markdown",
   "id": "591f8248",
   "metadata": {},
   "source": [
    "## Verificação de Datasets"
   ]
  },
  {
   "cell_type": "markdown",
   "id": "bc7c9361-ba7f-4650-8177-e7bd54e5260a",
   "metadata": {},
   "source": [
    "### Dataframe Histórico B3"
   ]
  },
  {
   "cell_type": "code",
   "execution_count": 7,
   "id": "359d7a72-1a04-476a-9dec-31054c75a14b",
   "metadata": {},
   "outputs": [
    {
     "data": {
      "text/html": [
       "<div>\n",
       "<style scoped>\n",
       "    .dataframe tbody tr th:only-of-type {\n",
       "        vertical-align: middle;\n",
       "    }\n",
       "\n",
       "    .dataframe tbody tr th {\n",
       "        vertical-align: top;\n",
       "    }\n",
       "\n",
       "    .dataframe thead th {\n",
       "        text-align: right;\n",
       "    }\n",
       "</style>\n",
       "<table border=\"1\" class=\"dataframe\">\n",
       "  <thead>\n",
       "    <tr style=\"text-align: right;\">\n",
       "      <th></th>\n",
       "      <th>PRECO_ABERTURA</th>\n",
       "      <th>PRECO_MAXIMO</th>\n",
       "      <th>PRECO_MINIMO</th>\n",
       "      <th>PRECO_FECHAMENTO</th>\n",
       "      <th>VOLUME_NEGOCIOS</th>\n",
       "    </tr>\n",
       "  </thead>\n",
       "  <tbody>\n",
       "    <tr>\n",
       "      <th>count</th>\n",
       "      <td>1988.000000</td>\n",
       "      <td>1988.000000</td>\n",
       "      <td>1988.000000</td>\n",
       "      <td>1988.000000</td>\n",
       "      <td>1.988000e+03</td>\n",
       "    </tr>\n",
       "    <tr>\n",
       "      <th>mean</th>\n",
       "      <td>23.732334</td>\n",
       "      <td>24.040900</td>\n",
       "      <td>23.381393</td>\n",
       "      <td>23.703808</td>\n",
       "      <td>2.728617e+10</td>\n",
       "    </tr>\n",
       "    <tr>\n",
       "      <th>std</th>\n",
       "      <td>13.451120</td>\n",
       "      <td>13.611395</td>\n",
       "      <td>13.268047</td>\n",
       "      <td>13.432458</td>\n",
       "      <td>2.521435e+10</td>\n",
       "    </tr>\n",
       "    <tr>\n",
       "      <th>min</th>\n",
       "      <td>7.790000</td>\n",
       "      <td>8.270000</td>\n",
       "      <td>7.440000</td>\n",
       "      <td>7.530000</td>\n",
       "      <td>1.061603e+09</td>\n",
       "    </tr>\n",
       "    <tr>\n",
       "      <th>25%</th>\n",
       "      <td>12.645000</td>\n",
       "      <td>12.810000</td>\n",
       "      <td>12.477500</td>\n",
       "      <td>12.640000</td>\n",
       "      <td>8.715156e+09</td>\n",
       "    </tr>\n",
       "    <tr>\n",
       "      <th>50%</th>\n",
       "      <td>19.910000</td>\n",
       "      <td>20.240000</td>\n",
       "      <td>18.795000</td>\n",
       "      <td>19.050000</td>\n",
       "      <td>1.866680e+10</td>\n",
       "    </tr>\n",
       "    <tr>\n",
       "      <th>75%</th>\n",
       "      <td>30.702500</td>\n",
       "      <td>31.140000</td>\n",
       "      <td>30.272500</td>\n",
       "      <td>30.790000</td>\n",
       "      <td>3.944671e+10</td>\n",
       "    </tr>\n",
       "    <tr>\n",
       "      <th>max</th>\n",
       "      <td>55.600000</td>\n",
       "      <td>55.910000</td>\n",
       "      <td>54.820000</td>\n",
       "      <td>55.180000</td>\n",
       "      <td>2.170666e+11</td>\n",
       "    </tr>\n",
       "  </tbody>\n",
       "</table>\n",
       "</div>"
      ],
      "text/plain": [
       "       PRECO_ABERTURA  PRECO_MAXIMO  PRECO_MINIMO  PRECO_FECHAMENTO  \\\n",
       "count     1988.000000   1988.000000   1988.000000       1988.000000   \n",
       "mean        23.732334     24.040900     23.381393         23.703808   \n",
       "std         13.451120     13.611395     13.268047         13.432458   \n",
       "min          7.790000      8.270000      7.440000          7.530000   \n",
       "25%         12.645000     12.810000     12.477500         12.640000   \n",
       "50%         19.910000     20.240000     18.795000         19.050000   \n",
       "75%         30.702500     31.140000     30.272500         30.790000   \n",
       "max         55.600000     55.910000     54.820000         55.180000   \n",
       "\n",
       "       VOLUME_NEGOCIOS  \n",
       "count     1.988000e+03  \n",
       "mean      2.728617e+10  \n",
       "std       2.521435e+10  \n",
       "min       1.061603e+09  \n",
       "25%       8.715156e+09  \n",
       "50%       1.866680e+10  \n",
       "75%       3.944671e+10  \n",
       "max       2.170666e+11  "
      ]
     },
     "execution_count": 7,
     "metadata": {},
     "output_type": "execute_result"
    }
   ],
   "source": [
    "#Descrever dataset\n",
    "df_historico.describe()"
   ]
  },
  {
   "cell_type": "code",
   "execution_count": 8,
   "id": "fd48471c",
   "metadata": {},
   "outputs": [
    {
     "data": {
      "text/plain": [
       "False"
      ]
     },
     "execution_count": 8,
     "metadata": {},
     "output_type": "execute_result"
    }
   ],
   "source": [
    "#Verificando duplicidades no index\n",
    "df_historico.index.has_duplicates"
   ]
  },
  {
   "cell_type": "code",
   "execution_count": 9,
   "id": "ce14a91f-8f91-4541-ae57-00e0828a95f8",
   "metadata": {},
   "outputs": [
    {
     "name": "stdout",
     "output_type": "stream",
     "text": [
      "PRECO_ABERTURA      0\n",
      "PRECO_MAXIMO        0\n",
      "PRECO_MINIMO        0\n",
      "PRECO_FECHAMENTO    0\n",
      "VOLUME_NEGOCIOS     0\n",
      "dtype: int64\n"
     ]
    }
   ],
   "source": [
    "#Verificando valores Nulos e inválidos\n",
    "print(df_historico.isna().sum())"
   ]
  },
  {
   "cell_type": "code",
   "execution_count": 10,
   "id": "d0645912-fd8d-4105-a787-0852dd589c2c",
   "metadata": {},
   "outputs": [
    {
     "data": {
      "text/plain": [
       "<AxesSubplot:xlabel='CODIGO_NEGOCIACAO', ylabel='PRECO_FECHAMENTO'>"
      ]
     },
     "execution_count": 10,
     "metadata": {},
     "output_type": "execute_result"
    },
    {
     "data": {
      "image/png": "[encoded data removed]",
      "text/plain": [
       "<Figure size 432x288 with 1 Axes>"
      ]
     },
     "metadata": {},
     "output_type": "display_data"
    }
   ],
   "source": [
    "#Verificando Outliers - Identificamos que apenas na TAEE11 temos valores que extrapolam \n",
    "sb.boxplot(x = 'CODIGO_NEGOCIACAO', y='PRECO_FECHAMENTO', data = df_historico.reset_index(), fliersize=5)"
   ]
  },
  {
   "cell_type": "code",
   "execution_count": 28,
   "id": "6a028748-fabd-4265-838b-3092d01296e4",
   "metadata": {},
   "outputs": [
    {
     "name": "stdout",
     "output_type": "stream",
     "text": [
      "    DATA_PREGAO CODIGO_NEGOCIACAO  PRECO_ABERTURA  PRECO_MAXIMO  PRECO_MINIMO  \\\n",
      "436  2020-10-01            TAEE11           28.06         28.22         27.87   \n",
      "437  2020-10-02            TAEE11           28.12         28.35         27.90   \n",
      "438  2020-10-05            TAEE11           28.11         28.23         27.91   \n",
      "439  2020-10-06            TAEE11           28.20         28.32         27.95   \n",
      "440  2020-10-07            TAEE11           28.08         28.25         27.83   \n",
      "..          ...               ...             ...           ...           ...   \n",
      "492  2020-12-22            TAEE11           32.86         33.04         32.70   \n",
      "493  2020-12-23            TAEE11           33.00         33.17         32.73   \n",
      "494  2020-12-28            TAEE11           33.26         33.69         33.16   \n",
      "495  2020-12-29            TAEE11           33.69         33.69         33.37   \n",
      "496  2020-12-30            TAEE11           33.62         33.66         33.21   \n",
      "\n",
      "     PRECO_FECHAMENTO  VOLUME_NEGOCIOS  \n",
      "436             28.12     4.640249e+09  \n",
      "437             28.00     5.280759e+09  \n",
      "438             28.07     6.832829e+09  \n",
      "439             28.02     6.974335e+09  \n",
      "440             28.12     7.409242e+09  \n",
      "..                ...              ...  \n",
      "492             32.95     5.360714e+09  \n",
      "493             33.14     5.342817e+09  \n",
      "494             33.68     3.837293e+09  \n",
      "495             33.55     4.813813e+09  \n",
      "496             33.33     7.136604e+09  \n",
      "\n",
      "[61 rows x 7 columns]\n"
     ]
    },
    {
     "data": {
      "application/vnd.plotly.v1+json": {
       "config": {
        "plotlyServerURL": "https://plot.ly"
       },
       "data": [
        {
         "close": [
          28.12,
          28,
          28.07,
          28.02,
          28.12,
          28.14,
          28,
          27.98,
          28.06,
          28.01,
          28.33,
          28.5,
          28.71,
          28.64,
          28.78,
          28.59,
          28.61,
          28.75,
          28.39,
          28.39,
          28.15,
          28.27,
          29.04,
          29.56,
          30.3,
          30.39,
          30.61,
          30.62,
          31.57,
          32.86,
          33.61,
          32.26,
          32.4,
          32.7,
          32.47,
          32.25,
          32.77,
          32.83,
          33.09,
          33,
          33.11,
          32.94,
          32.6,
          33.2,
          32.67,
          33.58,
          33.4,
          33.07,
          33.03,
          33.92,
          33.78,
          33.64,
          33.52,
          33.63,
          33.05,
          32.77,
          32.95,
          33.14,
          33.68,
          33.55,
          33.33
         ],
         "high": [
          28.22,
          28.35,
          28.23,
          28.32,
          28.25,
          28.3,
          28.19,
          28.14,
          28.27,
          28.16,
          28.35,
          28.6,
          28.82,
          28.83,
          28.78,
          28.66,
          28.91,
          28.99,
          28.77,
          28.55,
          28.45,
          28.69,
          29.24,
          29.76,
          30.38,
          31,
          30.73,
          30.75,
          32.56,
          32.97,
          33.68,
          32.26,
          32.48,
          33.22,
          32.99,
          32.79,
          32.96,
          33.06,
          33.15,
          33.25,
          33.25,
          33.39,
          33.28,
          33.52,
          33.27,
          33.68,
          33.75,
          33.55,
          33.25,
          34.12,
          34.37,
          34.03,
          33.69,
          33.86,
          33.69,
          33.2,
          33.04,
          33.17,
          33.69,
          33.69,
          33.66
         ],
         "low": [
          27.87,
          27.9,
          27.91,
          27.95,
          27.83,
          28.05,
          27.94,
          27.91,
          27.99,
          27.97,
          28,
          28.13,
          28.56,
          28.54,
          28.5,
          28.5,
          28.52,
          28.65,
          28.17,
          28.1,
          28,
          28.23,
          28.41,
          29.21,
          29.41,
          30.22,
          30.16,
          30.43,
          31.25,
          31.97,
          32.94,
          31.68,
          32.01,
          32.24,
          32.47,
          32.15,
          32.15,
          32.72,
          32.75,
          32.94,
          32.96,
          32.82,
          32.5,
          32.65,
          32.57,
          32.64,
          33.17,
          33.04,
          32.66,
          33.03,
          33.66,
          33.42,
          33.02,
          33.3,
          33.01,
          32.03,
          32.7,
          32.73,
          33.16,
          33.37,
          33.21
         ],
         "open": [
          28.06,
          28.12,
          28.11,
          28.2,
          28.08,
          28.18,
          28.08,
          28.08,
          28.02,
          28,
          28.05,
          28.32,
          28.61,
          28.71,
          28.62,
          28.64,
          28.6,
          28.66,
          28.6,
          28.43,
          28.39,
          28.55,
          28.47,
          29.35,
          29.49,
          30.71,
          30.35,
          30.61,
          31.26,
          32.2,
          33.5,
          31.89,
          32.16,
          32.3,
          32.51,
          32.78,
          32.36,
          32.77,
          32.83,
          33.09,
          33.02,
          33.22,
          32.98,
          32.73,
          33.27,
          32.72,
          33.59,
          33.34,
          33.25,
          33.09,
          34.06,
          33.88,
          33.56,
          33.53,
          33.65,
          32.67,
          32.86,
          33,
          33.26,
          33.69,
          33.62
         ],
         "type": "candlestick",
         "x": [
          "2020-10-01T00:00:00",
          "2020-10-02T00:00:00",
          "2020-10-05T00:00:00",
          "2020-10-06T00:00:00",
          "2020-10-07T00:00:00",
          "2020-10-08T00:00:00",
          "2020-10-09T00:00:00",
          "2020-10-13T00:00:00",
          "2020-10-14T00:00:00",
          "2020-10-15T00:00:00",
          "2020-10-16T00:00:00",
          "2020-10-19T00:00:00",
          "2020-10-20T00:00:00",
          "2020-10-21T00:00:00",
          "2020-10-22T00:00:00",
          "2020-10-23T00:00:00",
          "2020-10-26T00:00:00",
          "2020-10-27T00:00:00",
          "2020-10-28T00:00:00",
          "2020-10-29T00:00:00",
          "2020-10-30T00:00:00",
          "2020-11-03T00:00:00",
          "2020-11-04T00:00:00",
          "2020-11-05T00:00:00",
          "2020-11-06T00:00:00",
          "2020-11-09T00:00:00",
          "2020-11-10T00:00:00",
          "2020-11-11T00:00:00",
          "2020-11-12T00:00:00",
          "2020-11-13T00:00:00",
          "2020-11-16T00:00:00",
          "2020-11-17T00:00:00",
          "2020-11-18T00:00:00",
          "2020-11-19T00:00:00",
          "2020-11-20T00:00:00",
          "2020-11-23T00:00:00",
          "2020-11-24T00:00:00",
          "2020-11-25T00:00:00",
          "2020-11-26T00:00:00",
          "2020-11-27T00:00:00",
          "2020-11-30T00:00:00",
          "2020-12-01T00:00:00",
          "2020-12-02T00:00:00",
          "2020-12-03T00:00:00",
          "2020-12-04T00:00:00",
          "2020-12-07T00:00:00",
          "2020-12-08T00:00:00",
          "2020-12-09T00:00:00",
          "2020-12-10T00:00:00",
          "2020-12-11T00:00:00",
          "2020-12-14T00:00:00",
          "2020-12-15T00:00:00",
          "2020-12-16T00:00:00",
          "2020-12-17T00:00:00",
          "2020-12-18T00:00:00",
          "2020-12-21T00:00:00",
          "2020-12-22T00:00:00",
          "2020-12-23T00:00:00",
          "2020-12-28T00:00:00",
          "2020-12-29T00:00:00",
          "2020-12-30T00:00:00"
         ]
        }
       ],
       "layout": {
        "autosize": true,
        "dragmode": "pan",
        "template": {
         "data": {
          "bar": [
           {
            "error_x": {
             "color": "#2a3f5f"
            },
            "error_y": {
             "color": "#2a3f5f"
            },
            "marker": {
             "line": {
              "color": "#E5ECF6",
              "width": 0.5
             },
             "pattern": {
              "fillmode": "overlay",
              "size": 10,
              "solidity": 0.2
             }
            },
            "type": "bar"
           }
          ],
          "barpolar": [
           {
            "marker": {
             "line": {
              "color": "#E5ECF6",
              "width": 0.5
             },
             "pattern": {
              "fillmode": "overlay",
              "size": 10,
              "solidity": 0.2
             }
            },
            "type": "barpolar"
           }
          ],
          "carpet": [
           {
            "aaxis": {
             "endlinecolor": "#2a3f5f",
             "gridcolor": "white",
             "linecolor": "white",
             "minorgridcolor": "white",
             "startlinecolor": "#2a3f5f"
            },
            "baxis": {
             "endlinecolor": "#2a3f5f",
             "gridcolor": "white",
             "linecolor": "white",
             "minorgridcolor": "white",
             "startlinecolor": "#2a3f5f"
            },
            "type": "carpet"
           }
          ],
          "choropleth": [
           {
            "colorbar": {
             "outlinewidth": 0,
             "ticks": ""
            },
            "type": "choropleth"
           }
          ],
          "contour": [
           {
            "colorbar": {
             "outlinewidth": 0,
             "ticks": ""
            },
            "colorscale": [
             [
              0,
              "#0d0887"
             ],
             [
              0.1111111111111111,
              "#46039f"
             ],
             [
              0.2222222222222222,
              "#7201a8"
             ],
             [
              0.3333333333333333,
              "#9c179e"
             ],
             [
              0.4444444444444444,
              "#bd3786"
             ],
             [
              0.5555555555555556,
              "#d8576b"
             ],
             [
              0.6666666666666666,
              "#ed7953"
             ],
             [
              0.7777777777777778,
              "#fb9f3a"
             ],
             [
              0.8888888888888888,
              "#fdca26"
             ],
             [
              1,
              "#f0f921"
             ]
            ],
            "type": "contour"
           }
          ],
          "contourcarpet": [
           {
            "colorbar": {
             "outlinewidth": 0,
             "ticks": ""
            },
            "type": "contourcarpet"
           }
          ],
          "heatmap": [
           {
            "colorbar": {
             "outlinewidth": 0,
             "ticks": ""
            },
            "colorscale": [
             [
              0,
              "#0d0887"
             ],
             [
              0.1111111111111111,
              "#46039f"
             ],
             [
              0.2222222222222222,
              "#7201a8"
             ],
             [
              0.3333333333333333,
              "#9c179e"
             ],
             [
              0.4444444444444444,
              "#bd3786"
             ],
             [
              0.5555555555555556,
              "#d8576b"
             ],
             [
              0.6666666666666666,
              "#ed7953"
             ],
             [
              0.7777777777777778,
              "#fb9f3a"
             ],
             [
              0.8888888888888888,
              "#fdca26"
             ],
             [
              1,
              "#f0f921"
             ]
            ],
            "type": "heatmap"
           }
          ],
          "heatmapgl": [
           {
            "colorbar": {
             "outlinewidth": 0,
             "ticks": ""
            },
            "colorscale": [
             [
              0,
              "#0d0887"
             ],
             [
              0.1111111111111111,
              "#46039f"
             ],
             [
              0.2222222222222222,
              "#7201a8"
             ],
             [
              0.3333333333333333,
              "#9c179e"
             ],
             [
              0.4444444444444444,
              "#bd3786"
             ],
             [
              0.5555555555555556,
              "#d8576b"
             ],
             [
              0.6666666666666666,
              "#ed7953"
             ],
             [
              0.7777777777777778,
              "#fb9f3a"
             ],
             [
              0.8888888888888888,
              "#fdca26"
             ],
             [
              1,
              "#f0f921"
             ]
            ],
            "type": "heatmapgl"
           }
          ],
          "histogram": [
           {
            "marker": {
             "pattern": {
              "fillmode": "overlay",
              "size": 10,
              "solidity": 0.2
             }
            },
            "type": "histogram"
           }
          ],
          "histogram2d": [
           {
            "colorbar": {
             "outlinewidth": 0,
             "ticks": ""
            },
            "colorscale": [
             [
              0,
              "#0d0887"
             ],
             [
              0.1111111111111111,
              "#46039f"
             ],
             [
              0.2222222222222222,
              "#7201a8"
             ],
             [
              0.3333333333333333,
              "#9c179e"
             ],
             [
              0.4444444444444444,
              "#bd3786"
             ],
             [
              0.5555555555555556,
              "#d8576b"
             ],
             [
              0.6666666666666666,
              "#ed7953"
             ],
             [
              0.7777777777777778,
              "#fb9f3a"
             ],
             [
              0.8888888888888888,
              "#fdca26"
             ],
             [
              1,
              "#f0f921"
             ]
            ],
            "type": "histogram2d"
           }
          ],
          "histogram2dcontour": [
           {
            "colorbar": {
             "outlinewidth": 0,
             "ticks": ""
            },
            "colorscale": [
             [
              0,
              "#0d0887"
             ],
             [
              0.1111111111111111,
              "#46039f"
             ],
             [
              0.2222222222222222,
              "#7201a8"
             ],
             [
              0.3333333333333333,
              "#9c179e"
             ],
             [
              0.4444444444444444,
              "#bd3786"
             ],
             [
              0.5555555555555556,
              "#d8576b"
             ],
             [
              0.6666666666666666,
              "#ed7953"
             ],
             [
              0.7777777777777778,
              "#fb9f3a"
             ],
             [
              0.8888888888888888,
              "#fdca26"
             ],
             [
              1,
              "#f0f921"
             ]
            ],
            "type": "histogram2dcontour"
           }
          ],
          "mesh3d": [
           {
            "colorbar": {
             "outlinewidth": 0,
             "ticks": ""
            },
            "type": "mesh3d"
           }
          ],
          "parcoords": [
           {
            "line": {
             "colorbar": {
              "outlinewidth": 0,
              "ticks": ""
             }
            },
            "type": "parcoords"
           }
          ],
          "pie": [
           {
            "automargin": true,
            "type": "pie"
           }
          ],
          "scatter": [
           {
            "marker": {
             "colorbar": {
              "outlinewidth": 0,
              "ticks": ""
             }
            },
            "type": "scatter"
           }
          ],
          "scatter3d": [
           {
            "line": {
             "colorbar": {
              "outlinewidth": 0,
              "ticks": ""
             }
            },
            "marker": {
             "colorbar": {
              "outlinewidth": 0,
              "ticks": ""
             }
            },
            "type": "scatter3d"
           }
          ],
          "scattercarpet": [
           {
            "marker": {
             "colorbar": {
              "outlinewidth": 0,
              "ticks": ""
             }
            },
            "type": "scattercarpet"
           }
          ],
          "scattergeo": [
           {
            "marker": {
             "colorbar": {
              "outlinewidth": 0,
              "ticks": ""
             }
            },
            "type": "scattergeo"
           }
          ],
          "scattergl": [
           {
            "marker": {
             "colorbar": {
              "outlinewidth": 0,
              "ticks": ""
             }
            },
            "type": "scattergl"
           }
          ],
          "scattermapbox": [
           {
            "marker": {
             "colorbar": {
              "outlinewidth": 0,
              "ticks": ""
             }
            },
            "type": "scattermapbox"
           }
          ],
          "scatterpolar": [
           {
            "marker": {
             "colorbar": {
              "outlinewidth": 0,
              "ticks": ""
             }
            },
            "type": "scatterpolar"
           }
          ],
          "scatterpolargl": [
           {
            "marker": {
             "colorbar": {
              "outlinewidth": 0,
              "ticks": ""
             }
            },
            "type": "scatterpolargl"
           }
          ],
          "scatterternary": [
           {
            "marker": {
             "colorbar": {
              "outlinewidth": 0,
              "ticks": ""
             }
            },
            "type": "scatterternary"
           }
          ],
          "surface": [
           {
            "colorbar": {
             "outlinewidth": 0,
             "ticks": ""
            },
            "colorscale": [
             [
              0,
              "#0d0887"
             ],
             [
              0.1111111111111111,
              "#46039f"
             ],
             [
              0.2222222222222222,
              "#7201a8"
             ],
             [
              0.3333333333333333,
              "#9c179e"
             ],
             [
              0.4444444444444444,
              "#bd3786"
             ],
             [
              0.5555555555555556,
              "#d8576b"
             ],
             [
              0.6666666666666666,
              "#ed7953"
             ],
             [
              0.7777777777777778,
              "#fb9f3a"
             ],
             [
              0.8888888888888888,
              "#fdca26"
             ],
             [
              1,
              "#f0f921"
             ]
            ],
            "type": "surface"
           }
          ],
          "table": [
           {
            "cells": {
             "fill": {
              "color": "#EBF0F8"
             },
             "line": {
              "color": "white"
             }
            },
            "header": {
             "fill": {
              "color": "#C8D4E3"
             },
             "line": {
              "color": "white"
             }
            },
            "type": "table"
           }
          ]
         },
         "layout": {
          "annotationdefaults": {
           "arrowcolor": "#2a3f5f",
           "arrowhead": 0,
           "arrowwidth": 1
          },
          "autotypenumbers": "strict",
          "coloraxis": {
           "colorbar": {
            "outlinewidth": 0,
            "ticks": ""
           }
          },
          "colorscale": {
           "diverging": [
            [
             0,
             "#8e0152"
            ],
            [
             0.1,
             "#c51b7d"
            ],
            [
             0.2,
             "#de77ae"
            ],
            [
             0.3,
             "#f1b6da"
            ],
            [
             0.4,
             "#fde0ef"
            ],
            [
             0.5,
             "#f7f7f7"
            ],
            [
             0.6,
             "#e6f5d0"
            ],
            [
             0.7,
             "#b8e186"
            ],
            [
             0.8,
             "#7fbc41"
            ],
            [
             0.9,
             "#4d9221"
            ],
            [
             1,
             "#276419"
            ]
           ],
           "sequential": [
            [
             0,
             "#0d0887"
            ],
            [
             0.1111111111111111,
             "#46039f"
            ],
            [
             0.2222222222222222,
             "#7201a8"
            ],
            [
             0.3333333333333333,
             "#9c179e"
            ],
            [
             0.4444444444444444,
             "#bd3786"
            ],
            [
             0.5555555555555556,
             "#d8576b"
            ],
            [
             0.6666666666666666,
             "#ed7953"
            ],
            [
             0.7777777777777778,
             "#fb9f3a"
            ],
            [
             0.8888888888888888,
             "#fdca26"
            ],
            [
             1,
             "#f0f921"
            ]
           ],
           "sequentialminus": [
            [
             0,
             "#0d0887"
            ],
            [
             0.1111111111111111,
             "#46039f"
            ],
            [
             0.2222222222222222,
             "#7201a8"
            ],
            [
             0.3333333333333333,
             "#9c179e"
            ],
            [
             0.4444444444444444,
             "#bd3786"
            ],
            [
             0.5555555555555556,
             "#d8576b"
            ],
            [
             0.6666666666666666,
             "#ed7953"
            ],
            [
             0.7777777777777778,
             "#fb9f3a"
            ],
            [
             0.8888888888888888,
             "#fdca26"
            ],
            [
             1,
             "#f0f921"
            ]
           ]
          },
          "colorway": [
           "#636efa",
           "#EF553B",
           "#00cc96",
           "#ab63fa",
           "#FFA15A",
           "#19d3f3",
           "#FF6692",
           "#B6E880",
           "#FF97FF",
           "#FECB52"
          ],
          "font": {
           "color": "#2a3f5f"
          },
          "geo": {
           "bgcolor": "white",
           "lakecolor": "white",
           "landcolor": "#E5ECF6",
           "showlakes": true,
           "showland": true,
           "subunitcolor": "white"
          },
          "hoverlabel": {
           "align": "left"
          },
          "hovermode": "closest",
          "mapbox": {
           "style": "light"
          },
          "paper_bgcolor": "white",
          "plot_bgcolor": "#E5ECF6",
          "polar": {
           "angularaxis": {
            "gridcolor": "white",
            "linecolor": "white",
            "ticks": ""
           },
           "bgcolor": "#E5ECF6",
           "radialaxis": {
            "gridcolor": "white",
            "linecolor": "white",
            "ticks": ""
           }
          },
          "scene": {
           "xaxis": {
            "backgroundcolor": "#E5ECF6",
            "gridcolor": "white",
            "gridwidth": 2,
            "linecolor": "white",
            "showbackground": true,
            "ticks": "",
            "zerolinecolor": "white"
           },
           "yaxis": {
            "backgroundcolor": "#E5ECF6",
            "gridcolor": "white",
            "gridwidth": 2,
            "linecolor": "white",
            "showbackground": true,
            "ticks": "",
            "zerolinecolor": "white"
           },
           "zaxis": {
            "backgroundcolor": "#E5ECF6",
            "gridcolor": "white",
            "gridwidth": 2,
            "linecolor": "white",
            "showbackground": true,
            "ticks": "",
            "zerolinecolor": "white"
           }
          },
          "shapedefaults": {
           "line": {
            "color": "#2a3f5f"
           }
          },
          "ternary": {
           "aaxis": {
            "gridcolor": "white",
            "linecolor": "white",
            "ticks": ""
           },
           "baxis": {
            "gridcolor": "white",
            "linecolor": "white",
            "ticks": ""
           },
           "bgcolor": "#E5ECF6",
           "caxis": {
            "gridcolor": "white",
            "linecolor": "white",
            "ticks": ""
           }
          },
          "title": {
           "x": 0.05
          },
          "xaxis": {
           "automargin": true,
           "gridcolor": "white",
           "linecolor": "white",
           "ticks": "",
           "title": {
            "standoff": 15
           },
           "zerolinecolor": "white",
           "zerolinewidth": 2
          },
          "yaxis": {
           "automargin": true,
           "gridcolor": "white",
           "linecolor": "white",
           "ticks": "",
           "title": {
            "standoff": 15
           },
           "zerolinecolor": "white",
           "zerolinewidth": 2
          }
         }
        },
        "xaxis": {
         "autorange": false,
         "range": [
          "2020-09-12 13:01:15.6535",
          "2020-12-12 13:01:15.6535"
         ],
         "rangeslider": {
          "visible": false,
          "yaxis": {}
         },
         "type": "date"
        },
        "yaxis": {
         "autorange": false,
         "range": [
          26.69962962962963,
          33.9662962962963
         ]
        }
       }
      },
      "image/png": "[encoded data removed]",
      "text/html": [
       "<div>                            <div id=\"3c1dd324-cac5-47d5-bd86-46870bb80f47\" class=\"plotly-graph-div\" style=\"height:525px; width:100%;\"></div>            <script type=\"text/javascript\">                require([\"plotly\"], function(Plotly) {                    window.PLOTLYENV=window.PLOTLYENV || {};                                    if (document.getElementById(\"3c1dd324-cac5-47d5-bd86-46870bb80f47\")) {                    Plotly.newPlot(                        \"3c1dd324-cac5-47d5-bd86-46870bb80f47\",                        [{\"close\":[28.12,28.0,28.07,28.02,28.12,28.14,28.0,27.98,28.06,28.01,28.33,28.5,28.71,28.64,28.78,28.59,28.61,28.75,28.39,28.39,28.15,28.27,29.04,29.56,30.3,30.39,30.61,30.62,31.57,32.86,33.61,32.26,32.4,32.7,32.47,32.25,32.77,32.83,33.09,33.0,33.11,32.94,32.6,33.2,32.67,33.58,33.4,33.07,33.03,33.92,33.78,33.64,33.52,33.63,33.05,32.77,32.95,33.14,33.68,33.55,33.33],\"high\":[28.22,28.35,28.23,28.32,28.25,28.3,28.19,28.14,28.27,28.16,28.35,28.6,28.82,28.83,28.78,28.66,28.91,28.99,28.77,28.55,28.45,28.69,29.24,29.76,30.38,31.0,30.73,30.75,32.56,32.97,33.68,32.26,32.48,33.22,32.99,32.79,32.96,33.06,33.15,33.25,33.25,33.39,33.28,33.52,33.27,33.68,33.75,33.55,33.25,34.12,34.37,34.03,33.69,33.86,33.69,33.2,33.04,33.17,33.69,33.69,33.66],\"low\":[27.87,27.9,27.91,27.95,27.83,28.05,27.94,27.91,27.99,27.97,28.0,28.13,28.56,28.54,28.5,28.5,28.52,28.65,28.17,28.1,28.0,28.23,28.41,29.21,29.41,30.22,30.16,30.43,31.25,31.97,32.94,31.68,32.01,32.24,32.47,32.15,32.15,32.72,32.75,32.94,32.96,32.82,32.5,32.65,32.57,32.64,33.17,33.04,32.66,33.03,33.66,33.42,33.02,33.3,33.01,32.03,32.7,32.73,33.16,33.37,33.21],\"open\":[28.06,28.12,28.11,28.2,28.08,28.18,28.08,28.08,28.02,28.0,28.05,28.32,28.61,28.71,28.62,28.64,28.6,28.66,28.6,28.43,28.39,28.55,28.47,29.35,29.49,30.71,30.35,30.61,31.26,32.2,33.5,31.89,32.16,32.3,32.51,32.78,32.36,32.77,32.83,33.09,33.02,33.22,32.98,32.73,33.27,32.72,33.59,33.34,33.25,33.09,34.06,33.88,33.56,33.53,33.65,32.67,32.86,33.0,33.26,33.69,33.62],\"type\":\"candlestick\",\"x\":[\"2020-10-01T00:00:00\",\"2020-10-02T00:00:00\",\"2020-10-05T00:00:00\",\"2020-10-06T00:00:00\",\"2020-10-07T00:00:00\",\"2020-10-08T00:00:00\",\"2020-10-09T00:00:00\",\"2020-10-13T00:00:00\",\"2020-10-14T00:00:00\",\"2020-10-15T00:00:00\",\"2020-10-16T00:00:00\",\"2020-10-19T00:00:00\",\"2020-10-20T00:00:00\",\"2020-10-21T00:00:00\",\"2020-10-22T00:00:00\",\"2020-10-23T00:00:00\",\"2020-10-26T00:00:00\",\"2020-10-27T00:00:00\",\"2020-10-28T00:00:00\",\"2020-10-29T00:00:00\",\"2020-10-30T00:00:00\",\"2020-11-03T00:00:00\",\"2020-11-04T00:00:00\",\"2020-11-05T00:00:00\",\"2020-11-06T00:00:00\",\"2020-11-09T00:00:00\",\"2020-11-10T00:00:00\",\"2020-11-11T00:00:00\",\"2020-11-12T00:00:00\",\"2020-11-13T00:00:00\",\"2020-11-16T00:00:00\",\"2020-11-17T00:00:00\",\"2020-11-18T00:00:00\",\"2020-11-19T00:00:00\",\"2020-11-20T00:00:00\",\"2020-11-23T00:00:00\",\"2020-11-24T00:00:00\",\"2020-11-25T00:00:00\",\"2020-11-26T00:00:00\",\"2020-11-27T00:00:00\",\"2020-11-30T00:00:00\",\"2020-12-01T00:00:00\",\"2020-12-02T00:00:00\",\"2020-12-03T00:00:00\",\"2020-12-04T00:00:00\",\"2020-12-07T00:00:00\",\"2020-12-08T00:00:00\",\"2020-12-09T00:00:00\",\"2020-12-10T00:00:00\",\"2020-12-11T00:00:00\",\"2020-12-14T00:00:00\",\"2020-12-15T00:00:00\",\"2020-12-16T00:00:00\",\"2020-12-17T00:00:00\",\"2020-12-18T00:00:00\",\"2020-12-21T00:00:00\",\"2020-12-22T00:00:00\",\"2020-12-23T00:00:00\",\"2020-12-28T00:00:00\",\"2020-12-29T00:00:00\",\"2020-12-30T00:00:00\"]}],                        {\"template\":{\"data\":{\"bar\":[{\"error_x\":{\"color\":\"#2a3f5f\"},\"error_y\":{\"color\":\"#2a3f5f\"},\"marker\":{\"line\":{\"color\":\"#E5ECF6\",\"width\":0.5},\"pattern\":{\"fillmode\":\"overlay\",\"size\":10,\"solidity\":0.2}},\"type\":\"bar\"}],\"barpolar\":[{\"marker\":{\"line\":{\"color\":\"#E5ECF6\",\"width\":0.5},\"pattern\":{\"fillmode\":\"overlay\",\"size\":10,\"solidity\":0.2}},\"type\":\"barpolar\"}],\"carpet\":[{\"aaxis\":{\"endlinecolor\":\"#2a3f5f\",\"gridcolor\":\"white\",\"linecolor\":\"white\",\"minorgridcolor\":\"white\",\"startlinecolor\":\"#2a3f5f\"},\"baxis\":{\"endlinecolor\":\"#2a3f5f\",\"gridcolor\":\"white\",\"linecolor\":\"white\",\"minorgridcolor\":\"white\",\"startlinecolor\":\"#2a3f5f\"},\"type\":\"carpet\"}],\"choropleth\":[{\"colorbar\":{\"outlinewidth\":0,\"ticks\":\"\"},\"type\":\"choropleth\"}],\"contour\":[{\"colorbar\":{\"outlinewidth\":0,\"ticks\":\"\"},\"colorscale\":[[0.0,\"#0d0887\"],[0.1111111111111111,\"#46039f\"],[0.2222222222222222,\"#7201a8\"],[0.3333333333333333,\"#9c179e\"],[0.4444444444444444,\"#bd3786\"],[0.5555555555555556,\"#d8576b\"],[0.6666666666666666,\"#ed7953\"],[0.7777777777777778,\"#fb9f3a\"],[0.8888888888888888,\"#fdca26\"],[1.0,\"#f0f921\"]],\"type\":\"contour\"}],\"contourcarpet\":[{\"colorbar\":{\"outlinewidth\":0,\"ticks\":\"\"},\"type\":\"contourcarpet\"}],\"heatmap\":[{\"colorbar\":{\"outlinewidth\":0,\"ticks\":\"\"},\"colorscale\":[[0.0,\"#0d0887\"],[0.1111111111111111,\"#46039f\"],[0.2222222222222222,\"#7201a8\"],[0.3333333333333333,\"#9c179e\"],[0.4444444444444444,\"#bd3786\"],[0.5555555555555556,\"#d8576b\"],[0.6666666666666666,\"#ed7953\"],[0.7777777777777778,\"#fb9f3a\"],[0.8888888888888888,\"#fdca26\"],[1.0,\"#f0f921\"]],\"type\":\"heatmap\"}],\"heatmapgl\":[{\"colorbar\":{\"outlinewidth\":0,\"ticks\":\"\"},\"colorscale\":[[0.0,\"#0d0887\"],[0.1111111111111111,\"#46039f\"],[0.2222222222222222,\"#7201a8\"],[0.3333333333333333,\"#9c179e\"],[0.4444444444444444,\"#bd3786\"],[0.5555555555555556,\"#d8576b\"],[0.6666666666666666,\"#ed7953\"],[0.7777777777777778,\"#fb9f3a\"],[0.8888888888888888,\"#fdca26\"],[1.0,\"#f0f921\"]],\"type\":\"heatmapgl\"}],\"histogram\":[{\"marker\":{\"pattern\":{\"fillmode\":\"overlay\",\"size\":10,\"solidity\":0.2}},\"type\":\"histogram\"}],\"histogram2d\":[{\"colorbar\":{\"outlinewidth\":0,\"ticks\":\"\"},\"colorscale\":[[0.0,\"#0d0887\"],[0.1111111111111111,\"#46039f\"],[0.2222222222222222,\"#7201a8\"],[0.3333333333333333,\"#9c179e\"],[0.4444444444444444,\"#bd3786\"],[0.5555555555555556,\"#d8576b\"],[0.6666666666666666,\"#ed7953\"],[0.7777777777777778,\"#fb9f3a\"],[0.8888888888888888,\"#fdca26\"],[1.0,\"#f0f921\"]],\"type\":\"histogram2d\"}],\"histogram2dcontour\":[{\"colorbar\":{\"outlinewidth\":0,\"ticks\":\"\"},\"colorscale\":[[0.0,\"#0d0887\"],[0.1111111111111111,\"#46039f\"],[0.2222222222222222,\"#7201a8\"],[0.3333333333333333,\"#9c179e\"],[0.4444444444444444,\"#bd3786\"],[0.5555555555555556,\"#d8576b\"],[0.6666666666666666,\"#ed7953\"],[0.7777777777777778,\"#fb9f3a\"],[0.8888888888888888,\"#fdca26\"],[1.0,\"#f0f921\"]],\"type\":\"histogram2dcontour\"}],\"mesh3d\":[{\"colorbar\":{\"outlinewidth\":0,\"ticks\":\"\"},\"type\":\"mesh3d\"}],\"parcoords\":[{\"line\":{\"colorbar\":{\"outlinewidth\":0,\"ticks\":\"\"}},\"type\":\"parcoords\"}],\"pie\":[{\"automargin\":true,\"type\":\"pie\"}],\"scatter\":[{\"marker\":{\"colorbar\":{\"outlinewidth\":0,\"ticks\":\"\"}},\"type\":\"scatter\"}],\"scatter3d\":[{\"line\":{\"colorbar\":{\"outlinewidth\":0,\"ticks\":\"\"}},\"marker\":{\"colorbar\":{\"outlinewidth\":0,\"ticks\":\"\"}},\"type\":\"scatter3d\"}],\"scattercarpet\":[{\"marker\":{\"colorbar\":{\"outlinewidth\":0,\"ticks\":\"\"}},\"type\":\"scattercarpet\"}],\"scattergeo\":[{\"marker\":{\"colorbar\":{\"outlinewidth\":0,\"ticks\":\"\"}},\"type\":\"scattergeo\"}],\"scattergl\":[{\"marker\":{\"colorbar\":{\"outlinewidth\":0,\"ticks\":\"\"}},\"type\":\"scattergl\"}],\"scattermapbox\":[{\"marker\":{\"colorbar\":{\"outlinewidth\":0,\"ticks\":\"\"}},\"type\":\"scattermapbox\"}],\"scatterpolar\":[{\"marker\":{\"colorbar\":{\"outlinewidth\":0,\"ticks\":\"\"}},\"type\":\"scatterpolar\"}],\"scatterpolargl\":[{\"marker\":{\"colorbar\":{\"outlinewidth\":0,\"ticks\":\"\"}},\"type\":\"scatterpolargl\"}],\"scatterternary\":[{\"marker\":{\"colorbar\":{\"outlinewidth\":0,\"ticks\":\"\"}},\"type\":\"scatterternary\"}],\"surface\":[{\"colorbar\":{\"outlinewidth\":0,\"ticks\":\"\"},\"colorscale\":[[0.0,\"#0d0887\"],[0.1111111111111111,\"#46039f\"],[0.2222222222222222,\"#7201a8\"],[0.3333333333333333,\"#9c179e\"],[0.4444444444444444,\"#bd3786\"],[0.5555555555555556,\"#d8576b\"],[0.6666666666666666,\"#ed7953\"],[0.7777777777777778,\"#fb9f3a\"],[0.8888888888888888,\"#fdca26\"],[1.0,\"#f0f921\"]],\"type\":\"surface\"}],\"table\":[{\"cells\":{\"fill\":{\"color\":\"#EBF0F8\"},\"line\":{\"color\":\"white\"}},\"header\":{\"fill\":{\"color\":\"#C8D4E3\"},\"line\":{\"color\":\"white\"}},\"type\":\"table\"}]},\"layout\":{\"annotationdefaults\":{\"arrowcolor\":\"#2a3f5f\",\"arrowhead\":0,\"arrowwidth\":1},\"autotypenumbers\":\"strict\",\"coloraxis\":{\"colorbar\":{\"outlinewidth\":0,\"ticks\":\"\"}},\"colorscale\":{\"diverging\":[[0,\"#8e0152\"],[0.1,\"#c51b7d\"],[0.2,\"#de77ae\"],[0.3,\"#f1b6da\"],[0.4,\"#fde0ef\"],[0.5,\"#f7f7f7\"],[0.6,\"#e6f5d0\"],[0.7,\"#b8e186\"],[0.8,\"#7fbc41\"],[0.9,\"#4d9221\"],[1,\"#276419\"]],\"sequential\":[[0.0,\"#0d0887\"],[0.1111111111111111,\"#46039f\"],[0.2222222222222222,\"#7201a8\"],[0.3333333333333333,\"#9c179e\"],[0.4444444444444444,\"#bd3786\"],[0.5555555555555556,\"#d8576b\"],[0.6666666666666666,\"#ed7953\"],[0.7777777777777778,\"#fb9f3a\"],[0.8888888888888888,\"#fdca26\"],[1.0,\"#f0f921\"]],\"sequentialminus\":[[0.0,\"#0d0887\"],[0.1111111111111111,\"#46039f\"],[0.2222222222222222,\"#7201a8\"],[0.3333333333333333,\"#9c179e\"],[0.4444444444444444,\"#bd3786\"],[0.5555555555555556,\"#d8576b\"],[0.6666666666666666,\"#ed7953\"],[0.7777777777777778,\"#fb9f3a\"],[0.8888888888888888,\"#fdca26\"],[1.0,\"#f0f921\"]]},\"colorway\":[\"#636efa\",\"#EF553B\",\"#00cc96\",\"#ab63fa\",\"#FFA15A\",\"#19d3f3\",\"#FF6692\",\"#B6E880\",\"#FF97FF\",\"#FECB52\"],\"font\":{\"color\":\"#2a3f5f\"},\"geo\":{\"bgcolor\":\"white\",\"lakecolor\":\"white\",\"landcolor\":\"#E5ECF6\",\"showlakes\":true,\"showland\":true,\"subunitcolor\":\"white\"},\"hoverlabel\":{\"align\":\"left\"},\"hovermode\":\"closest\",\"mapbox\":{\"style\":\"light\"},\"paper_bgcolor\":\"white\",\"plot_bgcolor\":\"#E5ECF6\",\"polar\":{\"angularaxis\":{\"gridcolor\":\"white\",\"linecolor\":\"white\",\"ticks\":\"\"},\"bgcolor\":\"#E5ECF6\",\"radialaxis\":{\"gridcolor\":\"white\",\"linecolor\":\"white\",\"ticks\":\"\"}},\"scene\":{\"xaxis\":{\"backgroundcolor\":\"#E5ECF6\",\"gridcolor\":\"white\",\"gridwidth\":2,\"linecolor\":\"white\",\"showbackground\":true,\"ticks\":\"\",\"zerolinecolor\":\"white\"},\"yaxis\":{\"backgroundcolor\":\"#E5ECF6\",\"gridcolor\":\"white\",\"gridwidth\":2,\"linecolor\":\"white\",\"showbackground\":true,\"ticks\":\"\",\"zerolinecolor\":\"white\"},\"zaxis\":{\"backgroundcolor\":\"#E5ECF6\",\"gridcolor\":\"white\",\"gridwidth\":2,\"linecolor\":\"white\",\"showbackground\":true,\"ticks\":\"\",\"zerolinecolor\":\"white\"}},\"shapedefaults\":{\"line\":{\"color\":\"#2a3f5f\"}},\"ternary\":{\"aaxis\":{\"gridcolor\":\"white\",\"linecolor\":\"white\",\"ticks\":\"\"},\"baxis\":{\"gridcolor\":\"white\",\"linecolor\":\"white\",\"ticks\":\"\"},\"bgcolor\":\"#E5ECF6\",\"caxis\":{\"gridcolor\":\"white\",\"linecolor\":\"white\",\"ticks\":\"\"}},\"title\":{\"x\":0.05},\"xaxis\":{\"automargin\":true,\"gridcolor\":\"white\",\"linecolor\":\"white\",\"ticks\":\"\",\"title\":{\"standoff\":15},\"zerolinecolor\":\"white\",\"zerolinewidth\":2},\"yaxis\":{\"automargin\":true,\"gridcolor\":\"white\",\"linecolor\":\"white\",\"ticks\":\"\",\"title\":{\"standoff\":15},\"zerolinecolor\":\"white\",\"zerolinewidth\":2}}},\"xaxis\":{\"rangeslider\":{\"visible\":false}}},                        {\"responsive\": true}                    ).then(function(){\n",
       "                            \n",
       "var gd = document.getElementById('3c1dd324-cac5-47d5-bd86-46870bb80f47');\n",
       "var x = new MutationObserver(function (mutations, observer) {{\n",
       "        var display = window.getComputedStyle(gd).display;\n",
       "        if (!display || display === 'none') {{\n",
       "            console.log([gd, 'removed!']);\n",
       "            Plotly.purge(gd);\n",
       "            observer.disconnect();\n",
       "        }}\n",
       "}});\n",
       "\n",
       "// Listen for the removal of the full notebook cells\n",
       "var notebookContainer = gd.closest('#notebook-container');\n",
       "if (notebookContainer) {{\n",
       "    x.observe(notebookContainer, {childList: true});\n",
       "}}\n",
       "\n",
       "// Listen for the clearing of the current output cell\n",
       "var outputEl = gd.closest('.output');\n",
       "if (outputEl) {{\n",
       "    x.observe(outputEl, {childList: true});\n",
       "}}\n",
       "\n",
       "                        })                };                });            </script>        </div>"
      ]
     },
     "metadata": {},
     "output_type": "display_data"
    }
   ],
   "source": [
    "#Analisando Outliers TAEE11\n",
    "#print(df_historico.query(\"CODIGO_NEGOCIACAO == 'TAEE11'\").sort_values('PRECO_FECHAMENTO', ascending=False).head(30))\n",
    "#print(df_historico.query(\"CODIGO_NEGOCIACAO == 'TAEE11'\").mean())\n",
    "#print(df_historico.query(\"CODIGO_NEGOCIACAO == 'TAEE11'\").min())\n",
    "#print(df_historico.query(\"CODIGO_NEGOCIACAO == 'TAEE11'\").max())\n",
    "\n",
    "df_teste = df_historico.query(\"CODIGO_NEGOCIACAO == 'TAEE11'\")\n",
    "df_teste = df_teste.reset_index()\n",
    "\n",
    "df_teste = df_teste.query(\"DATA_PREGAO >= '2020-10-01'\")\n",
    "print(df_teste)\n",
    "\n",
    "fig = go.Figure(data=[go.Candlestick(x=df_teste['DATA_PREGAO'],\n",
    "                open=df_teste['PRECO_ABERTURA'], high=df_teste['PRECO_MAXIMO'],\n",
    "                low=df_teste['PRECO_MINIMO'], close=df_teste['PRECO_FECHAMENTO'])\n",
    "                     ])\n",
    "\n",
    "fig.update_layout(xaxis_rangeslider_visible=False)\n",
    "fig.show()\n",
    "\n"
   ]
  },
  {
   "cell_type": "markdown",
   "id": "4b6acd72-1457-4e98-9d38-c98012842eb5",
   "metadata": {},
   "source": [
    "### Dataframe Statusinvest Dividendos"
   ]
  },
  {
   "cell_type": "code",
   "execution_count": 12,
   "id": "04c728ff-7ef5-43b5-87b6-de71b267aabd",
   "metadata": {},
   "outputs": [
    {
     "data": {
      "text/html": [
       "<div>\n",
       "<style scoped>\n",
       "    .dataframe tbody tr th:only-of-type {\n",
       "        vertical-align: middle;\n",
       "    }\n",
       "\n",
       "    .dataframe tbody tr th {\n",
       "        vertical-align: top;\n",
       "    }\n",
       "\n",
       "    .dataframe thead th {\n",
       "        text-align: right;\n",
       "    }\n",
       "</style>\n",
       "<table border=\"1\" class=\"dataframe\">\n",
       "  <thead>\n",
       "    <tr style=\"text-align: right;\">\n",
       "      <th></th>\n",
       "      <th>DIVIDENDO</th>\n",
       "    </tr>\n",
       "  </thead>\n",
       "  <tbody>\n",
       "    <tr>\n",
       "      <th>count</th>\n",
       "      <td>282.000000</td>\n",
       "    </tr>\n",
       "    <tr>\n",
       "      <th>mean</th>\n",
       "      <td>0.251447</td>\n",
       "    </tr>\n",
       "    <tr>\n",
       "      <th>std</th>\n",
       "      <td>0.283556</td>\n",
       "    </tr>\n",
       "    <tr>\n",
       "      <th>min</th>\n",
       "      <td>0.001333</td>\n",
       "    </tr>\n",
       "    <tr>\n",
       "      <th>25%</th>\n",
       "      <td>0.067711</td>\n",
       "    </tr>\n",
       "    <tr>\n",
       "      <th>50%</th>\n",
       "      <td>0.168290</td>\n",
       "    </tr>\n",
       "    <tr>\n",
       "      <th>75%</th>\n",
       "      <td>0.318664</td>\n",
       "    </tr>\n",
       "    <tr>\n",
       "      <th>max</th>\n",
       "      <td>1.631192</td>\n",
       "    </tr>\n",
       "  </tbody>\n",
       "</table>\n",
       "</div>"
      ],
      "text/plain": [
       "        DIVIDENDO\n",
       "count  282.000000\n",
       "mean     0.251447\n",
       "std      0.283556\n",
       "min      0.001333\n",
       "25%      0.067711\n",
       "50%      0.168290\n",
       "75%      0.318664\n",
       "max      1.631192"
      ]
     },
     "execution_count": 12,
     "metadata": {},
     "output_type": "execute_result"
    }
   ],
   "source": [
    "#Descrever dataset\n",
    "df_dividendos.describe()"
   ]
  },
  {
   "cell_type": "code",
   "execution_count": 13,
   "id": "ad34045c-24cd-4e50-bfc3-790f5acf89c9",
   "metadata": {},
   "outputs": [
    {
     "data": {
      "text/plain": [
       "True"
      ]
     },
     "execution_count": 13,
     "metadata": {},
     "output_type": "execute_result"
    }
   ],
   "source": [
    "#Verificando duplicidades no index\n",
    "df_dividendos.index.has_duplicates"
   ]
  },
  {
   "cell_type": "code",
   "execution_count": 14,
   "id": "66af3b48-e308-4026-9683-ed152c2f76f8",
   "metadata": {},
   "outputs": [
    {
     "data": {
      "text/html": [
       "<div>\n",
       "<style scoped>\n",
       "    .dataframe tbody tr th:only-of-type {\n",
       "        vertical-align: middle;\n",
       "    }\n",
       "\n",
       "    .dataframe tbody tr th {\n",
       "        vertical-align: top;\n",
       "    }\n",
       "\n",
       "    .dataframe thead th {\n",
       "        text-align: right;\n",
       "    }\n",
       "</style>\n",
       "<table border=\"1\" class=\"dataframe\">\n",
       "  <thead>\n",
       "    <tr style=\"text-align: right;\">\n",
       "      <th></th>\n",
       "      <th></th>\n",
       "      <th>DIVIDENDO</th>\n",
       "    </tr>\n",
       "    <tr>\n",
       "      <th>DATA_PREGAO</th>\n",
       "      <th>CODIGO_NEGOCIACAO</th>\n",
       "      <th></th>\n",
       "    </tr>\n",
       "  </thead>\n",
       "  <tbody>\n",
       "    <tr>\n",
       "      <th rowspan=\"2\" valign=\"top\">2021-05-18</th>\n",
       "      <th>TAEE11</th>\n",
       "      <td>0.188691</td>\n",
       "    </tr>\n",
       "    <tr>\n",
       "      <th>TAEE11</th>\n",
       "      <td>1.165672</td>\n",
       "    </tr>\n",
       "    <tr>\n",
       "      <th>2021-05-04</th>\n",
       "      <th>TAEE11</th>\n",
       "      <td>1.631192</td>\n",
       "    </tr>\n",
       "    <tr>\n",
       "      <th>2020-12-15</th>\n",
       "      <th>TAEE11</th>\n",
       "      <td>0.157382</td>\n",
       "    </tr>\n",
       "    <tr>\n",
       "      <th>2020-11-16</th>\n",
       "      <th>TAEE11</th>\n",
       "      <td>1.192376</td>\n",
       "    </tr>\n",
       "    <tr>\n",
       "      <th>...</th>\n",
       "      <th>...</th>\n",
       "      <td>...</td>\n",
       "    </tr>\n",
       "    <tr>\n",
       "      <th rowspan=\"2\" valign=\"top\">2011-04-29</th>\n",
       "      <th>CMIG4</th>\n",
       "      <td>0.876728</td>\n",
       "    </tr>\n",
       "    <tr>\n",
       "      <th>CMIG4</th>\n",
       "      <td>0.876728</td>\n",
       "    </tr>\n",
       "    <tr>\n",
       "      <th>2010-12-16</th>\n",
       "      <th>CMIG4</th>\n",
       "      <td>1.319409</td>\n",
       "    </tr>\n",
       "    <tr>\n",
       "      <th rowspan=\"2\" valign=\"top\">2010-04-29</th>\n",
       "      <th>CMIG4</th>\n",
       "      <td>0.750430</td>\n",
       "    </tr>\n",
       "    <tr>\n",
       "      <th>CMIG4</th>\n",
       "      <td>0.750430</td>\n",
       "    </tr>\n",
       "  </tbody>\n",
       "</table>\n",
       "<p>282 rows × 1 columns</p>\n",
       "</div>"
      ],
      "text/plain": [
       "                               DIVIDENDO\n",
       "DATA_PREGAO CODIGO_NEGOCIACAO           \n",
       "2021-05-18  TAEE11              0.188691\n",
       "            TAEE11              1.165672\n",
       "2021-05-04  TAEE11              1.631192\n",
       "2020-12-15  TAEE11              0.157382\n",
       "2020-11-16  TAEE11              1.192376\n",
       "...                                  ...\n",
       "2011-04-29  CMIG4               0.876728\n",
       "            CMIG4               0.876728\n",
       "2010-12-16  CMIG4               1.319409\n",
       "2010-04-29  CMIG4               0.750430\n",
       "            CMIG4               0.750430\n",
       "\n",
       "[282 rows x 1 columns]"
      ]
     },
     "execution_count": 14,
     "metadata": {},
     "output_type": "execute_result"
    }
   ],
   "source": [
    "#Exibindo as duplicidades\n",
    "df_dividendos.groupby(level=1).filter(lambda x: len(x) > 2)"
   ]
  },
  {
   "cell_type": "code",
   "execution_count": 15,
   "id": "f0a08424-c61d-4d9e-b04d-e8c964a00546",
   "metadata": {},
   "outputs": [
    {
     "data": {
      "text/plain": [
       "False"
      ]
     },
     "execution_count": 15,
     "metadata": {},
     "output_type": "execute_result"
    }
   ],
   "source": [
    "#Resolvendo as duplicidades\n",
    "df_dividendos = df_dividendos.groupby(by=['DATA_PREGAO', 'CODIGO_NEGOCIACAO']).sum()\n",
    "df_dividendos.index.has_duplicates"
   ]
  },
  {
   "cell_type": "code",
   "execution_count": 16,
   "id": "668f4537-b221-4f11-a47e-43c61ef9711c",
   "metadata": {},
   "outputs": [
    {
     "data": {
      "text/html": [
       "<div>\n",
       "<style scoped>\n",
       "    .dataframe tbody tr th:only-of-type {\n",
       "        vertical-align: middle;\n",
       "    }\n",
       "\n",
       "    .dataframe tbody tr th {\n",
       "        vertical-align: top;\n",
       "    }\n",
       "\n",
       "    .dataframe thead th {\n",
       "        text-align: right;\n",
       "    }\n",
       "</style>\n",
       "<table border=\"1\" class=\"dataframe\">\n",
       "  <thead>\n",
       "    <tr style=\"text-align: right;\">\n",
       "      <th></th>\n",
       "      <th>DIVIDENDO</th>\n",
       "    </tr>\n",
       "  </thead>\n",
       "  <tbody>\n",
       "    <tr>\n",
       "      <th>count</th>\n",
       "      <td>224.000000</td>\n",
       "    </tr>\n",
       "    <tr>\n",
       "      <th>mean</th>\n",
       "      <td>0.316554</td>\n",
       "    </tr>\n",
       "    <tr>\n",
       "      <th>std</th>\n",
       "      <td>0.431195</td>\n",
       "    </tr>\n",
       "    <tr>\n",
       "      <th>min</th>\n",
       "      <td>0.005950</td>\n",
       "    </tr>\n",
       "    <tr>\n",
       "      <th>25%</th>\n",
       "      <td>0.069904</td>\n",
       "    </tr>\n",
       "    <tr>\n",
       "      <th>50%</th>\n",
       "      <td>0.181439</td>\n",
       "    </tr>\n",
       "    <tr>\n",
       "      <th>75%</th>\n",
       "      <td>0.409015</td>\n",
       "    </tr>\n",
       "    <tr>\n",
       "      <th>max</th>\n",
       "      <td>3.870266</td>\n",
       "    </tr>\n",
       "  </tbody>\n",
       "</table>\n",
       "</div>"
      ],
      "text/plain": [
       "        DIVIDENDO\n",
       "count  224.000000\n",
       "mean     0.316554\n",
       "std      0.431195\n",
       "min      0.005950\n",
       "25%      0.069904\n",
       "50%      0.181439\n",
       "75%      0.409015\n",
       "max      3.870266"
      ]
     },
     "execution_count": 16,
     "metadata": {},
     "output_type": "execute_result"
    }
   ],
   "source": [
    "#Descrever dataset\n",
    "df_dividendos.describe()"
   ]
  },
  {
   "cell_type": "code",
   "execution_count": 17,
   "id": "2569e528-2c34-4067-a589-696a5c3bd25f",
   "metadata": {},
   "outputs": [
    {
     "data": {
      "text/plain": [
       "<AxesSubplot:xlabel='CODIGO_NEGOCIACAO', ylabel='DIVIDENDO'>"
      ]
     },
     "execution_count": 17,
     "metadata": {},
     "output_type": "execute_result"
    },
    {
     "data": {
      "image/png": "[encoded data removed]",
      "text/plain": [
       "<Figure size 432x288 with 1 Axes>"
      ]
     },
     "metadata": {},
     "output_type": "display_data"
    }
   ],
   "source": [
    "# Verificando outliers, porém esta informação já é esperada a pagamentos esporádicos\n",
    "sb.boxplot(x = 'CODIGO_NEGOCIACAO', y='DIVIDENDO', data = df_dividendos.reset_index(), fliersize=5)"
   ]
  },
  {
   "cell_type": "code",
   "execution_count": 18,
   "id": "45906c42-7eb2-4f34-96b7-eb3578b0ed38",
   "metadata": {},
   "outputs": [
    {
     "data": {
      "text/html": [
       "<div>\n",
       "<style scoped>\n",
       "    .dataframe tbody tr th:only-of-type {\n",
       "        vertical-align: middle;\n",
       "    }\n",
       "\n",
       "    .dataframe tbody tr th {\n",
       "        vertical-align: top;\n",
       "    }\n",
       "\n",
       "    .dataframe thead th {\n",
       "        text-align: right;\n",
       "    }\n",
       "</style>\n",
       "<table border=\"1\" class=\"dataframe\">\n",
       "  <thead>\n",
       "    <tr style=\"text-align: right;\">\n",
       "      <th></th>\n",
       "      <th>DATA_PREGAO</th>\n",
       "      <th>CODIGO_NEGOCIACAO</th>\n",
       "      <th>DIVIDENDO</th>\n",
       "    </tr>\n",
       "  </thead>\n",
       "  <tbody>\n",
       "    <tr>\n",
       "      <th>0</th>\n",
       "      <td>2010-01-01</td>\n",
       "      <td>ITSA4</td>\n",
       "      <td>0.035000</td>\n",
       "    </tr>\n",
       "    <tr>\n",
       "      <th>1</th>\n",
       "      <td>2010-02-25</td>\n",
       "      <td>BBAS3</td>\n",
       "      <td>0.466812</td>\n",
       "    </tr>\n",
       "    <tr>\n",
       "      <th>2</th>\n",
       "      <td>2010-03-02</td>\n",
       "      <td>ITSA4</td>\n",
       "      <td>0.181457</td>\n",
       "    </tr>\n",
       "    <tr>\n",
       "      <th>3</th>\n",
       "      <td>2010-03-24</td>\n",
       "      <td>BBAS3</td>\n",
       "      <td>0.201718</td>\n",
       "    </tr>\n",
       "    <tr>\n",
       "      <th>4</th>\n",
       "      <td>2010-04-29</td>\n",
       "      <td>CMIG4</td>\n",
       "      <td>1.500860</td>\n",
       "    </tr>\n",
       "    <tr>\n",
       "      <th>...</th>\n",
       "      <td>...</td>\n",
       "      <td>...</td>\n",
       "      <td>...</td>\n",
       "    </tr>\n",
       "    <tr>\n",
       "      <th>219</th>\n",
       "      <td>2021-05-31</td>\n",
       "      <td>ITSA4</td>\n",
       "      <td>0.020000</td>\n",
       "    </tr>\n",
       "    <tr>\n",
       "      <th>220</th>\n",
       "      <td>2021-06-11</td>\n",
       "      <td>BBAS3</td>\n",
       "      <td>0.168519</td>\n",
       "    </tr>\n",
       "    <tr>\n",
       "      <th>221</th>\n",
       "      <td>2021-08-31</td>\n",
       "      <td>ITSA4</td>\n",
       "      <td>0.020000</td>\n",
       "    </tr>\n",
       "    <tr>\n",
       "      <th>222</th>\n",
       "      <td>2021-11-30</td>\n",
       "      <td>ITSA4</td>\n",
       "      <td>0.020000</td>\n",
       "    </tr>\n",
       "    <tr>\n",
       "      <th>223</th>\n",
       "      <td>2022-02-28</td>\n",
       "      <td>ITSA4</td>\n",
       "      <td>0.020000</td>\n",
       "    </tr>\n",
       "  </tbody>\n",
       "</table>\n",
       "<p>224 rows × 3 columns</p>\n",
       "</div>"
      ],
      "text/plain": [
       "    DATA_PREGAO CODIGO_NEGOCIACAO  DIVIDENDO\n",
       "0    2010-01-01             ITSA4   0.035000\n",
       "1    2010-02-25             BBAS3   0.466812\n",
       "2    2010-03-02             ITSA4   0.181457\n",
       "3    2010-03-24             BBAS3   0.201718\n",
       "4    2010-04-29             CMIG4   1.500860\n",
       "..          ...               ...        ...\n",
       "219  2021-05-31             ITSA4   0.020000\n",
       "220  2021-06-11             BBAS3   0.168519\n",
       "221  2021-08-31             ITSA4   0.020000\n",
       "222  2021-11-30             ITSA4   0.020000\n",
       "223  2022-02-28             ITSA4   0.020000\n",
       "\n",
       "[224 rows x 3 columns]"
      ]
     },
     "execution_count": 18,
     "metadata": {},
     "output_type": "execute_result"
    }
   ],
   "source": [
    "df_dividendos.reset_index()"
   ]
  },
  {
   "cell_type": "markdown",
   "id": "c30a4589-c1f3-43d1-b365-b4ab5bc14bc6",
   "metadata": {},
   "source": [
    "### Fazendo o merge dos dados"
   ]
  },
  {
   "cell_type": "code",
   "execution_count": 19,
   "id": "bd8430ee",
   "metadata": {},
   "outputs": [],
   "source": [
    "#Fazendo o join dos datasets\n",
    "df_dados = df_historico.join(df_dividendos, how='left')"
   ]
  },
  {
   "cell_type": "markdown",
   "id": "c0962732-0a2c-4467-b6fc-10eeb68363ee",
   "metadata": {},
   "source": [
    "# ***********************************************************************************"
   ]
  },
  {
   "cell_type": "code",
   "execution_count": 20,
   "id": "c74c0fd6",
   "metadata": {},
   "outputs": [
    {
     "data": {
      "text/html": [
       "<div>\n",
       "<style scoped>\n",
       "    .dataframe tbody tr th:only-of-type {\n",
       "        vertical-align: middle;\n",
       "    }\n",
       "\n",
       "    .dataframe tbody tr th {\n",
       "        vertical-align: top;\n",
       "    }\n",
       "\n",
       "    .dataframe thead th {\n",
       "        text-align: right;\n",
       "    }\n",
       "</style>\n",
       "<table border=\"1\" class=\"dataframe\">\n",
       "  <thead>\n",
       "    <tr style=\"text-align: right;\">\n",
       "      <th></th>\n",
       "      <th>DIVIDENDO</th>\n",
       "    </tr>\n",
       "  </thead>\n",
       "  <tbody>\n",
       "    <tr>\n",
       "      <th>count</th>\n",
       "      <td>224.000000</td>\n",
       "    </tr>\n",
       "    <tr>\n",
       "      <th>mean</th>\n",
       "      <td>0.316554</td>\n",
       "    </tr>\n",
       "    <tr>\n",
       "      <th>std</th>\n",
       "      <td>0.431195</td>\n",
       "    </tr>\n",
       "    <tr>\n",
       "      <th>min</th>\n",
       "      <td>0.005950</td>\n",
       "    </tr>\n",
       "    <tr>\n",
       "      <th>25%</th>\n",
       "      <td>0.069904</td>\n",
       "    </tr>\n",
       "    <tr>\n",
       "      <th>50%</th>\n",
       "      <td>0.181439</td>\n",
       "    </tr>\n",
       "    <tr>\n",
       "      <th>75%</th>\n",
       "      <td>0.409015</td>\n",
       "    </tr>\n",
       "    <tr>\n",
       "      <th>max</th>\n",
       "      <td>3.870266</td>\n",
       "    </tr>\n",
       "  </tbody>\n",
       "</table>\n",
       "</div>"
      ],
      "text/plain": [
       "        DIVIDENDO\n",
       "count  224.000000\n",
       "mean     0.316554\n",
       "std      0.431195\n",
       "min      0.005950\n",
       "25%      0.069904\n",
       "50%      0.181439\n",
       "75%      0.409015\n",
       "max      3.870266"
      ]
     },
     "execution_count": 20,
     "metadata": {},
     "output_type": "execute_result"
    }
   ],
   "source": [
    "df_dividendos.describe()"
   ]
  },
  {
   "cell_type": "code",
   "execution_count": 21,
   "id": "cb9386f1",
   "metadata": {},
   "outputs": [
    {
     "data": {
      "text/html": [
       "<div>\n",
       "<style scoped>\n",
       "    .dataframe tbody tr th:only-of-type {\n",
       "        vertical-align: middle;\n",
       "    }\n",
       "\n",
       "    .dataframe tbody tr th {\n",
       "        vertical-align: top;\n",
       "    }\n",
       "\n",
       "    .dataframe thead th {\n",
       "        text-align: right;\n",
       "    }\n",
       "</style>\n",
       "<table border=\"1\" class=\"dataframe\">\n",
       "  <thead>\n",
       "    <tr style=\"text-align: right;\">\n",
       "      <th></th>\n",
       "      <th>PRECO_ABERTURA</th>\n",
       "      <th>PRECO_MAXIMO</th>\n",
       "      <th>PRECO_MINIMO</th>\n",
       "      <th>PRECO_FECHAMENTO</th>\n",
       "      <th>VOLUME_NEGOCIOS</th>\n",
       "      <th>DIVIDENDO</th>\n",
       "    </tr>\n",
       "  </thead>\n",
       "  <tbody>\n",
       "    <tr>\n",
       "      <th>count</th>\n",
       "      <td>1988.000000</td>\n",
       "      <td>1988.000000</td>\n",
       "      <td>1988.000000</td>\n",
       "      <td>1988.000000</td>\n",
       "      <td>1.988000e+03</td>\n",
       "      <td>43.000000</td>\n",
       "    </tr>\n",
       "    <tr>\n",
       "      <th>mean</th>\n",
       "      <td>23.732334</td>\n",
       "      <td>24.040900</td>\n",
       "      <td>23.381393</td>\n",
       "      <td>23.703808</td>\n",
       "      <td>2.728617e+10</td>\n",
       "      <td>0.286240</td>\n",
       "    </tr>\n",
       "    <tr>\n",
       "      <th>std</th>\n",
       "      <td>13.451120</td>\n",
       "      <td>13.611395</td>\n",
       "      <td>13.268047</td>\n",
       "      <td>13.432458</td>\n",
       "      <td>2.521435e+10</td>\n",
       "      <td>0.280646</td>\n",
       "    </tr>\n",
       "    <tr>\n",
       "      <th>min</th>\n",
       "      <td>7.790000</td>\n",
       "      <td>8.270000</td>\n",
       "      <td>7.440000</td>\n",
       "      <td>7.530000</td>\n",
       "      <td>1.061603e+09</td>\n",
       "      <td>0.005950</td>\n",
       "    </tr>\n",
       "    <tr>\n",
       "      <th>25%</th>\n",
       "      <td>12.645000</td>\n",
       "      <td>12.810000</td>\n",
       "      <td>12.477500</td>\n",
       "      <td>12.640000</td>\n",
       "      <td>8.715156e+09</td>\n",
       "      <td>0.090346</td>\n",
       "    </tr>\n",
       "    <tr>\n",
       "      <th>50%</th>\n",
       "      <td>19.910000</td>\n",
       "      <td>20.240000</td>\n",
       "      <td>18.795000</td>\n",
       "      <td>19.050000</td>\n",
       "      <td>1.866680e+10</td>\n",
       "      <td>0.181421</td>\n",
       "    </tr>\n",
       "    <tr>\n",
       "      <th>75%</th>\n",
       "      <td>30.702500</td>\n",
       "      <td>31.140000</td>\n",
       "      <td>30.272500</td>\n",
       "      <td>30.790000</td>\n",
       "      <td>3.944671e+10</td>\n",
       "      <td>0.440534</td>\n",
       "    </tr>\n",
       "    <tr>\n",
       "      <th>max</th>\n",
       "      <td>55.600000</td>\n",
       "      <td>55.910000</td>\n",
       "      <td>54.820000</td>\n",
       "      <td>55.180000</td>\n",
       "      <td>2.170666e+11</td>\n",
       "      <td>1.361942</td>\n",
       "    </tr>\n",
       "  </tbody>\n",
       "</table>\n",
       "</div>"
      ],
      "text/plain": [
       "       PRECO_ABERTURA  PRECO_MAXIMO  PRECO_MINIMO  PRECO_FECHAMENTO  \\\n",
       "count     1988.000000   1988.000000   1988.000000       1988.000000   \n",
       "mean        23.732334     24.040900     23.381393         23.703808   \n",
       "std         13.451120     13.611395     13.268047         13.432458   \n",
       "min          7.790000      8.270000      7.440000          7.530000   \n",
       "25%         12.645000     12.810000     12.477500         12.640000   \n",
       "50%         19.910000     20.240000     18.795000         19.050000   \n",
       "75%         30.702500     31.140000     30.272500         30.790000   \n",
       "max         55.600000     55.910000     54.820000         55.180000   \n",
       "\n",
       "       VOLUME_NEGOCIOS  DIVIDENDO  \n",
       "count     1.988000e+03  43.000000  \n",
       "mean      2.728617e+10   0.286240  \n",
       "std       2.521435e+10   0.280646  \n",
       "min       1.061603e+09   0.005950  \n",
       "25%       8.715156e+09   0.090346  \n",
       "50%       1.866680e+10   0.181421  \n",
       "75%       3.944671e+10   0.440534  \n",
       "max       2.170666e+11   1.361942  "
      ]
     },
     "execution_count": 21,
     "metadata": {},
     "output_type": "execute_result"
    }
   ],
   "source": [
    "df_dados.describe()"
   ]
  },
  {
   "cell_type": "code",
   "execution_count": 22,
   "id": "60bd96ce",
   "metadata": {},
   "outputs": [
    {
     "data": {
      "text/plain": [
       "PRECO_ABERTURA         0\n",
       "PRECO_MAXIMO           0\n",
       "PRECO_MINIMO           0\n",
       "PRECO_FECHAMENTO       0\n",
       "VOLUME_NEGOCIOS        0\n",
       "DIVIDENDO           1945\n",
       "dtype: int64"
      ]
     },
     "execution_count": 22,
     "metadata": {},
     "output_type": "execute_result"
    }
   ],
   "source": [
    "#Verificando ddados nulos\n",
    "df_dados.isnull().sum()"
   ]
  },
  {
   "cell_type": "code",
   "execution_count": 23,
   "id": "f1908406-bc40-4d88-82db-c3e8009e61b5",
   "metadata": {},
   "outputs": [
    {
     "data": {
      "text/plain": [
       "PRECO_ABERTURA      0\n",
       "PRECO_MAXIMO        0\n",
       "PRECO_MINIMO        0\n",
       "PRECO_FECHAMENTO    0\n",
       "VOLUME_NEGOCIOS     0\n",
       "DIVIDENDO           0\n",
       "dtype: int64"
      ]
     },
     "execution_count": 23,
     "metadata": {},
     "output_type": "execute_result"
    }
   ],
   "source": [
    "df_dados['DIVIDENDO'] = df_dados['DIVIDENDO'].fillna(0)\n",
    "df_dados.isnull().sum()"
   ]
  },
  {
   "cell_type": "code",
   "execution_count": 24,
   "id": "dfa9ec68-e032-4362-9bc8-6cd2cce24092",
   "metadata": {},
   "outputs": [],
   "source": [
    "df_dados['DIVIDENDO_ACUMULADO'] = df_dados['DIVIDENDO'].cumsum(axis='index')"
   ]
  },
  {
   "cell_type": "code",
   "execution_count": 25,
   "id": "e46ebff7-360b-4e51-bb0b-69d03febd1c6",
   "metadata": {},
   "outputs": [
    {
     "data": {
      "text/html": [
       "<div>\n",
       "<style scoped>\n",
       "    .dataframe tbody tr th:only-of-type {\n",
       "        vertical-align: middle;\n",
       "    }\n",
       "\n",
       "    .dataframe tbody tr th {\n",
       "        vertical-align: top;\n",
       "    }\n",
       "\n",
       "    .dataframe thead th {\n",
       "        text-align: right;\n",
       "    }\n",
       "</style>\n",
       "<table border=\"1\" class=\"dataframe\">\n",
       "  <thead>\n",
       "    <tr style=\"text-align: right;\">\n",
       "      <th></th>\n",
       "      <th></th>\n",
       "      <th>PRECO_ABERTURA</th>\n",
       "      <th>PRECO_MAXIMO</th>\n",
       "      <th>PRECO_MINIMO</th>\n",
       "      <th>PRECO_FECHAMENTO</th>\n",
       "      <th>VOLUME_NEGOCIOS</th>\n",
       "      <th>DIVIDENDO</th>\n",
       "      <th>DIVIDENDO_ACUMULADO</th>\n",
       "    </tr>\n",
       "    <tr>\n",
       "      <th>DATA_PREGAO</th>\n",
       "      <th>CODIGO_NEGOCIACAO</th>\n",
       "      <th></th>\n",
       "      <th></th>\n",
       "      <th></th>\n",
       "      <th></th>\n",
       "      <th></th>\n",
       "      <th></th>\n",
       "      <th></th>\n",
       "    </tr>\n",
       "  </thead>\n",
       "  <tbody>\n",
       "    <tr>\n",
       "      <th rowspan=\"4\" valign=\"top\">2020-12-30</th>\n",
       "      <th>BBAS3</th>\n",
       "      <td>39.28</td>\n",
       "      <td>39.35</td>\n",
       "      <td>38.66</td>\n",
       "      <td>38.80</td>\n",
       "      <td>3.345375e+10</td>\n",
       "      <td>0.000000</td>\n",
       "      <td>12.022767</td>\n",
       "    </tr>\n",
       "    <tr>\n",
       "      <th>CMIG4</th>\n",
       "      <td>14.49</td>\n",
       "      <td>14.66</td>\n",
       "      <td>14.35</td>\n",
       "      <td>14.56</td>\n",
       "      <td>1.252789e+10</td>\n",
       "      <td>0.285533</td>\n",
       "      <td>12.308301</td>\n",
       "    </tr>\n",
       "    <tr>\n",
       "      <th>ITSA4</th>\n",
       "      <td>11.89</td>\n",
       "      <td>11.94</td>\n",
       "      <td>11.70</td>\n",
       "      <td>11.73</td>\n",
       "      <td>2.822217e+10</td>\n",
       "      <td>0.000000</td>\n",
       "      <td>12.308301</td>\n",
       "    </tr>\n",
       "    <tr>\n",
       "      <th>TAEE11</th>\n",
       "      <td>33.62</td>\n",
       "      <td>33.66</td>\n",
       "      <td>33.21</td>\n",
       "      <td>33.33</td>\n",
       "      <td>7.136604e+09</td>\n",
       "      <td>0.000000</td>\n",
       "      <td>12.308301</td>\n",
       "    </tr>\n",
       "  </tbody>\n",
       "</table>\n",
       "</div>"
      ],
      "text/plain": [
       "                               PRECO_ABERTURA  PRECO_MAXIMO  PRECO_MINIMO  \\\n",
       "DATA_PREGAO CODIGO_NEGOCIACAO                                               \n",
       "2020-12-30  BBAS3                       39.28         39.35         38.66   \n",
       "            CMIG4                       14.49         14.66         14.35   \n",
       "            ITSA4                       11.89         11.94         11.70   \n",
       "            TAEE11                      33.62         33.66         33.21   \n",
       "\n",
       "                               PRECO_FECHAMENTO  VOLUME_NEGOCIOS  DIVIDENDO  \\\n",
       "DATA_PREGAO CODIGO_NEGOCIACAO                                                 \n",
       "2020-12-30  BBAS3                         38.80     3.345375e+10   0.000000   \n",
       "            CMIG4                         14.56     1.252789e+10   0.285533   \n",
       "            ITSA4                         11.73     2.822217e+10   0.000000   \n",
       "            TAEE11                        33.33     7.136604e+09   0.000000   \n",
       "\n",
       "                               DIVIDENDO_ACUMULADO  \n",
       "DATA_PREGAO CODIGO_NEGOCIACAO                       \n",
       "2020-12-30  BBAS3                        12.022767  \n",
       "            CMIG4                        12.308301  \n",
       "            ITSA4                        12.308301  \n",
       "            TAEE11                       12.308301  "
      ]
     },
     "execution_count": 25,
     "metadata": {},
     "output_type": "execute_result"
    }
   ],
   "source": [
    "# Verificando que ao realizar o merge cada ação pode ter mais de um pagamento por dia\n",
    "df_dados.query(\"DATA_PREGAO == '2020-12-30'\")"
   ]
  },
  {
   "cell_type": "code",
   "execution_count": null,
   "id": "a21d1510-e9b8-4677-bd97-05c811930cce",
   "metadata": {},
   "outputs": [],
   "source": [
    "\n"
   ]
  },
  {
   "cell_type": "code",
   "execution_count": 26,
   "id": "1fba61e9-2dc3-4cc8-8ac1-c6999e506cb7",
   "metadata": {},
   "outputs": [
    {
     "data": {
      "text/html": [
       "<div>\n",
       "<style scoped>\n",
       "    .dataframe tbody tr th:only-of-type {\n",
       "        vertical-align: middle;\n",
       "    }\n",
       "\n",
       "    .dataframe tbody tr th {\n",
       "        vertical-align: top;\n",
       "    }\n",
       "\n",
       "    .dataframe thead th {\n",
       "        text-align: right;\n",
       "    }\n",
       "</style>\n",
       "<table border=\"1\" class=\"dataframe\">\n",
       "  <thead>\n",
       "    <tr style=\"text-align: right;\">\n",
       "      <th></th>\n",
       "      <th></th>\n",
       "      <th>DIVIDENDO</th>\n",
       "    </tr>\n",
       "    <tr>\n",
       "      <th>DATA_PREGAO</th>\n",
       "      <th>CODIGO_NEGOCIACAO</th>\n",
       "      <th></th>\n",
       "    </tr>\n",
       "  </thead>\n",
       "  <tbody>\n",
       "    <tr>\n",
       "      <th>2020-12-30</th>\n",
       "      <th>CMIG4</th>\n",
       "      <td>0.285533</td>\n",
       "    </tr>\n",
       "  </tbody>\n",
       "</table>\n",
       "</div>"
      ],
      "text/plain": [
       "                               DIVIDENDO\n",
       "DATA_PREGAO CODIGO_NEGOCIACAO           \n",
       "2020-12-30  CMIG4               0.285533"
      ]
     },
     "execution_count": 26,
     "metadata": {},
     "output_type": "execute_result"
    }
   ],
   "source": [
    "df_dividendos.query(\"DATA_PREGAO == '2020-12-30'\")"
   ]
  },
  {
   "cell_type": "code",
   "execution_count": 27,
   "id": "7f369f45-8130-4a59-99b7-4b7fbf28495c",
   "metadata": {},
   "outputs": [
    {
     "data": {
      "text/html": [
       "<div>\n",
       "<style scoped>\n",
       "    .dataframe tbody tr th:only-of-type {\n",
       "        vertical-align: middle;\n",
       "    }\n",
       "\n",
       "    .dataframe tbody tr th {\n",
       "        vertical-align: top;\n",
       "    }\n",
       "\n",
       "    .dataframe thead th {\n",
       "        text-align: right;\n",
       "    }\n",
       "</style>\n",
       "<table border=\"1\" class=\"dataframe\">\n",
       "  <thead>\n",
       "    <tr style=\"text-align: right;\">\n",
       "      <th></th>\n",
       "      <th></th>\n",
       "      <th>PRECO_ABERTURA</th>\n",
       "      <th>PRECO_MAXIMO</th>\n",
       "      <th>PRECO_MINIMO</th>\n",
       "      <th>PRECO_FECHAMENTO</th>\n",
       "      <th>VOLUME_NEGOCIOS</th>\n",
       "      <th>DIVIDENDO</th>\n",
       "    </tr>\n",
       "    <tr>\n",
       "      <th>DATA_PREGAO</th>\n",
       "      <th>CODIGO_NEGOCIACAO</th>\n",
       "      <th></th>\n",
       "      <th></th>\n",
       "      <th></th>\n",
       "      <th></th>\n",
       "      <th></th>\n",
       "      <th></th>\n",
       "    </tr>\n",
       "  </thead>\n",
       "  <tbody>\n",
       "    <tr>\n",
       "      <th rowspan=\"4\" valign=\"top\">2020-12-30</th>\n",
       "      <th>BBAS3</th>\n",
       "      <td>39.28</td>\n",
       "      <td>39.35</td>\n",
       "      <td>38.66</td>\n",
       "      <td>38.80</td>\n",
       "      <td>3.345375e+10</td>\n",
       "      <td>NaN</td>\n",
       "    </tr>\n",
       "    <tr>\n",
       "      <th>CMIG4</th>\n",
       "      <td>14.49</td>\n",
       "      <td>14.66</td>\n",
       "      <td>14.35</td>\n",
       "      <td>14.56</td>\n",
       "      <td>1.252789e+10</td>\n",
       "      <td>0.285533</td>\n",
       "    </tr>\n",
       "    <tr>\n",
       "      <th>ITSA4</th>\n",
       "      <td>11.89</td>\n",
       "      <td>11.94</td>\n",
       "      <td>11.70</td>\n",
       "      <td>11.73</td>\n",
       "      <td>2.822217e+10</td>\n",
       "      <td>NaN</td>\n",
       "    </tr>\n",
       "    <tr>\n",
       "      <th>TAEE11</th>\n",
       "      <td>33.62</td>\n",
       "      <td>33.66</td>\n",
       "      <td>33.21</td>\n",
       "      <td>33.33</td>\n",
       "      <td>7.136604e+09</td>\n",
       "      <td>NaN</td>\n",
       "    </tr>\n",
       "  </tbody>\n",
       "</table>\n",
       "</div>"
      ],
      "text/plain": [
       "                               PRECO_ABERTURA  PRECO_MAXIMO  PRECO_MINIMO  \\\n",
       "DATA_PREGAO CODIGO_NEGOCIACAO                                               \n",
       "2020-12-30  BBAS3                       39.28         39.35         38.66   \n",
       "            CMIG4                       14.49         14.66         14.35   \n",
       "            ITSA4                       11.89         11.94         11.70   \n",
       "            TAEE11                      33.62         33.66         33.21   \n",
       "\n",
       "                               PRECO_FECHAMENTO  VOLUME_NEGOCIOS  DIVIDENDO  \n",
       "DATA_PREGAO CODIGO_NEGOCIACAO                                                \n",
       "2020-12-30  BBAS3                         38.80     3.345375e+10        NaN  \n",
       "            CMIG4                         14.56     1.252789e+10   0.285533  \n",
       "            ITSA4                         11.73     2.822217e+10        NaN  \n",
       "            TAEE11                        33.33     7.136604e+09        NaN  "
      ]
     },
     "execution_count": 27,
     "metadata": {},
     "output_type": "execute_result"
    }
   ],
   "source": [
    "#Realizando o join novamente agora com as informações sem duplicidade\n",
    "df_dados = df_historico.join(df_dividendos, how='left')\n",
    "# Verificando que ao realizar o merge cada ação pode ter mais de um pagamento por dia\n",
    "df_dados.query(\"DATA_PREGAO == '2020-12-30'\")"
   ]
  }
 ],
 "metadata": {
  "kernelspec": {
   "display_name": "Python 3",
   "language": "python",
   "name": "python3"
  },
  "language_info": {
   "codemirror_mode": {
    "name": "ipython",
    "version": 3
   },
   "file_extension": ".py",
   "mimetype": "text/x-python",
   "name": "python",
   "nbconvert_exporter": "python",
   "pygments_lexer": "ipython3",
   "version": "3.9.4"
  }
 },
 "nbformat": 4,
 "nbformat_minor": 5
}
