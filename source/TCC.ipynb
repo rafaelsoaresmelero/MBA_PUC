{
 "cells": [
  {
   "cell_type": "code",
   "execution_count": 1,
   "id": "bea81398",
   "metadata": {},
   "outputs": [],
   "source": [
    "import yfinance as yf"
   ]
  },
  {
   "cell_type": "code",
   "execution_count": 15,
   "id": "ce734901",
   "metadata": {},
   "outputs": [],
   "source": [
    "df = yf.Ticker(\"taee11.sa\")"
   ]
  },
  {
   "cell_type": "code",
   "execution_count": 16,
   "id": "03b846c6",
   "metadata": {},
   "outputs": [],
   "source": [
    "df_balanco = df.quarterly_balance_sheet"
   ]
  },
  {
   "cell_type": "code",
   "execution_count": 17,
   "id": "f32314b0",
   "metadata": {},
   "outputs": [
    {
     "data": {
      "text/plain": [
       "\n",
       "2018-03-31    float64\n",
       "2017-12-31    float64\n",
       "2017-09-30    float64\n",
       "2017-06-30    float64\n",
       "dtype: object"
      ]
     },
     "execution_count": 17,
     "metadata": {},
     "output_type": "execute_result"
    }
   ],
   "source": [
    "df_balanco.dtypes"
   ]
  }
 ],
 "metadata": {
  "kernelspec": {
   "display_name": "Python 3",
   "language": "python",
   "name": "python3"
  },
  "language_info": {
   "codemirror_mode": {
    "name": "ipython",
    "version": 3
   },
   "file_extension": ".py",
   "mimetype": "text/x-python",
   "name": "python",
   "nbconvert_exporter": "python",
   "pygments_lexer": "ipython3",
   "version": "3.9.4"
  }
 },
 "nbformat": 4,
 "nbformat_minor": 5
}
